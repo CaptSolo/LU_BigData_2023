{
 "cells": [
  {
   "cell_type": "markdown",
   "metadata": {},
   "source": [
    "## Python Introduction with some detours\n",
    "![Python](https://www.python.org/static/community_logos/python-logo-generic.svg)"
   ]
  },
  {
   "cell_type": "markdown",
   "metadata": {},
   "source": [
    "![xkcd](https://imgs.xkcd.com/comics/python.png)"
   ]
  },
  {
   "cell_type": "markdown",
   "metadata": {},
   "source": [
    "# Table of Contents <a class=\"anchor\" id=\"toc\">\n",
    "\n",
    "* [Hello World](#hello-world)\n",
    "* [Introduction](#python-intro)\n",
    "* [Jupyter Basics](#jupyter-basics)\n",
    "* [Variables](#variables)\n",
    "* [Arithmetic](#arithmetic)\n",
    "* [Program Flow Control](#flow-control)\n",
    "* [Functions](#functions)\n",
    "* [Libraries](#libraries)\n",
    "* [Crucial Python Ideas](#python-ideas)\n",
    "* [Learning Resources](#learning-resources)\n",
    "    \n",
    "This notebook is based on the [Python Introduction notebook](https://github.com/ValRCS/LU_PySem_2019/blob/master/Python%20Introduction.ipynb) by Valdis Saulespurēns."
   ]
  },
  {
   "cell_type": "markdown",
   "metadata": {},
   "source": [
    "## Hello World <a class=\"anchor\" id=\"hello-world\">\n",
    "    \n",
    "   [Back to Table of Contents](#toc)"
   ]
  },
  {
   "cell_type": "code",
   "execution_count": 1,
   "metadata": {},
   "outputs": [
    {
     "name": "stdout",
     "output_type": "stream",
     "text": [
      "Hello world!\n"
     ]
    }
   ],
   "source": [
    "print(\"Hello world!\")"
   ]
  },
  {
   "cell_type": "code",
   "execution_count": null,
   "metadata": {},
   "outputs": [],
   "source": [
    "print(\"Hello Uldis!\")"
   ]
  },
  {
   "cell_type": "code",
   "execution_count": 2,
   "metadata": {},
   "outputs": [
    {
     "name": "stdout",
     "output_type": "stream",
     "text": [
      "Hello Uldis\n"
     ]
    }
   ],
   "source": [
    "name = \"Uldis\"\n",
    "\n",
    "print(\"Hello\", name)"
   ]
  },
  {
   "cell_type": "code",
   "execution_count": null,
   "metadata": {},
   "outputs": [],
   "source": [
    "### Try printing a greeting of your own!"
   ]
  },
  {
   "cell_type": "code",
   "execution_count": 3,
   "metadata": {},
   "outputs": [
    {
     "ename": "NameError",
     "evalue": "name 'printf' is not defined",
     "output_type": "error",
     "traceback": [
      "\u001b[0;31m---------------------------------------------------------------------------\u001b[0m",
      "\u001b[0;31mNameError\u001b[0m                                 Traceback (most recent call last)",
      "\u001b[0;32m<ipython-input-3-73d116cd3aff>\u001b[0m in \u001b[0;36m<module>\u001b[0;34m\u001b[0m\n\u001b[1;32m      1\u001b[0m \u001b[0;31m### What Happens when you get an error?\u001b[0m\u001b[0;34m\u001b[0m\u001b[0;34m\u001b[0m\u001b[0;34m\u001b[0m\u001b[0m\n\u001b[0;32m----> 2\u001b[0;31m \u001b[0mprintf\u001b[0m\u001b[0;34m(\u001b[0m\u001b[0;34m\"this will not work\"\u001b[0m\u001b[0;34m)\u001b[0m\u001b[0;34m\u001b[0m\u001b[0;34m\u001b[0m\u001b[0m\n\u001b[0m\u001b[1;32m      3\u001b[0m \u001b[0;34m\u001b[0m\u001b[0m\n\u001b[1;32m      4\u001b[0m \u001b[0;31m# Error messages are nothing to be afraid of,\u001b[0m\u001b[0;34m\u001b[0m\u001b[0;34m\u001b[0m\u001b[0;34m\u001b[0m\u001b[0m\n\u001b[1;32m      5\u001b[0m \u001b[0;31m# usually the message will explain what needs fixing!\u001b[0m\u001b[0;34m\u001b[0m\u001b[0;34m\u001b[0m\u001b[0;34m\u001b[0m\u001b[0m\n",
      "\u001b[0;31mNameError\u001b[0m: name 'printf' is not defined"
     ]
    }
   ],
   "source": [
    "### What Happens when you get an error?\n",
    "printf(\"this will not work\")\n",
    "\n",
    "# Error messages are nothing to be afraid of, \n",
    "# usually the message will explain what needs fixing!"
   ]
  },
  {
   "cell_type": "code",
   "execution_count": null,
   "metadata": {},
   "outputs": [],
   "source": []
  },
  {
   "cell_type": "code",
   "execution_count": null,
   "metadata": {},
   "outputs": [],
   "source": [
    "# This is a comment\n",
    "# Real Program Comments should generally describe why\n",
    "# Here comments will describe extra information not covered or needed for starting out\n",
    "\n",
    "# REPL(Read,Eval,Print, Loop) \n",
    "# Python - Interpreted Language(commands executed as they come)"
   ]
  },
  {
   "cell_type": "markdown",
   "metadata": {},
   "source": [
    "## Introduction <a class=\"anchor\" id=\"python-intro\">\n",
    "    \n",
    "[Back to Table of Contents](#toc)\n"
   ]
  },
  {
   "cell_type": "markdown",
   "metadata": {},
   "source": [
    "### Python created by Guido von Rossum in early 1990s\n",
    "#### Guido later worked at Google,Dropbox\n",
    "\n",
    "![Guido](https://upload.wikimedia.org/wikipedia/commons/thumb/d/d0/Guido-portrait-2014-curvves.jpg/290px-Guido-portrait-2014-curvves.jpg)\n",
    "\n",
    "### Language reference: https://docs.python.org/3/index.html\n",
    "\n",
    "---"
   ]
  },
  {
   "cell_type": "markdown",
   "metadata": {},
   "source": [
    "### Why Python?\n",
    "\n",
    "* Readability\n",
    "* Glue Language(APIs)\n",
    "* From Startups to Google and Facebook\n",
    "* \"Batteries included\"\n",
    "\n",
    "#### Python is now programming language # 3 in TIOBE language index (as of March 2020)\n",
    "https://www.tiobe.com/tiobe-index/\n",
    "\n",
    "---"
   ]
  },
  {
   "cell_type": "markdown",
   "metadata": {},
   "source": [
    "### Anaconda Python distribution\n",
    "* https://www.anaconda.com/download/"
   ]
  },
  {
   "cell_type": "markdown",
   "metadata": {},
   "source": [
    "## Jupyter Basics <a class=\"anchor\" id=\"jupyter-basics\">\n",
    "    \n",
    "[Back to Table of Contents](#toc)\n",
    "\n",
    "\n",
    "* Esc-M turns cell into Markdown cell for formatting (https://guides.github.com/pdfs/markdown-cheatsheet-online.pdf)\n",
    "* Esc-Y turns cell into code cell(default)\n",
    "\n",
    "\n",
    "* Ctrl-Enter runs code of cell in place\n",
    "* Alt-Enter runs code for current cell and creates a new cell below\n",
    "* Esc-A creates a new cell above current cell\n",
    "* Esc-B creates a new cell below current cell\n",
    "* Esc-dd deletes current cell"
   ]
  },
  {
   "cell_type": "code",
   "execution_count": null,
   "metadata": {},
   "outputs": [],
   "source": [
    "# Try Esc-B to create a new cell, \n",
    "# Enter: print(\"Hello everyone!\")\n",
    "\n",
    "# Press Ctrl-Enter\n",
    "# Did you get any error messages?"
   ]
  },
  {
   "cell_type": "code",
   "execution_count": null,
   "metadata": {},
   "outputs": [],
   "source": [
    "# Try Esc-B then Esc-M to creat a Markdown cell and write some text"
   ]
  },
  {
   "cell_type": "markdown",
   "metadata": {},
   "source": [
    "### This is a Markdown cell\n",
    "\n",
    "#### [Markdown Basics](https://guides.github.com/features/mastering-markdown/)\n",
    "\n",
    "#### Example: 4th level heading\n",
    "\n",
    "* Unordered list item 1 - **bold**\n",
    "* List item 2 - *italic*\n",
    "\n"
   ]
  },
  {
   "cell_type": "markdown",
   "metadata": {},
   "source": [
    "## Variables <a class=\"anchor\" id=\"variables\">\n",
    "    \n",
    "[Back to Table of Contents](#toc)"
   ]
  },
  {
   "cell_type": "code",
   "execution_count": 5,
   "metadata": {},
   "outputs": [],
   "source": [
    "myname=\"Valdis\"\n",
    "# Creating our first variable will persist through this workbook once it is run"
   ]
  },
  {
   "cell_type": "code",
   "execution_count": 6,
   "metadata": {},
   "outputs": [],
   "source": [
    "myname = 1"
   ]
  },
  {
   "cell_type": "code",
   "execution_count": 7,
   "metadata": {},
   "outputs": [
    {
     "name": "stdout",
     "output_type": "stream",
     "text": [
      "1\n"
     ]
    }
   ],
   "source": [
    "print(myname)"
   ]
  },
  {
   "cell_type": "code",
   "execution_count": 8,
   "metadata": {},
   "outputs": [
    {
     "data": {
      "text/plain": [
       "2020"
      ]
     },
     "execution_count": 8,
     "metadata": {},
     "output_type": "execute_result"
    }
   ],
   "source": [
    "y = 2020\n",
    "y"
   ]
  },
  {
   "cell_type": "code",
   "execution_count": 9,
   "metadata": {},
   "outputs": [],
   "source": [
    "theAnswer = 42"
   ]
  },
  {
   "cell_type": "code",
   "execution_count": 10,
   "metadata": {},
   "outputs": [],
   "source": [
    "largeNum = 19405890729025723957202457349066936690734736730"
   ]
  },
  {
   "cell_type": "code",
   "execution_count": 11,
   "metadata": {},
   "outputs": [
    {
     "name": "stdout",
     "output_type": "stream",
     "text": [
      "19405890729025723957202457349066936690734736730\n"
     ]
    }
   ],
   "source": [
    "print(largeNum)"
   ]
  },
  {
   "cell_type": "code",
   "execution_count": 12,
   "metadata": {},
   "outputs": [],
   "source": [
    "myPi = 3.14159"
   ]
  },
  {
   "cell_type": "code",
   "execution_count": 13,
   "metadata": {},
   "outputs": [],
   "source": [
    "isHot = True"
   ]
  },
  {
   "cell_type": "code",
   "execution_count": 14,
   "metadata": {},
   "outputs": [
    {
     "data": {
      "text/plain": [
       "True"
      ]
     },
     "execution_count": 14,
     "metadata": {},
     "output_type": "execute_result"
    }
   ],
   "source": [
    "isHot"
   ]
  },
  {
   "cell_type": "code",
   "execution_count": 15,
   "metadata": {},
   "outputs": [
    {
     "name": "stdout",
     "output_type": "stream",
     "text": [
      "It is really hot!\n"
     ]
    }
   ],
   "source": [
    "if isHot:\n",
    "    print(\"It is really hot!\")"
   ]
  },
  {
   "cell_type": "code",
   "execution_count": 16,
   "metadata": {},
   "outputs": [
    {
     "data": {
      "text/plain": [
       "int"
      ]
     },
     "execution_count": 16,
     "metadata": {},
     "output_type": "execute_result"
    }
   ],
   "source": [
    "# type(variableName) will return variable data type\n",
    "type(theAnswer)"
   ]
  },
  {
   "cell_type": "code",
   "execution_count": 17,
   "metadata": {},
   "outputs": [
    {
     "name": "stdout",
     "output_type": "stream",
     "text": [
      "Help on int object:\n",
      "\n",
      "class int(object)\n",
      " |  int([x]) -> integer\n",
      " |  int(x, base=10) -> integer\n",
      " |  \n",
      " |  Convert a number or string to an integer, or return 0 if no arguments\n",
      " |  are given.  If x is a number, return x.__int__().  For floating point\n",
      " |  numbers, this truncates towards zero.\n",
      " |  \n",
      " |  If x is not a number or if base is given, then x must be a string,\n",
      " |  bytes, or bytearray instance representing an integer literal in the\n",
      " |  given base.  The literal can be preceded by '+' or '-' and be surrounded\n",
      " |  by whitespace.  The base defaults to 10.  Valid bases are 0 and 2-36.\n",
      " |  Base 0 means to interpret the base from the string as an integer literal.\n",
      " |  >>> int('0b100', base=0)\n",
      " |  4\n",
      " |  \n",
      " |  Methods defined here:\n",
      " |  \n",
      " |  __abs__(self, /)\n",
      " |      abs(self)\n",
      " |  \n",
      " |  __add__(self, value, /)\n",
      " |      Return self+value.\n",
      " |  \n",
      " |  __and__(self, value, /)\n",
      " |      Return self&value.\n",
      " |  \n",
      " |  __bool__(self, /)\n",
      " |      self != 0\n",
      " |  \n",
      " |  __ceil__(...)\n",
      " |      Ceiling of an Integral returns itself.\n",
      " |  \n",
      " |  __divmod__(self, value, /)\n",
      " |      Return divmod(self, value).\n",
      " |  \n",
      " |  __eq__(self, value, /)\n",
      " |      Return self==value.\n",
      " |  \n",
      " |  __float__(self, /)\n",
      " |      float(self)\n",
      " |  \n",
      " |  __floor__(...)\n",
      " |      Flooring an Integral returns itself.\n",
      " |  \n",
      " |  __floordiv__(self, value, /)\n",
      " |      Return self//value.\n",
      " |  \n",
      " |  __format__(self, format_spec, /)\n",
      " |      Default object formatter.\n",
      " |  \n",
      " |  __ge__(self, value, /)\n",
      " |      Return self>=value.\n",
      " |  \n",
      " |  __getattribute__(self, name, /)\n",
      " |      Return getattr(self, name).\n",
      " |  \n",
      " |  __getnewargs__(self, /)\n",
      " |  \n",
      " |  __gt__(self, value, /)\n",
      " |      Return self>value.\n",
      " |  \n",
      " |  __hash__(self, /)\n",
      " |      Return hash(self).\n",
      " |  \n",
      " |  __index__(self, /)\n",
      " |      Return self converted to an integer, if self is suitable for use as an index into a list.\n",
      " |  \n",
      " |  __int__(self, /)\n",
      " |      int(self)\n",
      " |  \n",
      " |  __invert__(self, /)\n",
      " |      ~self\n",
      " |  \n",
      " |  __le__(self, value, /)\n",
      " |      Return self<=value.\n",
      " |  \n",
      " |  __lshift__(self, value, /)\n",
      " |      Return self<<value.\n",
      " |  \n",
      " |  __lt__(self, value, /)\n",
      " |      Return self<value.\n",
      " |  \n",
      " |  __mod__(self, value, /)\n",
      " |      Return self%value.\n",
      " |  \n",
      " |  __mul__(self, value, /)\n",
      " |      Return self*value.\n",
      " |  \n",
      " |  __ne__(self, value, /)\n",
      " |      Return self!=value.\n",
      " |  \n",
      " |  __neg__(self, /)\n",
      " |      -self\n",
      " |  \n",
      " |  __or__(self, value, /)\n",
      " |      Return self|value.\n",
      " |  \n",
      " |  __pos__(self, /)\n",
      " |      +self\n",
      " |  \n",
      " |  __pow__(self, value, mod=None, /)\n",
      " |      Return pow(self, value, mod).\n",
      " |  \n",
      " |  __radd__(self, value, /)\n",
      " |      Return value+self.\n",
      " |  \n",
      " |  __rand__(self, value, /)\n",
      " |      Return value&self.\n",
      " |  \n",
      " |  __rdivmod__(self, value, /)\n",
      " |      Return divmod(value, self).\n",
      " |  \n",
      " |  __repr__(self, /)\n",
      " |      Return repr(self).\n",
      " |  \n",
      " |  __rfloordiv__(self, value, /)\n",
      " |      Return value//self.\n",
      " |  \n",
      " |  __rlshift__(self, value, /)\n",
      " |      Return value<<self.\n",
      " |  \n",
      " |  __rmod__(self, value, /)\n",
      " |      Return value%self.\n",
      " |  \n",
      " |  __rmul__(self, value, /)\n",
      " |      Return value*self.\n",
      " |  \n",
      " |  __ror__(self, value, /)\n",
      " |      Return value|self.\n",
      " |  \n",
      " |  __round__(...)\n",
      " |      Rounding an Integral returns itself.\n",
      " |      Rounding with an ndigits argument also returns an integer.\n",
      " |  \n",
      " |  __rpow__(self, value, mod=None, /)\n",
      " |      Return pow(value, self, mod).\n",
      " |  \n",
      " |  __rrshift__(self, value, /)\n",
      " |      Return value>>self.\n",
      " |  \n",
      " |  __rshift__(self, value, /)\n",
      " |      Return self>>value.\n",
      " |  \n",
      " |  __rsub__(self, value, /)\n",
      " |      Return value-self.\n",
      " |  \n",
      " |  __rtruediv__(self, value, /)\n",
      " |      Return value/self.\n",
      " |  \n",
      " |  __rxor__(self, value, /)\n",
      " |      Return value^self.\n",
      " |  \n",
      " |  __sizeof__(self, /)\n",
      " |      Returns size in memory, in bytes.\n",
      " |  \n",
      " |  __str__(self, /)\n",
      " |      Return str(self).\n",
      " |  \n",
      " |  __sub__(self, value, /)\n",
      " |      Return self-value.\n",
      " |  \n",
      " |  __truediv__(self, value, /)\n",
      " |      Return self/value.\n",
      " |  \n",
      " |  __trunc__(...)\n",
      " |      Truncating an Integral returns itself.\n",
      " |  \n",
      " |  __xor__(self, value, /)\n",
      " |      Return self^value.\n",
      " |  \n",
      " |  bit_length(self, /)\n",
      " |      Number of bits necessary to represent self in binary.\n",
      " |      \n",
      " |      >>> bin(37)\n",
      " |      '0b100101'\n",
      " |      >>> (37).bit_length()\n",
      " |      6\n",
      " |  \n",
      " |  conjugate(...)\n",
      " |      Returns self, the complex conjugate of any int.\n",
      " |  \n",
      " |  to_bytes(self, /, length, byteorder, *, signed=False)\n",
      " |      Return an array of bytes representing an integer.\n",
      " |      \n",
      " |      length\n",
      " |        Length of bytes object to use.  An OverflowError is raised if the\n",
      " |        integer is not representable with the given number of bytes.\n",
      " |      byteorder\n",
      " |        The byte order used to represent the integer.  If byteorder is 'big',\n",
      " |        the most significant byte is at the beginning of the byte array.  If\n",
      " |        byteorder is 'little', the most significant byte is at the end of the\n",
      " |        byte array.  To request the native byte order of the host system, use\n",
      " |        `sys.byteorder' as the byte order value.\n",
      " |      signed\n",
      " |        Determines whether two's complement is used to represent the integer.\n",
      " |        If signed is False and a negative integer is given, an OverflowError\n",
      " |        is raised.\n",
      " |  \n",
      " |  ----------------------------------------------------------------------\n",
      " |  Class methods defined here:\n",
      " |  \n",
      " |  from_bytes(bytes, byteorder, *, signed=False) from builtins.type\n",
      " |      Return the integer represented by the given array of bytes.\n",
      " |      \n",
      " |      bytes\n",
      " |        Holds the array of bytes to convert.  The argument must either\n",
      " |        support the buffer protocol or be an iterable object producing bytes.\n",
      " |        Bytes and bytearray are examples of built-in objects that support the\n",
      " |        buffer protocol.\n",
      " |      byteorder\n",
      " |        The byte order used to represent the integer.  If byteorder is 'big',\n",
      " |        the most significant byte is at the beginning of the byte array.  If\n",
      " |        byteorder is 'little', the most significant byte is at the end of the\n",
      " |        byte array.  To request the native byte order of the host system, use\n",
      " |        `sys.byteorder' as the byte order value.\n",
      " |      signed\n",
      " |        Indicates whether two's complement is used to represent the integer.\n",
      " |  \n",
      " |  ----------------------------------------------------------------------\n",
      " |  Static methods defined here:\n",
      " |  \n",
      " |  __new__(*args, **kwargs) from builtins.type\n",
      " |      Create and return a new object.  See help(type) for accurate signature.\n",
      " |  \n",
      " |  ----------------------------------------------------------------------\n",
      " |  Data descriptors defined here:\n",
      " |  \n",
      " |  denominator\n",
      " |      the denominator of a rational number in lowest terms\n",
      " |  \n",
      " |  imag\n",
      " |      the imaginary part of a complex number\n",
      " |  \n",
      " |  numerator\n",
      " |      the numerator of a rational number in lowest terms\n",
      " |  \n",
      " |  real\n",
      " |      the real part of a complex number\n",
      "\n"
     ]
    }
   ],
   "source": [
    "help(theAnswer)"
   ]
  },
  {
   "cell_type": "code",
   "execution_count": null,
   "metadata": {},
   "outputs": [],
   "source": [
    "# What is the data type of myName ?\n",
    "# How about data type of isHot ?"
   ]
  },
  {
   "cell_type": "code",
   "execution_count": 18,
   "metadata": {},
   "outputs": [],
   "source": [
    "theAnswer = \"My answer\""
   ]
  },
  {
   "cell_type": "code",
   "execution_count": 19,
   "metadata": {},
   "outputs": [
    {
     "data": {
      "text/plain": [
       "str"
      ]
     },
     "execution_count": 19,
     "metadata": {},
     "output_type": "execute_result"
    }
   ],
   "source": [
    "type(theAnswer)"
   ]
  },
  {
   "cell_type": "code",
   "execution_count": 20,
   "metadata": {},
   "outputs": [
    {
     "name": "stdout",
     "output_type": "stream",
     "text": [
      "\n",
      "Here is a list of the Python keywords.  Enter any keyword to get more help.\n",
      "\n",
      "False               class               from                or\n",
      "None                continue            global              pass\n",
      "True                def                 if                  raise\n",
      "and                 del                 import              return\n",
      "as                  elif                in                  try\n",
      "assert              else                is                  while\n",
      "async               except              lambda              with\n",
      "await               finally             nonlocal            yield\n",
      "break               for                 not                 \n",
      "\n"
     ]
    }
   ],
   "source": [
    "# Variables cannot be reserved keywords\n",
    "help(\"keywords\")"
   ]
  },
  {
   "cell_type": "code",
   "execution_count": 21,
   "metadata": {},
   "outputs": [
    {
     "name": "stdout",
     "output_type": "stream",
     "text": [
      "The \"if\" statement\n",
      "******************\n",
      "\n",
      "The \"if\" statement is used for conditional execution:\n",
      "\n",
      "   if_stmt ::= \"if\" expression \":\" suite\n",
      "               (\"elif\" expression \":\" suite)*\n",
      "               [\"else\" \":\" suite]\n",
      "\n",
      "It selects exactly one of the suites by evaluating the expressions one\n",
      "by one until one is found to be true (see section Boolean operations\n",
      "for the definition of true and false); then that suite is executed\n",
      "(and no other part of the \"if\" statement is executed or evaluated).\n",
      "If all expressions are false, the suite of the \"else\" clause, if\n",
      "present, is executed.\n",
      "\n",
      "Related help topics: TRUTHVALUE\n",
      "\n"
     ]
    }
   ],
   "source": [
    "# we can always ask for help:\n",
    "\n",
    "help(\"if\")"
   ]
  },
  {
   "cell_type": "markdown",
   "metadata": {},
   "source": [
    "\n",
    "### Data types in Python 3.x\n",
    "\n",
    "* Integers: type(42) int\n",
    "* Floating Point: type(3.14) float\n",
    "* Boolean: type(True),type(False) bool\n",
    "* String(ordered, immutable char sequence): type(\"OyCaramba\") str\n",
    "* List: type([1,2,63,\"aha\",\"youcanmixtypeinsidelist\", [\"even\",\"nest\"]]) list\n",
    "* Dictionary(key:value pairs): type({\"foo\":\"bar\", \"favoriteday\":\"Friday\"}) dict\n",
    "* Tuple - ordered immutable sequence: type((\"sup\",7,\"dwarves\")) tuple\n",
    "* Set (unordered collection of uniques): set(\"k\",\"a\",\"r\",\"t\",\"u\",\"p\",\"e\",\"l\",\"i\",\"s\")"
   ]
  },
  {
   "cell_type": "markdown",
   "metadata": {},
   "source": [
    "## More on variables\n",
    "https://realpython.com/python-variables"
   ]
  },
  {
   "cell_type": "markdown",
   "metadata": {},
   "source": [
    "## Strings\n",
    "* immutable\n",
    "* Unicode support\n",
    "\n",
    "\n",
    "* implement all common sequence operators\n",
    "https://docs.python.org/3/library/stdtypes.html#typesseq-common\n",
    "\n",
    "* string specific methods\n",
    "https://docs.python.org/3/library/stdtypes.html#string-methods"
   ]
  },
  {
   "cell_type": "code",
   "execution_count": 22,
   "metadata": {},
   "outputs": [
    {
     "name": "stdout",
     "output_type": "stream",
     "text": [
      "Valdis\n"
     ]
    }
   ],
   "source": [
    "name = \"Valdis\"\n",
    "print(name)"
   ]
  },
  {
   "cell_type": "code",
   "execution_count": 26,
   "metadata": {},
   "outputs": [
    {
     "data": {
      "text/plain": [
       "'PĒTERIS'"
      ]
     },
     "execution_count": 26,
     "metadata": {},
     "output_type": "execute_result"
    }
   ],
   "source": [
    "\"Pēteris\".upper()"
   ]
  },
  {
   "cell_type": "code",
   "execution_count": 27,
   "metadata": {},
   "outputs": [
    {
     "data": {
      "text/plain": [
       "6"
      ]
     },
     "execution_count": 27,
     "metadata": {},
     "output_type": "execute_result"
    }
   ],
   "source": [
    "# String length\n",
    "len(name)"
   ]
  },
  {
   "cell_type": "code",
   "execution_count": 28,
   "metadata": {},
   "outputs": [
    {
     "data": {
      "text/plain": [
       "'V'"
      ]
     },
     "execution_count": 28,
     "metadata": {},
     "output_type": "execute_result"
    }
   ],
   "source": [
    "# Getting Individual characters\n",
    "name[0]"
   ]
  },
  {
   "cell_type": "code",
   "execution_count": 29,
   "metadata": {},
   "outputs": [
    {
     "data": {
      "text/plain": [
       "'s'"
      ]
     },
     "execution_count": 29,
     "metadata": {},
     "output_type": "execute_result"
    }
   ],
   "source": [
    "# Getting last char\n",
    "name[-1]"
   ]
  },
  {
   "cell_type": "code",
   "execution_count": 30,
   "metadata": {},
   "outputs": [
    {
     "data": {
      "text/plain": [
       "'i'"
      ]
     },
     "execution_count": 30,
     "metadata": {},
     "output_type": "execute_result"
    }
   ],
   "source": [
    "name[-2]"
   ]
  },
  {
   "cell_type": "code",
   "execution_count": null,
   "metadata": {},
   "outputs": [],
   "source": [
    "name"
   ]
  },
  {
   "cell_type": "code",
   "execution_count": 31,
   "metadata": {},
   "outputs": [
    {
     "data": {
      "text/plain": [
       "'d'"
      ]
     },
     "execution_count": 31,
     "metadata": {},
     "output_type": "execute_result"
    }
   ],
   "source": [
    "name[3]"
   ]
  },
  {
   "cell_type": "markdown",
   "metadata": {},
   "source": [
    "### String Slicing"
   ]
  },
  {
   "cell_type": "code",
   "execution_count": 32,
   "metadata": {},
   "outputs": [
    {
     "data": {
      "text/plain": [
       "'Val'"
      ]
     },
     "execution_count": 32,
     "metadata": {},
     "output_type": "execute_result"
    }
   ],
   "source": [
    "# Slicing syntax\n",
    "# Start at 0 an go until but not including 3\n",
    "name[0:3]"
   ]
  },
  {
   "cell_type": "code",
   "execution_count": 33,
   "metadata": {},
   "outputs": [
    {
     "data": {
      "text/plain": [
       "'Val'"
      ]
     },
     "execution_count": 33,
     "metadata": {},
     "output_type": "execute_result"
    }
   ],
   "source": [
    "name[:3]"
   ]
  },
  {
   "cell_type": "code",
   "execution_count": 34,
   "metadata": {},
   "outputs": [
    {
     "data": {
      "text/plain": [
       "'al'"
      ]
     },
     "execution_count": 34,
     "metadata": {},
     "output_type": "execute_result"
    }
   ],
   "source": [
    "name[1:3]"
   ]
  },
  {
   "cell_type": "code",
   "execution_count": null,
   "metadata": {},
   "outputs": [],
   "source": [
    "name"
   ]
  },
  {
   "cell_type": "code",
   "execution_count": 35,
   "metadata": {},
   "outputs": [
    {
     "data": {
      "text/plain": [
       "'Vli'"
      ]
     },
     "execution_count": 35,
     "metadata": {},
     "output_type": "execute_result"
    }
   ],
   "source": [
    "name[0:6:2]"
   ]
  },
  {
   "cell_type": "code",
   "execution_count": 36,
   "metadata": {},
   "outputs": [
    {
     "data": {
      "text/plain": [
       "'Vli'"
      ]
     },
     "execution_count": 36,
     "metadata": {},
     "output_type": "execute_result"
    }
   ],
   "source": [
    "name[::2]"
   ]
  },
  {
   "cell_type": "code",
   "execution_count": null,
   "metadata": {},
   "outputs": [],
   "source": [
    "shortName = name[::2]"
   ]
  },
  {
   "cell_type": "code",
   "execution_count": null,
   "metadata": {},
   "outputs": [],
   "source": [
    "shortName"
   ]
  },
  {
   "cell_type": "code",
   "execution_count": 37,
   "metadata": {},
   "outputs": [
    {
     "data": {
      "text/plain": [
       "'ptte'"
      ]
     },
     "execution_count": 37,
     "metadata": {},
     "output_type": "execute_result"
    }
   ],
   "source": [
    "# lets play with food!\n",
    "food = \"potatoes\"\n",
    "food[::2]"
   ]
  },
  {
   "cell_type": "code",
   "execution_count": 38,
   "metadata": {},
   "outputs": [
    {
     "data": {
      "text/plain": [
       "'oaos'"
      ]
     },
     "execution_count": 38,
     "metadata": {},
     "output_type": "execute_result"
    }
   ],
   "source": [
    "food[1::2]"
   ]
  },
  {
   "cell_type": "code",
   "execution_count": null,
   "metadata": {},
   "outputs": [],
   "source": [
    "food[1:6:2]"
   ]
  },
  {
   "cell_type": "code",
   "execution_count": 39,
   "metadata": {},
   "outputs": [
    {
     "data": {
      "text/plain": [
       "'seotatop'"
      ]
     },
     "execution_count": 39,
     "metadata": {},
     "output_type": "execute_result"
    }
   ],
   "source": [
    "# Pythonic way of reversing a string\n",
    "food[::-1]\n"
   ]
  },
  {
   "cell_type": "code",
   "execution_count": 40,
   "metadata": {},
   "outputs": [
    {
     "data": {
      "text/plain": [
       "'poxatoes'"
      ]
     },
     "execution_count": 40,
     "metadata": {},
     "output_type": "execute_result"
    }
   ],
   "source": [
    "# modifying strings\n",
    "# unmutability\n",
    "# food[2]=\"x\" is not allowed\n",
    "newfood = food[:2] + \"x\" + food[3:]\n",
    "newfood"
   ]
  },
  {
   "cell_type": "code",
   "execution_count": 41,
   "metadata": {},
   "outputs": [],
   "source": [
    "# '', \"\" work the same\n",
    "# '''  For multiline '''\n",
    "longstring = ''' This will be a very long string\n",
    "    and a very long day\n",
    "    and a very long summer\n",
    "'''"
   ]
  },
  {
   "cell_type": "code",
   "execution_count": 42,
   "metadata": {},
   "outputs": [
    {
     "name": "stdout",
     "output_type": "stream",
     "text": [
      " This will be a very long string\n",
      "    and a very long day\n",
      "    and a very long summer\n",
      "\n"
     ]
    }
   ],
   "source": [
    "# print out the longstring\n",
    "print(longstring)"
   ]
  },
  {
   "cell_type": "markdown",
   "metadata": {},
   "source": [
    "## \"f-strings\", “formatted string literals”\n",
    "\n",
    "In some other languages also known as string interpolation"
   ]
  },
  {
   "cell_type": "code",
   "execution_count": 43,
   "metadata": {},
   "outputs": [],
   "source": [
    "# Create myname and favfood variables with appropriate text\n",
    "# Then run the cell below\n",
    "# What would happen if you did not assign variables ?\n",
    "favfood = \"potatoes\""
   ]
  },
  {
   "cell_type": "code",
   "execution_count": 44,
   "metadata": {},
   "outputs": [],
   "source": [
    "myname = \"Uldis\""
   ]
  },
  {
   "cell_type": "code",
   "execution_count": 45,
   "metadata": {},
   "outputs": [
    {
     "name": "stdout",
     "output_type": "stream",
     "text": [
      "My name is Uldis and my favorite food is potatoes \n"
     ]
    }
   ],
   "source": [
    "print(f\"My name is {myname} and my favorite food is {favfood} \")\n",
    "# f strings in Python 3.6+ older formatting methods not covered in this course\n",
    "# https://realpython.com/python-f-strings/\n"
   ]
  },
  {
   "cell_type": "code",
   "execution_count": 46,
   "metadata": {},
   "outputs": [
    {
     "name": "stdout",
     "output_type": "stream",
     "text": [
      "My name is Uldis and my favorite food is potatoes\n"
     ]
    }
   ],
   "source": [
    "# Old string concatation method\n",
    "print(\"My name is \" + myname + \" and my favorite food is \" + favfood)"
   ]
  },
  {
   "cell_type": "markdown",
   "metadata": {},
   "source": [
    "## Python Lists\n",
    "\n",
    "* Ordered\n",
    "* Mutable(can change individual members!)\n",
    "* Comma separated between brackets [1,3,2,5,6,2]\n",
    "* Can have duplicates\n",
    "* Can be nested\n"
   ]
  },
  {
   "cell_type": "code",
   "execution_count": 47,
   "metadata": {},
   "outputs": [],
   "source": [
    "newlist = [1,2,3,\"Liftoff!\"]"
   ]
  },
  {
   "cell_type": "code",
   "execution_count": 48,
   "metadata": {},
   "outputs": [
    {
     "data": {
      "text/plain": [
       "[1, 2, 3, 'Liftoff!']"
      ]
     },
     "execution_count": 48,
     "metadata": {},
     "output_type": "execute_result"
    }
   ],
   "source": [
    "newlist"
   ]
  },
  {
   "cell_type": "code",
   "execution_count": 49,
   "metadata": {},
   "outputs": [
    {
     "data": {
      "text/plain": [
       "[1, 2, 'Ta-daaa', 'Liftoff!']"
      ]
     },
     "execution_count": 49,
     "metadata": {},
     "output_type": "execute_result"
    }
   ],
   "source": [
    "newlist[2] = \"Ta-daaa\"\n",
    "newlist"
   ]
  },
  {
   "cell_type": "code",
   "execution_count": 50,
   "metadata": {},
   "outputs": [
    {
     "name": "stdout",
     "output_type": "stream",
     "text": [
      "[11, 12, 13, 14, 15, 16, 17, 18, 19, 20, 21]\n"
     ]
    }
   ],
   "source": [
    "mylist = list(range(11,21+1,1)) \n",
    "# mylist = [11, 12, 13, 14, 15, 16, 17, 18, 19, 20] would work too \n",
    "# but not practical for longer ranges...\n",
    "\n",
    "print(mylist)"
   ]
  },
  {
   "cell_type": "markdown",
   "metadata": {},
   "source": [
    "### Slice notation\n",
    "\n",
    "somestring[start:end:step]\n",
    "\n",
    "somelist[start:end:step]\n",
    "\n",
    "start is at index 0(first element), end is -1 the actual index\n",
    "#### Examples below"
   ]
  },
  {
   "cell_type": "code",
   "execution_count": 51,
   "metadata": {},
   "outputs": [
    {
     "data": {
      "text/plain": [
       "11"
      ]
     },
     "execution_count": 51,
     "metadata": {},
     "output_type": "execute_result"
    }
   ],
   "source": [
    "mylist[0]"
   ]
  },
  {
   "cell_type": "code",
   "execution_count": 52,
   "metadata": {},
   "outputs": [
    {
     "data": {
      "text/plain": [
       "[14, 15, 16, 17, 18, 19, 20, 21]"
      ]
     },
     "execution_count": 52,
     "metadata": {},
     "output_type": "execute_result"
    }
   ],
   "source": [
    "mylist[3:]"
   ]
  },
  {
   "cell_type": "code",
   "execution_count": 53,
   "metadata": {},
   "outputs": [
    {
     "data": {
      "text/plain": [
       "[20, 21]"
      ]
     },
     "execution_count": 53,
     "metadata": {},
     "output_type": "execute_result"
    }
   ],
   "source": [
    "mylist[-2:]"
   ]
  },
  {
   "cell_type": "code",
   "execution_count": 54,
   "metadata": {},
   "outputs": [
    {
     "data": {
      "text/plain": [
       "[11, 12, 13, 14, 15, 16, 17, 18, 19]"
      ]
     },
     "execution_count": 54,
     "metadata": {},
     "output_type": "execute_result"
    }
   ],
   "source": [
    "mylist[:-2]"
   ]
  },
  {
   "cell_type": "code",
   "execution_count": 55,
   "metadata": {},
   "outputs": [
    {
     "data": {
      "text/plain": [
       "[11, 13, 15, 17, 19, 21]"
      ]
     },
     "execution_count": 55,
     "metadata": {},
     "output_type": "execute_result"
    }
   ],
   "source": [
    "mylist[::2]"
   ]
  },
  {
   "cell_type": "code",
   "execution_count": null,
   "metadata": {},
   "outputs": [],
   "source": [
    "\"Valdis\"[2:5]"
   ]
  },
  {
   "cell_type": "code",
   "execution_count": 56,
   "metadata": {},
   "outputs": [
    {
     "data": {
      "text/plain": [
       "'s'"
      ]
     },
     "execution_count": 56,
     "metadata": {},
     "output_type": "execute_result"
    }
   ],
   "source": [
    "myname[-1]"
   ]
  },
  {
   "cell_type": "code",
   "execution_count": 57,
   "metadata": {},
   "outputs": [
    {
     "data": {
      "text/plain": [
       "'sidlU'"
      ]
     },
     "execution_count": 57,
     "metadata": {},
     "output_type": "execute_result"
    }
   ],
   "source": [
    "myname[::-1]"
   ]
  },
  {
   "cell_type": "code",
   "execution_count": null,
   "metadata": {},
   "outputs": [],
   "source": [
    "mylist"
   ]
  },
  {
   "cell_type": "markdown",
   "metadata": {},
   "source": [
    "\n",
    "### Common list methods.\n",
    "* list.append(elem) -- adds a single element to the end of the list. Common error: does not return the new list, just modifies the original.\n",
    "* list.insert(index, elem) -- inserts the element at the given index, shifting elements to the right.\n",
    "* list.extend(list2) adds the elements in list2 to the end of the list. Using + or += on a list is similar to using extend().\n",
    "* list.index(elem) -- searches for the given element from the start of the list and returns its index. Throws a ValueError if the element does not appear (use \"in\" to check without a ValueError).\n",
    "* list.remove(elem) -- searches for the first instance of the given element and removes it (throws ValueError if not present)\n",
    "* list.sort() -- sorts the list in place (does not return it). (The sorted() function shown later is preferred.)\n",
    "* list.reverse() -- reverses the list in place (does not return it)\n",
    "* list.pop(index)-- removes and returns the element at the given index. Returns the rightmost element if index is omitted (roughly the opposite of append())."
   ]
  },
  {
   "cell_type": "code",
   "execution_count": 58,
   "metadata": {},
   "outputs": [
    {
     "data": {
      "text/plain": [
       "[11, 12, 13, 14, 15, 16, 17, 18, 19, 20, 21, 42]"
      ]
     },
     "execution_count": 58,
     "metadata": {},
     "output_type": "execute_result"
    }
   ],
   "source": [
    "mylist.append(42)\n",
    "mylist"
   ]
  },
  {
   "cell_type": "code",
   "execution_count": null,
   "metadata": {},
   "outputs": [],
   "source": [
    "help(mylist.pop)"
   ]
  },
  {
   "cell_type": "code",
   "execution_count": 59,
   "metadata": {},
   "outputs": [
    {
     "data": {
      "text/plain": [
       "42"
      ]
     },
     "execution_count": 59,
     "metadata": {},
     "output_type": "execute_result"
    }
   ],
   "source": [
    "mylist.pop()"
   ]
  },
  {
   "cell_type": "code",
   "execution_count": 60,
   "metadata": {},
   "outputs": [
    {
     "data": {
      "text/plain": [
       "[11, 12, 13, 14, 15, 16, 17, 18, 19, 20, 21]"
      ]
     },
     "execution_count": 60,
     "metadata": {},
     "output_type": "execute_result"
    }
   ],
   "source": [
    "mylist"
   ]
  },
  {
   "cell_type": "code",
   "execution_count": 61,
   "metadata": {},
   "outputs": [
    {
     "data": {
      "text/plain": [
       "1"
      ]
     },
     "execution_count": 61,
     "metadata": {},
     "output_type": "execute_result"
    }
   ],
   "source": [
    "mylist.count(14)"
   ]
  },
  {
   "cell_type": "code",
   "execution_count": 62,
   "metadata": {},
   "outputs": [],
   "source": [
    "mystr = \"this is a string\""
   ]
  },
  {
   "cell_type": "code",
   "execution_count": null,
   "metadata": {},
   "outputs": [],
   "source": [
    "mystr.upper()"
   ]
  },
  {
   "cell_type": "code",
   "execution_count": 63,
   "metadata": {},
   "outputs": [],
   "source": [
    "words = mystr.split()"
   ]
  },
  {
   "cell_type": "code",
   "execution_count": 64,
   "metadata": {},
   "outputs": [
    {
     "data": {
      "text/plain": [
       "['this', 'is', 'a', 'string']"
      ]
     },
     "execution_count": 64,
     "metadata": {},
     "output_type": "execute_result"
    }
   ],
   "source": [
    "words"
   ]
  },
  {
   "cell_type": "code",
   "execution_count": 65,
   "metadata": {},
   "outputs": [
    {
     "data": {
      "text/plain": [
       "'string'"
      ]
     },
     "execution_count": 65,
     "metadata": {},
     "output_type": "execute_result"
    }
   ],
   "source": [
    "words[-1]"
   ]
  },
  {
   "cell_type": "markdown",
   "metadata": {},
   "source": [
    "## Dictionaries\n",
    "\n",
    "* Collection of Key - Value pairs\n",
    "* also known as associative array\n",
    "* unordered\n",
    "* keys unique in one dictionary\n",
    "* storing, extracting"
   ]
  },
  {
   "cell_type": "code",
   "execution_count": 70,
   "metadata": {},
   "outputs": [],
   "source": [
    "mydict = {\"country\":\"Latvia\"} #Key-Value store, also knows as Hashmaps, Keys must be unique"
   ]
  },
  {
   "cell_type": "code",
   "execution_count": 71,
   "metadata": {},
   "outputs": [],
   "source": [
    "mydict[\"food\"]=\"potatoes\""
   ]
  },
  {
   "cell_type": "code",
   "execution_count": 72,
   "metadata": {},
   "outputs": [
    {
     "data": {
      "text/plain": [
       "{'country': 'Latvia', 'food': 'potatoes'}"
      ]
     },
     "execution_count": 72,
     "metadata": {},
     "output_type": "execute_result"
    }
   ],
   "source": [
    "mydict"
   ]
  },
  {
   "cell_type": "code",
   "execution_count": 73,
   "metadata": {},
   "outputs": [
    {
     "data": {
      "text/plain": [
       "'potatoes'"
      ]
     },
     "execution_count": 73,
     "metadata": {},
     "output_type": "execute_result"
    }
   ],
   "source": [
    "mydict[\"food\"]"
   ]
  },
  {
   "cell_type": "code",
   "execution_count": 74,
   "metadata": {},
   "outputs": [
    {
     "data": {
      "text/plain": [
       "'Latvia'"
      ]
     },
     "execution_count": 74,
     "metadata": {},
     "output_type": "execute_result"
    }
   ],
   "source": [
    "mydict[\"country\"]"
   ]
  },
  {
   "cell_type": "code",
   "execution_count": 75,
   "metadata": {},
   "outputs": [
    {
     "data": {
      "text/plain": [
       "2"
      ]
     },
     "execution_count": 75,
     "metadata": {},
     "output_type": "execute_result"
    }
   ],
   "source": [
    "len(mydict)"
   ]
  },
  {
   "cell_type": "code",
   "execution_count": null,
   "metadata": {},
   "outputs": [],
   "source": [
    "mydict"
   ]
  },
  {
   "cell_type": "code",
   "execution_count": null,
   "metadata": {},
   "outputs": [],
   "source": []
  },
  {
   "cell_type": "code",
   "execution_count": 76,
   "metadata": {},
   "outputs": [
    {
     "data": {
      "text/plain": [
       "dict_keys(['country', 'food'])"
      ]
     },
     "execution_count": 76,
     "metadata": {},
     "output_type": "execute_result"
    }
   ],
   "source": [
    "mydict.keys()"
   ]
  },
  {
   "cell_type": "code",
   "execution_count": 77,
   "metadata": {},
   "outputs": [
    {
     "data": {
      "text/plain": [
       "dict_values(['Latvia', 'potatoes'])"
      ]
     },
     "execution_count": 77,
     "metadata": {},
     "output_type": "execute_result"
    }
   ],
   "source": [
    "mydict.values()"
   ]
  },
  {
   "cell_type": "code",
   "execution_count": null,
   "metadata": {},
   "outputs": [],
   "source": [
    "mydict.values()"
   ]
  },
  {
   "cell_type": "code",
   "execution_count": 79,
   "metadata": {},
   "outputs": [
    {
     "data": {
      "text/plain": [
       "True"
      ]
     },
     "execution_count": 79,
     "metadata": {},
     "output_type": "execute_result"
    }
   ],
   "source": [
    "\"potatoes\" in mydict.values()"
   ]
  },
  {
   "cell_type": "code",
   "execution_count": 80,
   "metadata": {},
   "outputs": [
    {
     "data": {
      "text/plain": [
       "True"
      ]
     },
     "execution_count": 80,
     "metadata": {},
     "output_type": "execute_result"
    }
   ],
   "source": [
    "\"food\" in mydict"
   ]
  },
  {
   "cell_type": "code",
   "execution_count": 78,
   "metadata": {},
   "outputs": [
    {
     "data": {
      "text/plain": [
       "dict_items([('country', 'Latvia'), ('food', 'potatoes')])"
      ]
     },
     "execution_count": 78,
     "metadata": {},
     "output_type": "execute_result"
    }
   ],
   "source": [
    "mydict.items()"
   ]
  },
  {
   "cell_type": "code",
   "execution_count": null,
   "metadata": {},
   "outputs": [],
   "source": [
    "for key,value in mydict.items():\n",
    "    print(key,value)"
   ]
  },
  {
   "cell_type": "code",
   "execution_count": 81,
   "metadata": {},
   "outputs": [
    {
     "name": "stdout",
     "output_type": "stream",
     "text": [
      "country Latvia\n",
      "food potatoes\n"
     ]
    }
   ],
   "source": [
    "for key in mydict:\n",
    "    print(key, mydict[key])"
   ]
  },
  {
   "cell_type": "code",
   "execution_count": 82,
   "metadata": {},
   "outputs": [],
   "source": [
    "mydict['food'] = ['potatoes', 'cheese']"
   ]
  },
  {
   "cell_type": "code",
   "execution_count": 83,
   "metadata": {},
   "outputs": [
    {
     "data": {
      "text/plain": [
       "{'country': 'Latvia', 'food': ['potatoes', 'cheese']}"
      ]
     },
     "execution_count": 83,
     "metadata": {},
     "output_type": "execute_result"
    }
   ],
   "source": [
    "mydict"
   ]
  },
  {
   "cell_type": "code",
   "execution_count": 84,
   "metadata": {},
   "outputs": [
    {
     "data": {
      "text/plain": [
       "{'country': 'Latvia', 'food': ['potatoes', 'cheese', 'milk']}"
      ]
     },
     "execution_count": 84,
     "metadata": {},
     "output_type": "execute_result"
    }
   ],
   "source": [
    "mydict['food'] = mydict['food'] + ['milk']\n",
    "mydict"
   ]
  },
  {
   "cell_type": "markdown",
   "metadata": {},
   "source": [
    "## Sets\n",
    "\n",
    "* unordered\n",
    "* uniques only\n",
    "* curly braces {3, 6, 7}"
   ]
  },
  {
   "cell_type": "code",
   "execution_count": 85,
   "metadata": {},
   "outputs": [
    {
     "name": "stdout",
     "output_type": "stream",
     "text": [
      "{1, 3, 6, 7}\n"
     ]
    }
   ],
   "source": [
    "s={3,3,6,1,3,6,7}\n",
    "print(s)"
   ]
  },
  {
   "cell_type": "code",
   "execution_count": 86,
   "metadata": {},
   "outputs": [
    {
     "name": "stdout",
     "output_type": "stream",
     "text": [
      "{6, 7}\n"
     ]
    }
   ],
   "source": [
    "s2 = set([2,4,6,7])\n",
    "\n",
    "print(s.intersection(s2))"
   ]
  },
  {
   "cell_type": "code",
   "execution_count": 87,
   "metadata": {},
   "outputs": [
    {
     "name": "stdout",
     "output_type": "stream",
     "text": [
      "Help on set object:\n",
      "\n",
      "class set(object)\n",
      " |  set() -> new empty set object\n",
      " |  set(iterable) -> new set object\n",
      " |  \n",
      " |  Build an unordered collection of unique elements.\n",
      " |  \n",
      " |  Methods defined here:\n",
      " |  \n",
      " |  __and__(self, value, /)\n",
      " |      Return self&value.\n",
      " |  \n",
      " |  __contains__(...)\n",
      " |      x.__contains__(y) <==> y in x.\n",
      " |  \n",
      " |  __eq__(self, value, /)\n",
      " |      Return self==value.\n",
      " |  \n",
      " |  __ge__(self, value, /)\n",
      " |      Return self>=value.\n",
      " |  \n",
      " |  __getattribute__(self, name, /)\n",
      " |      Return getattr(self, name).\n",
      " |  \n",
      " |  __gt__(self, value, /)\n",
      " |      Return self>value.\n",
      " |  \n",
      " |  __iand__(self, value, /)\n",
      " |      Return self&=value.\n",
      " |  \n",
      " |  __init__(self, /, *args, **kwargs)\n",
      " |      Initialize self.  See help(type(self)) for accurate signature.\n",
      " |  \n",
      " |  __ior__(self, value, /)\n",
      " |      Return self|=value.\n",
      " |  \n",
      " |  __isub__(self, value, /)\n",
      " |      Return self-=value.\n",
      " |  \n",
      " |  __iter__(self, /)\n",
      " |      Implement iter(self).\n",
      " |  \n",
      " |  __ixor__(self, value, /)\n",
      " |      Return self^=value.\n",
      " |  \n",
      " |  __le__(self, value, /)\n",
      " |      Return self<=value.\n",
      " |  \n",
      " |  __len__(self, /)\n",
      " |      Return len(self).\n",
      " |  \n",
      " |  __lt__(self, value, /)\n",
      " |      Return self<value.\n",
      " |  \n",
      " |  __ne__(self, value, /)\n",
      " |      Return self!=value.\n",
      " |  \n",
      " |  __or__(self, value, /)\n",
      " |      Return self|value.\n",
      " |  \n",
      " |  __rand__(self, value, /)\n",
      " |      Return value&self.\n",
      " |  \n",
      " |  __reduce__(...)\n",
      " |      Return state information for pickling.\n",
      " |  \n",
      " |  __repr__(self, /)\n",
      " |      Return repr(self).\n",
      " |  \n",
      " |  __ror__(self, value, /)\n",
      " |      Return value|self.\n",
      " |  \n",
      " |  __rsub__(self, value, /)\n",
      " |      Return value-self.\n",
      " |  \n",
      " |  __rxor__(self, value, /)\n",
      " |      Return value^self.\n",
      " |  \n",
      " |  __sizeof__(...)\n",
      " |      S.__sizeof__() -> size of S in memory, in bytes\n",
      " |  \n",
      " |  __sub__(self, value, /)\n",
      " |      Return self-value.\n",
      " |  \n",
      " |  __xor__(self, value, /)\n",
      " |      Return self^value.\n",
      " |  \n",
      " |  add(...)\n",
      " |      Add an element to a set.\n",
      " |      \n",
      " |      This has no effect if the element is already present.\n",
      " |  \n",
      " |  clear(...)\n",
      " |      Remove all elements from this set.\n",
      " |  \n",
      " |  copy(...)\n",
      " |      Return a shallow copy of a set.\n",
      " |  \n",
      " |  difference(...)\n",
      " |      Return the difference of two or more sets as a new set.\n",
      " |      \n",
      " |      (i.e. all elements that are in this set but not the others.)\n",
      " |  \n",
      " |  difference_update(...)\n",
      " |      Remove all elements of another set from this set.\n",
      " |  \n",
      " |  discard(...)\n",
      " |      Remove an element from a set if it is a member.\n",
      " |      \n",
      " |      If the element is not a member, do nothing.\n",
      " |  \n",
      " |  intersection(...)\n",
      " |      Return the intersection of two sets as a new set.\n",
      " |      \n",
      " |      (i.e. all elements that are in both sets.)\n",
      " |  \n",
      " |  intersection_update(...)\n",
      " |      Update a set with the intersection of itself and another.\n",
      " |  \n",
      " |  isdisjoint(...)\n",
      " |      Return True if two sets have a null intersection.\n",
      " |  \n",
      " |  issubset(...)\n",
      " |      Report whether another set contains this set.\n",
      " |  \n",
      " |  issuperset(...)\n",
      " |      Report whether this set contains another set.\n",
      " |  \n",
      " |  pop(...)\n",
      " |      Remove and return an arbitrary set element.\n",
      " |      Raises KeyError if the set is empty.\n",
      " |  \n",
      " |  remove(...)\n",
      " |      Remove an element from a set; it must be a member.\n",
      " |      \n",
      " |      If the element is not a member, raise a KeyError.\n",
      " |  \n",
      " |  symmetric_difference(...)\n",
      " |      Return the symmetric difference of two sets as a new set.\n",
      " |      \n",
      " |      (i.e. all elements that are in exactly one of the sets.)\n",
      " |  \n",
      " |  symmetric_difference_update(...)\n",
      " |      Update a set with the symmetric difference of itself and another.\n",
      " |  \n",
      " |  union(...)\n",
      " |      Return the union of sets as a new set.\n",
      " |      \n",
      " |      (i.e. all elements that are in either set.)\n",
      " |  \n",
      " |  update(...)\n",
      " |      Update a set with the union of itself and others.\n",
      " |  \n",
      " |  ----------------------------------------------------------------------\n",
      " |  Static methods defined here:\n",
      " |  \n",
      " |  __new__(*args, **kwargs) from builtins.type\n",
      " |      Create and return a new object.  See help(type) for accurate signature.\n",
      " |  \n",
      " |  ----------------------------------------------------------------------\n",
      " |  Data and other attributes defined here:\n",
      " |  \n",
      " |  __hash__ = None\n",
      "\n"
     ]
    }
   ],
   "source": [
    "help(s2)"
   ]
  },
  {
   "cell_type": "markdown",
   "metadata": {},
   "source": [
    "## Tuples\n",
    "\n",
    "* ordered\n",
    "* immutable (cannot be changed!)\n",
    "* can be used as a collection of fields\n",
    " * e.g. to return multiple values from a function"
   ]
  },
  {
   "cell_type": "code",
   "execution_count": null,
   "metadata": {},
   "outputs": [],
   "source": []
  },
  {
   "cell_type": "code",
   "execution_count": 88,
   "metadata": {},
   "outputs": [
    {
     "name": "stdout",
     "output_type": "stream",
     "text": [
      "(6, 4, 9)\n"
     ]
    }
   ],
   "source": [
    "mytuple = (6, 4, 9)\n",
    "print(mytuple)"
   ]
  },
  {
   "cell_type": "code",
   "execution_count": 89,
   "metadata": {},
   "outputs": [],
   "source": [
    "def request():\n",
    "    data = \"Some text here\"\n",
    "    code = \"404 Not Found\"\n",
    "    \n",
    "    return (data, code)"
   ]
  },
  {
   "cell_type": "code",
   "execution_count": 90,
   "metadata": {},
   "outputs": [
    {
     "data": {
      "text/plain": [
       "<function __main__.request()>"
      ]
     },
     "execution_count": 90,
     "metadata": {},
     "output_type": "execute_result"
    }
   ],
   "source": [
    "request"
   ]
  },
  {
   "cell_type": "code",
   "execution_count": 91,
   "metadata": {},
   "outputs": [
    {
     "name": "stdout",
     "output_type": "stream",
     "text": [
      "('Some text here', '404 Not Found')\n"
     ]
    }
   ],
   "source": [
    "print(request())"
   ]
  },
  {
   "cell_type": "markdown",
   "metadata": {},
   "source": [
    "## Arithmetic Operators <a class=\"anchor\" id=\"arithmetic\">\n",
    "    \n",
    "[Back to Table of Contents](#toc)\n",
    "* `+ - * / `\n",
    "* `**(power)` \n",
    "* `% modulus` \n",
    "* `//(integer division)`\n",
    "* `() parenthesis for order`\n"
   ]
  },
  {
   "cell_type": "code",
   "execution_count": null,
   "metadata": {},
   "outputs": [],
   "source": [
    "5+4*3-(7/2)"
   ]
  },
  {
   "cell_type": "code",
   "execution_count": null,
   "metadata": {},
   "outputs": [],
   "source": [
    "5+4*3-(7//2)"
   ]
  },
  {
   "cell_type": "code",
   "execution_count": 92,
   "metadata": {},
   "outputs": [
    {
     "data": {
      "text/plain": [
       "3"
      ]
     },
     "execution_count": 92,
     "metadata": {},
     "output_type": "execute_result"
    }
   ],
   "source": [
    "7//2\n"
   ]
  },
  {
   "cell_type": "code",
   "execution_count": 94,
   "metadata": {},
   "outputs": [
    {
     "data": {
      "text/plain": [
       "1"
      ]
     },
     "execution_count": 94,
     "metadata": {},
     "output_type": "execute_result"
    }
   ],
   "source": [
    "7%3"
   ]
  },
  {
   "cell_type": "code",
   "execution_count": null,
   "metadata": {},
   "outputs": [],
   "source": [
    "2554545%10"
   ]
  },
  {
   "cell_type": "code",
   "execution_count": 95,
   "metadata": {},
   "outputs": [
    {
     "data": {
      "text/plain": [
       "int"
      ]
     },
     "execution_count": 95,
     "metadata": {},
     "output_type": "execute_result"
    }
   ],
   "source": [
    "type(1)"
   ]
  },
  {
   "cell_type": "code",
   "execution_count": 96,
   "metadata": {},
   "outputs": [
    {
     "data": {
      "text/plain": [
       "float"
      ]
     },
     "execution_count": 96,
     "metadata": {},
     "output_type": "execute_result"
    }
   ],
   "source": [
    "type(14.0)"
   ]
  },
  {
   "cell_type": "code",
   "execution_count": 97,
   "metadata": {},
   "outputs": [
    {
     "data": {
      "text/plain": [
       "116415321826934814453125"
      ]
     },
     "execution_count": 97,
     "metadata": {},
     "output_type": "execute_result"
    }
   ],
   "source": [
    "5**33"
   ]
  },
  {
   "cell_type": "code",
   "execution_count": 98,
   "metadata": {},
   "outputs": [
    {
     "data": {
      "text/plain": [
       "92709068817830061978520606494193845859707401497097037749844778027824097442147966967457359038488841338006006032592594389655201"
      ]
     },
     "execution_count": 98,
     "metadata": {},
     "output_type": "execute_result"
    }
   ],
   "source": [
    "11**120 # no maximum anymore"
   ]
  },
  {
   "cell_type": "code",
   "execution_count": 99,
   "metadata": {},
   "outputs": [],
   "source": [
    "import math"
   ]
  },
  {
   "cell_type": "code",
   "execution_count": 100,
   "metadata": {},
   "outputs": [
    {
     "data": {
      "text/plain": [
       "8"
      ]
     },
     "execution_count": 100,
     "metadata": {},
     "output_type": "execute_result"
    }
   ],
   "source": [
    "# press Tab on \"math.\" to see what functions are available \n",
    "# Shift-Tab inside parenthesis to see what the particular function does\n",
    "math.ceil(7.8)"
   ]
  },
  {
   "cell_type": "code",
   "execution_count": 101,
   "metadata": {},
   "outputs": [
    {
     "data": {
      "text/plain": [
       "1.4142135623730951"
      ]
     },
     "execution_count": 101,
     "metadata": {},
     "output_type": "execute_result"
    }
   ],
   "source": [
    "math.sqrt(2)"
   ]
  },
  {
   "cell_type": "code",
   "execution_count": 102,
   "metadata": {},
   "outputs": [
    {
     "data": {
      "text/plain": [
       "1.4142135623730951"
      ]
     },
     "execution_count": 102,
     "metadata": {},
     "output_type": "execute_result"
    }
   ],
   "source": [
    "2**0.5"
   ]
  },
  {
   "cell_type": "code",
   "execution_count": 103,
   "metadata": {},
   "outputs": [
    {
     "data": {
      "text/plain": [
       "3"
      ]
     },
     "execution_count": 103,
     "metadata": {},
     "output_type": "execute_result"
    }
   ],
   "source": [
    "int(3.33)"
   ]
  },
  {
   "cell_type": "markdown",
   "metadata": {},
   "source": [
    "## Flow Control <a class=\"anchor\" id=\"flow-control\">\n",
    "    \n",
    "[Back to Table of Contents](#toc)"
   ]
  },
  {
   "cell_type": "code",
   "execution_count": null,
   "metadata": {},
   "outputs": [],
   "source": [
    "# With Flow Control we can tell our program/cells to choose different paths"
   ]
  },
  {
   "cell_type": "markdown",
   "metadata": {},
   "source": [
    "## Conditional operators \n",
    "\n",
    "`< > <= >= == != and or not`"
   ]
  },
  {
   "cell_type": "code",
   "execution_count": null,
   "metadata": {},
   "outputs": [],
   "source": [
    "# What is truth in computer language?"
   ]
  },
  {
   "cell_type": "code",
   "execution_count": 104,
   "metadata": {},
   "outputs": [
    {
     "data": {
      "text/plain": [
       "True"
      ]
     },
     "execution_count": 104,
     "metadata": {},
     "output_type": "execute_result"
    }
   ],
   "source": [
    "2*2 == 4"
   ]
  },
  {
   "cell_type": "code",
   "execution_count": 105,
   "metadata": {},
   "outputs": [
    {
     "data": {
      "text/plain": [
       "True"
      ]
     },
     "execution_count": 105,
     "metadata": {},
     "output_type": "execute_result"
    }
   ],
   "source": [
    "myTruth = 2*2 == 4\n",
    "myTruth"
   ]
  },
  {
   "cell_type": "code",
   "execution_count": null,
   "metadata": {},
   "outputs": [],
   "source": [
    "5 > 7\n"
   ]
  },
  {
   "cell_type": "code",
   "execution_count": null,
   "metadata": {},
   "outputs": [],
   "source": [
    "int('   055555   ')"
   ]
  },
  {
   "cell_type": "code",
   "execution_count": null,
   "metadata": {},
   "outputs": [],
   "source": [
    "print(5 == int('5'))\n",
    "\n",
    "print(5 <= 6)"
   ]
  },
  {
   "cell_type": "code",
   "execution_count": null,
   "metadata": {},
   "outputs": [],
   "source": [
    "print(5 <= 5)\n",
    "\n",
    "# check if 5 is NOT equal to 6\n",
    "print(5 != 6)\n",
    "\n",
    "print(5 != 5)\n"
   ]
  },
  {
   "cell_type": "code",
   "execution_count": 106,
   "metadata": {},
   "outputs": [
    {
     "data": {
      "text/plain": [
       "True"
      ]
     },
     "execution_count": 106,
     "metadata": {},
     "output_type": "execute_result"
    }
   ],
   "source": [
    "# We check each letter from left side\n",
    "# on mismatch we check ASCII (UTF-8) tables for values\n",
    "\n",
    "'VALDIS' < 'VOLDEMARS'"
   ]
  },
  {
   "cell_type": "code",
   "execution_count": 107,
   "metadata": {},
   "outputs": [
    {
     "name": "stdout",
     "output_type": "stream",
     "text": [
      "True\n"
     ]
    }
   ],
   "source": [
    "a = True\n",
    "print(a)"
   ]
  },
  {
   "cell_type": "code",
   "execution_count": null,
   "metadata": {},
   "outputs": [],
   "source": []
  },
  {
   "cell_type": "code",
   "execution_count": null,
   "metadata": {},
   "outputs": [],
   "source": [
    "len('VALDIS') < len('VOLDEMARS')"
   ]
  },
  {
   "cell_type": "code",
   "execution_count": 108,
   "metadata": {},
   "outputs": [
    {
     "data": {
      "text/plain": [
       "True"
      ]
     },
     "execution_count": 108,
     "metadata": {},
     "output_type": "execute_result"
    }
   ],
   "source": [
    "True and True"
   ]
  },
  {
   "cell_type": "code",
   "execution_count": 109,
   "metadata": {},
   "outputs": [
    {
     "data": {
      "text/plain": [
       "False"
      ]
     },
     "execution_count": 109,
     "metadata": {},
     "output_type": "execute_result"
    }
   ],
   "source": [
    "True and False"
   ]
  },
  {
   "cell_type": "code",
   "execution_count": 110,
   "metadata": {},
   "outputs": [
    {
     "data": {
      "text/plain": [
       "True"
      ]
     },
     "execution_count": 110,
     "metadata": {},
     "output_type": "execute_result"
    }
   ],
   "source": [
    "True or False"
   ]
  },
  {
   "cell_type": "code",
   "execution_count": 111,
   "metadata": {},
   "outputs": [
    {
     "data": {
      "text/plain": [
       "True"
      ]
     },
     "execution_count": 111,
     "metadata": {},
     "output_type": "execute_result"
    }
   ],
   "source": [
    "False or False or False or True"
   ]
  },
  {
   "cell_type": "code",
   "execution_count": 112,
   "metadata": {},
   "outputs": [
    {
     "data": {
      "text/plain": [
       "False"
      ]
     },
     "execution_count": 112,
     "metadata": {},
     "output_type": "execute_result"
    }
   ],
   "source": [
    "not True"
   ]
  },
  {
   "cell_type": "code",
   "execution_count": 113,
   "metadata": {},
   "outputs": [
    {
     "data": {
      "text/plain": [
       "True"
      ]
     },
     "execution_count": 113,
     "metadata": {},
     "output_type": "execute_result"
    }
   ],
   "source": [
    "not False"
   ]
  },
  {
   "cell_type": "markdown",
   "metadata": {},
   "source": [
    "## If Statement"
   ]
  },
  {
   "cell_type": "code",
   "execution_count": 114,
   "metadata": {},
   "outputs": [
    {
     "name": "stdout",
     "output_type": "stream",
     "text": [
      "Always\n"
     ]
    }
   ],
   "source": [
    "## Conditional execution\n",
    "# if 4 is larger than 5 then do something\n",
    "\n",
    "if 4 > 5:\n",
    "    print(\"4 is larger than 5 wow!\")\n",
    "    print(\"MOre text\")\n",
    "    \n",
    "print(\"Always\")"
   ]
  },
  {
   "cell_type": "code",
   "execution_count": 115,
   "metadata": {},
   "outputs": [
    {
     "name": "stdout",
     "output_type": "stream",
     "text": [
      "hello\n",
      "hello\n",
      "hello that's not magic\n"
     ]
    }
   ],
   "source": [
    "if 5 >= 5:\n",
    "    print(\"hello\")\n",
    "if 5 <= 5:\n",
    "    print(\"hello\")\n",
    "if 5 == 6:\n",
    "    print(\"hello that's magic\")\n",
    "if 5 != 6:\n",
    "    print(\"hello that's not magic\")"
   ]
  },
  {
   "cell_type": "code",
   "execution_count": null,
   "metadata": {},
   "outputs": [],
   "source": [
    "if 2*2 == 4:\n",
    "    print(\"Do one thing if if is True\")\n",
    "    print(\"DO more things if if is True\")\n",
    "    \n",
    "print(\"Do this always\")"
   ]
  },
  {
   "cell_type": "code",
   "execution_count": null,
   "metadata": {},
   "outputs": [],
   "source": [
    "c = float(input(\"Enter temperature in Celsius \"))\n",
    "f = c * 9/5 + 32\n",
    "print(\"Farenheit Temperature is\", f)\n",
    "if f > 100:\n",
    "    print(\"You are too hot, find a doctor?\")"
   ]
  },
  {
   "cell_type": "code",
   "execution_count": null,
   "metadata": {},
   "outputs": [],
   "source": [
    "# Try reversing the above program to create a Farenheit to Celsius converter"
   ]
  },
  {
   "cell_type": "code",
   "execution_count": null,
   "metadata": {},
   "outputs": [],
   "source": [
    "a = -55\n",
    "if a > 5:\n",
    "    print('a is larger than 5')\n",
    "    # do more stuff\n",
    "else:\n",
    "    print('a is NOT larger than 5')\n",
    "    # do more stuff if a is not larger than 5\n",
    "print(\"Continue as normal\")"
   ]
  },
  {
   "cell_type": "code",
   "execution_count": 117,
   "metadata": {},
   "outputs": [
    {
     "name": "stdout",
     "output_type": "stream",
     "text": [
      "Enter an integer please! 42\n",
      "That is the answer to everything!\n",
      "Your number is 42\n"
     ]
    }
   ],
   "source": [
    "#elif comes from else if\n",
    "x = int(input(\"Enter an integer please! \"))\n",
    "if x > 42:\n",
    "    print(\"Too ambitious an answer!\")\n",
    "elif x < 42:\n",
    "    print(\"You dream too little!\")\n",
    "else:\n",
    "    print(\"That is the answer to everything!\")\n",
    "#These lines below will execute always\n",
    "print('Your number is', x)"
   ]
  },
  {
   "cell_type": "markdown",
   "metadata": {},
   "source": [
    "## Loops"
   ]
  },
  {
   "cell_type": "code",
   "execution_count": null,
   "metadata": {},
   "outputs": [],
   "source": [
    "# How would be perform the same/similar action multiple times?"
   ]
  },
  {
   "cell_type": "code",
   "execution_count": 118,
   "metadata": {},
   "outputs": [
    {
     "name": "stdout",
     "output_type": "stream",
     "text": [
      "Alice did \n",
      "talk\n",
      "talk\n",
      "talk\n",
      "talk\n",
      "talk\n"
     ]
    }
   ],
   "source": [
    "i = 0\n",
    "print(\"Alice did \")\n",
    "while i < 5: # notice the colon\n",
    "    print(\"talk\")\n",
    "    i+= 1 # same as i = i + 1"
   ]
  },
  {
   "cell_type": "code",
   "execution_count": 119,
   "metadata": {},
   "outputs": [
    {
     "data": {
      "text/plain": [
       "5"
      ]
     },
     "execution_count": 119,
     "metadata": {},
     "output_type": "execute_result"
    }
   ],
   "source": [
    "i"
   ]
  },
  {
   "cell_type": "code",
   "execution_count": null,
   "metadata": {},
   "outputs": [],
   "source": [
    "# What would happen if we did not have i+=1 in our above program ?"
   ]
  },
  {
   "cell_type": "code",
   "execution_count": 120,
   "metadata": {},
   "outputs": [
    {
     "name": "stdout",
     "output_type": "stream",
     "text": [
      "0\n",
      "1\n",
      "2\n",
      "3\n",
      "4\n",
      "5\n",
      "6\n",
      "7\n",
      "8\n",
      "9\n"
     ]
    }
   ],
   "source": [
    "for x in range(10):\n",
    "    print(x)"
   ]
  },
  {
   "cell_type": "code",
   "execution_count": 121,
   "metadata": {},
   "outputs": [
    {
     "name": "stdout",
     "output_type": "stream",
     "text": [
      "V\n",
      "a\n",
      "l\n",
      "d\n",
      "i\n",
      "s\n"
     ]
    }
   ],
   "source": [
    "for c in \"Valdis\":\n",
    "    print(c)"
   ]
  },
  {
   "cell_type": "code",
   "execution_count": 122,
   "metadata": {},
   "outputs": [
    {
     "data": {
      "text/plain": [
       "[11, 12, 13, 14, 15, 16, 17, 18, 19, 20, 21]"
      ]
     },
     "execution_count": 122,
     "metadata": {},
     "output_type": "execute_result"
    }
   ],
   "source": [
    "mylist"
   ]
  },
  {
   "cell_type": "code",
   "execution_count": 123,
   "metadata": {},
   "outputs": [
    {
     "name": "stdout",
     "output_type": "stream",
     "text": [
      "11\n",
      "12\n",
      "13\n",
      "14\n",
      "15\n",
      "This will happen at the end always\n"
     ]
    }
   ],
   "source": [
    "for item in mylist[:5]:\n",
    "    print(item)\n",
    "    # I could more stuff here\n",
    "print('This will happen at the end always')"
   ]
  },
  {
   "cell_type": "code",
   "execution_count": 124,
   "metadata": {},
   "outputs": [
    {
     "name": "stdout",
     "output_type": "stream",
     "text": [
      "country Latvia\n",
      "food ['potatoes', 'cheese', 'milk']\n"
     ]
    }
   ],
   "source": [
    "for k,v in mydict.items():\n",
    "    print(k,v)"
   ]
  },
  {
   "cell_type": "code",
   "execution_count": 126,
   "metadata": {},
   "outputs": [],
   "source": [
    "## Splitting a line of text into words\n",
    "mytext = \"A quick brown fox jumped over a sleeping dog\"\n",
    "words = mytext.split()\n"
   ]
  },
  {
   "cell_type": "code",
   "execution_count": 128,
   "metadata": {},
   "outputs": [
    {
     "name": "stdout",
     "output_type": "stream",
     "text": [
      "0 A\n",
      "1 quick\n",
      "2 brown\n",
      "3 fox\n",
      "4 jumped\n",
      "5 over\n",
      "6 a\n",
      "7 sleeping\n",
      "8 dog\n"
     ]
    }
   ],
   "source": [
    "for nr, elem in enumerate(words):\n",
    "    print(nr, elem)"
   ]
  },
  {
   "cell_type": "code",
   "execution_count": 129,
   "metadata": {},
   "outputs": [
    {
     "data": {
      "text/plain": [
       "'fox'"
      ]
     },
     "execution_count": 129,
     "metadata": {},
     "output_type": "execute_result"
    }
   ],
   "source": [
    "words[3]"
   ]
  },
  {
   "cell_type": "code",
   "execution_count": null,
   "metadata": {},
   "outputs": [],
   "source": [
    "print(words)"
   ]
  },
  {
   "cell_type": "code",
   "execution_count": null,
   "metadata": {},
   "outputs": [],
   "source": [
    "words[1][0].isupper()"
   ]
  },
  {
   "cell_type": "code",
   "execution_count": null,
   "metadata": {},
   "outputs": [],
   "source": [
    "# Enumerate for showing index of item when going through many items\n",
    "for i, x in enumerate(range(10,15)):\n",
    "    print(i, x)"
   ]
  },
  {
   "cell_type": "code",
   "execution_count": null,
   "metadata": {},
   "outputs": [],
   "source": [
    "for i, c in enumerate(myname):\n",
    "    print(i, c)"
   ]
  },
  {
   "cell_type": "markdown",
   "metadata": {},
   "source": [
    "## What is a function? <a class=\"anchor\" id=\"functions\">\n",
    "    \n",
    "[Back to Table of Contents](#toc)\n",
    "* A function is a block of organized, reusable code that is used to perform a single, related action.\n",
    "* Single, organized, related always ? :)\n",
    "###  DRY - Do not Repeat Yourself principle\n",
    "* Every piece of knowledge must have a single, unambiguous, authoritative representation within a system. http://wiki.c2.com/?DontRepeatYourself\n",
    "\n",
    "* Contrast WET - We Enjoy Typing, Write Everything Twice, Waste Everyone's Time"
   ]
  },
  {
   "cell_type": "code",
   "execution_count": 130,
   "metadata": {},
   "outputs": [],
   "source": [
    "# Here we define our first function\n",
    "def myFirstFunc():\n",
    "    print(\"Running My first func\")"
   ]
  },
  {
   "cell_type": "code",
   "execution_count": 132,
   "metadata": {},
   "outputs": [
    {
     "name": "stdout",
     "output_type": "stream",
     "text": [
      "Running My first func\n"
     ]
    }
   ],
   "source": [
    "# function has to be defined before it is called\n",
    "x = myFirstFunc()"
   ]
  },
  {
   "cell_type": "code",
   "execution_count": 135,
   "metadata": {},
   "outputs": [
    {
     "name": "stdout",
     "output_type": "stream",
     "text": [
      "None\n"
     ]
    }
   ],
   "source": [
    "print(x)"
   ]
  },
  {
   "cell_type": "code",
   "execution_count": 136,
   "metadata": {},
   "outputs": [],
   "source": [
    "# Passing parameters(arguments)\n",
    "def printName(name):\n",
    "    print(f\"Maybe my name is: {name}\")\n"
   ]
  },
  {
   "cell_type": "code",
   "execution_count": 137,
   "metadata": {},
   "outputs": [
    {
     "name": "stdout",
     "output_type": "stream",
     "text": [
      "Maybe my name is: Uldis\n"
     ]
    }
   ],
   "source": [
    "printName(\"Uldis\")"
   ]
  },
  {
   "cell_type": "code",
   "execution_count": 138,
   "metadata": {},
   "outputs": [],
   "source": [
    "def add(a, b):\n",
    "    print(a+b)"
   ]
  },
  {
   "cell_type": "code",
   "execution_count": 139,
   "metadata": {},
   "outputs": [
    {
     "name": "stdout",
     "output_type": "stream",
     "text": [
      "10\n",
      "242\n",
      "Hello Riga\n",
      "[1, 2, 7, 6, 7, 8, 9, 10, 11]\n"
     ]
    }
   ],
   "source": [
    "add(4,6)\n",
    "add(9,233)\n",
    "add(\"Hello \",\"Riga\")\n",
    "add([1,2,7],list(range(6,12)))\n",
    "# Try calling add function with other parameters"
   ]
  },
  {
   "cell_type": "code",
   "execution_count": null,
   "metadata": {},
   "outputs": [],
   "source": [
    "\n"
   ]
  },
  {
   "cell_type": "code",
   "execution_count": 140,
   "metadata": {},
   "outputs": [],
   "source": [
    "# We make Docstrings with '''Helpful function description inside'''\n",
    "def mult(a, b):\n",
    "    '''Returns \n",
    "    multiple from first two arguments'''\n",
    "    print(\"Look ma I am multiplying!\", a, b, a*b)\n",
    "    return a*b"
   ]
  },
  {
   "cell_type": "code",
   "execution_count": 141,
   "metadata": {},
   "outputs": [
    {
     "name": "stdout",
     "output_type": "stream",
     "text": [
      "Look ma I am multiplying! 4 5 20\n"
     ]
    },
    {
     "data": {
      "text/plain": [
       "20"
      ]
     },
     "execution_count": 141,
     "metadata": {},
     "output_type": "execute_result"
    }
   ],
   "source": [
    "res = mult(4,5)\n",
    "res"
   ]
  },
  {
   "cell_type": "code",
   "execution_count": 142,
   "metadata": {},
   "outputs": [
    {
     "name": "stdout",
     "output_type": "stream",
     "text": [
      "Help on function mult in module __main__:\n",
      "\n",
      "mult(a, b)\n",
      "    Returns \n",
      "    multiple from first two arguments\n",
      "\n"
     ]
    }
   ],
   "source": [
    "help(mult)"
   ]
  },
  {
   "cell_type": "code",
   "execution_count": 143,
   "metadata": {},
   "outputs": [],
   "source": [
    "def printnum(num):\n",
    "    if num > 10:\n",
    "        print(f\"This number {num} is too unwieldy for me to print\")\n",
    "    else:\n",
    "        print(f\"This {num} is a nice number\")"
   ]
  },
  {
   "cell_type": "code",
   "execution_count": 144,
   "metadata": {},
   "outputs": [
    {
     "name": "stdout",
     "output_type": "stream",
     "text": [
      "3 is odd\n",
      "4 is even\n"
     ]
    }
   ],
   "source": [
    "def isEven(num):\n",
    "    if num%2 == 0:\n",
    "        print(f\"{num} is even\")\n",
    "    else:\n",
    "        print(f\"{num} is odd\")\n",
    "\n",
    "isEven(3)\n",
    "isEven(4)"
   ]
  },
  {
   "cell_type": "code",
   "execution_count": null,
   "metadata": {},
   "outputs": [],
   "source": [
    "def processLine(line):\n",
    "    words = line.split()\n",
    "    linegood=False\n",
    "    for word in words:        \n",
    "        if word[0].isupper():\n",
    "            print(word, end='\\t')\n",
    "            linegood=True\n",
    "    if linegood == True:\n",
    "        print('')"
   ]
  },
  {
   "cell_type": "markdown",
   "metadata": {},
   "source": [
    "## Libraries <a class=\"anchor\" id=\"libraries\">\n",
    "    \n",
    "[Back to Table of Contents](#toc)"
   ]
  },
  {
   "cell_type": "code",
   "execution_count": null,
   "metadata": {},
   "outputs": [],
   "source": [
    "# Python and Batteries Included Philosophy\n",
    "## Why reinvent the wheel?"
   ]
  },
  {
   "cell_type": "code",
   "execution_count": null,
   "metadata": {},
   "outputs": [],
   "source": [
    "# Try importing this\n",
    "import this"
   ]
  },
  {
   "cell_type": "code",
   "execution_count": 145,
   "metadata": {},
   "outputs": [],
   "source": [
    "import math\n"
   ]
  },
  {
   "cell_type": "code",
   "execution_count": 146,
   "metadata": {},
   "outputs": [
    {
     "data": {
      "text/plain": [
       "-0.9999987317275395"
      ]
     },
     "execution_count": 146,
     "metadata": {},
     "output_type": "execute_result"
    }
   ],
   "source": [
    "# notice the . syntax helper (when pressing Tab in Jupyter)\n",
    "math.cos(3.14)"
   ]
  },
  {
   "cell_type": "code",
   "execution_count": 147,
   "metadata": {},
   "outputs": [
    {
     "data": {
      "text/plain": [
       "3.141592653589793"
      ]
     },
     "execution_count": 147,
     "metadata": {},
     "output_type": "execute_result"
    }
   ],
   "source": [
    "math.pi"
   ]
  },
  {
   "cell_type": "code",
   "execution_count": 148,
   "metadata": {},
   "outputs": [
    {
     "data": {
      "text/plain": [
       "-1.0"
      ]
     },
     "execution_count": 148,
     "metadata": {},
     "output_type": "execute_result"
    }
   ],
   "source": [
    "math.cos(math.pi)"
   ]
  },
  {
   "cell_type": "code",
   "execution_count": 150,
   "metadata": {},
   "outputs": [],
   "source": [
    "from collections import Counter"
   ]
  },
  {
   "cell_type": "code",
   "execution_count": 151,
   "metadata": {},
   "outputs": [
    {
     "data": {
      "text/plain": [
       "Counter({'a': 5, 'b': 2, 'r': 2, 'c': 1, 'd': 1})"
      ]
     },
     "execution_count": 151,
     "metadata": {},
     "output_type": "execute_result"
    }
   ],
   "source": [
    "magic = \"abracadabra\"\n",
    "cnt = Counter(magic)\n",
    "cnt"
   ]
  },
  {
   "cell_type": "code",
   "execution_count": null,
   "metadata": {},
   "outputs": [],
   "source": [
    "# There are hundreds of useful Python libraries\n",
    "## Crucial libraries are collected in Standard Library\n",
    "# https://docs.python.org/3/library/\n",
    "# Batteries included\n"
   ]
  },
  {
   "cell_type": "code",
   "execution_count": 152,
   "metadata": {},
   "outputs": [
    {
     "data": {
      "text/plain": [
       "['__add__',\n",
       " '__and__',\n",
       " '__class__',\n",
       " '__contains__',\n",
       " '__delattr__',\n",
       " '__delitem__',\n",
       " '__dict__',\n",
       " '__dir__',\n",
       " '__doc__',\n",
       " '__eq__',\n",
       " '__format__',\n",
       " '__ge__',\n",
       " '__getattribute__',\n",
       " '__getitem__',\n",
       " '__gt__',\n",
       " '__hash__',\n",
       " '__iadd__',\n",
       " '__iand__',\n",
       " '__init__',\n",
       " '__init_subclass__',\n",
       " '__ior__',\n",
       " '__isub__',\n",
       " '__iter__',\n",
       " '__le__',\n",
       " '__len__',\n",
       " '__lt__',\n",
       " '__missing__',\n",
       " '__module__',\n",
       " '__ne__',\n",
       " '__neg__',\n",
       " '__new__',\n",
       " '__or__',\n",
       " '__pos__',\n",
       " '__reduce__',\n",
       " '__reduce_ex__',\n",
       " '__repr__',\n",
       " '__setattr__',\n",
       " '__setitem__',\n",
       " '__sizeof__',\n",
       " '__str__',\n",
       " '__sub__',\n",
       " '__subclasshook__',\n",
       " '__weakref__',\n",
       " '_keep_positive',\n",
       " 'clear',\n",
       " 'copy',\n",
       " 'elements',\n",
       " 'fromkeys',\n",
       " 'get',\n",
       " 'items',\n",
       " 'keys',\n",
       " 'most_common',\n",
       " 'pop',\n",
       " 'popitem',\n",
       " 'setdefault',\n",
       " 'subtract',\n",
       " 'update',\n",
       " 'values']"
      ]
     },
     "execution_count": 152,
     "metadata": {},
     "output_type": "execute_result"
    }
   ],
   "source": [
    "dir(cnt)"
   ]
  },
  {
   "cell_type": "code",
   "execution_count": 153,
   "metadata": {},
   "outputs": [
    {
     "data": {
      "text/plain": [
       "[('a', 5), ('b', 2), ('r', 2)]"
      ]
     },
     "execution_count": 153,
     "metadata": {},
     "output_type": "execute_result"
    }
   ],
   "source": [
    "cnt.most_common(3)"
   ]
  },
  {
   "cell_type": "markdown",
   "metadata": {},
   "source": [
    "### Installing libraries\n",
    "\n",
    "[Back to Table of Contents](#toc)\n",
    "\n",
    "Some \"batteries\" you have to add as you go:\n",
    "* there is a huge repository of Python libraries at https://pypi.org/ (and more on Github and other sources)\n",
    "* Anaconda already has many of them pre-installed\n",
    "\n",
    "To install Python libraries from command line, use the `pip` tool:\n",
    "* example: `pip install requests`\n"
   ]
  },
  {
   "cell_type": "markdown",
   "metadata": {},
   "source": [
    "\n",
    "#### \"Requests III: HTTP for Humans and Machines, alike\"\n",
    "\n",
    "https://3.python-requests.org/"
   ]
  },
  {
   "cell_type": "code",
   "execution_count": 155,
   "metadata": {},
   "outputs": [],
   "source": [
    "import requests"
   ]
  },
  {
   "cell_type": "code",
   "execution_count": 156,
   "metadata": {},
   "outputs": [
    {
     "name": "stdout",
     "output_type": "stream",
     "text": [
      "Help on package requests:\n",
      "\n",
      "NAME\n",
      "    requests\n",
      "\n",
      "DESCRIPTION\n",
      "    Requests HTTP Library\n",
      "    ~~~~~~~~~~~~~~~~~~~~~\n",
      "    \n",
      "    Requests is an HTTP library, written in Python, for human beings.\n",
      "    Basic GET usage:\n",
      "    \n",
      "       >>> import requests\n",
      "       >>> r = requests.get('https://www.python.org')\n",
      "       >>> r.status_code\n",
      "       200\n",
      "       >>> b'Python is a programming language' in r.content\n",
      "       True\n",
      "    \n",
      "    ... or POST:\n",
      "    \n",
      "       >>> payload = dict(key1='value1', key2='value2')\n",
      "       >>> r = requests.post('https://httpbin.org/post', data=payload)\n",
      "       >>> print(r.text)\n",
      "       {\n",
      "         ...\n",
      "         \"form\": {\n",
      "           \"key1\": \"value1\",\n",
      "           \"key2\": \"value2\"\n",
      "         },\n",
      "         ...\n",
      "       }\n",
      "    \n",
      "    The other HTTP methods are supported - see `requests.api`. Full documentation\n",
      "    is at <https://requests.readthedocs.io>.\n",
      "    \n",
      "    :copyright: (c) 2017 by Kenneth Reitz.\n",
      "    :license: Apache 2.0, see LICENSE for more details.\n",
      "\n",
      "PACKAGE CONTENTS\n",
      "    __version__\n",
      "    _internal_utils\n",
      "    adapters\n",
      "    api\n",
      "    auth\n",
      "    certs\n",
      "    compat\n",
      "    cookies\n",
      "    exceptions\n",
      "    help\n",
      "    hooks\n",
      "    models\n",
      "    packages\n",
      "    sessions\n",
      "    status_codes\n",
      "    structures\n",
      "    utils\n",
      "\n",
      "FUNCTIONS\n",
      "    check_compatibility(urllib3_version, chardet_version)\n",
      "\n",
      "DATA\n",
      "    __author_email__ = 'me@kennethreitz.org'\n",
      "    __build__ = 140545\n",
      "    __cake__ = '✨ 🍰 ✨'\n",
      "    __copyright__ = 'Copyright 2020 Kenneth Reitz'\n",
      "    __description__ = 'Python HTTP for Humans.'\n",
      "    __license__ = 'Apache 2.0'\n",
      "    __title__ = 'requests'\n",
      "    __url__ = 'https://requests.readthedocs.io'\n",
      "    codes = <lookup 'status_codes'>\n",
      "\n",
      "VERSION\n",
      "    2.25.1\n",
      "\n",
      "AUTHOR\n",
      "    Kenneth Reitz\n",
      "\n",
      "FILE\n",
      "    /Users/captsolo/_changed_stuff_/LU - BigData 2021/LU_BigData_2021/venv/lib/python3.7/site-packages/requests/__init__.py\n",
      "\n",
      "\n"
     ]
    }
   ],
   "source": [
    "help(requests)"
   ]
  },
  {
   "cell_type": "code",
   "execution_count": 157,
   "metadata": {},
   "outputs": [
    {
     "data": {
      "text/plain": [
       "200"
      ]
     },
     "execution_count": 157,
     "metadata": {},
     "output_type": "execute_result"
    }
   ],
   "source": [
    "# let's get \"raw\" wiki code from Latvian wikipedia\n",
    "url = \"https://lv.wikipedia.org/w/index.php?title=Rīga&action=raw\"\n",
    "\n",
    "response = requests.get(url)\n",
    "response.status_code"
   ]
  },
  {
   "cell_type": "code",
   "execution_count": 158,
   "metadata": {},
   "outputs": [
    {
     "data": {
      "text/plain": [
       "'{{Vērtīgs raksts}}\\n{{Citas nozīmes|Latvijas galvaspilsētu|Rīga (nozīmju atdalīšana)|Rīga}}\\n{{Apdzīvotas vietas infokaste\\n| name = Rīga\\n| settlement_type = Galvaspilsēta\\n| other_name = \\n| nickname = \\n| motto = \\n| image_skyline = {{Photomontage|position=center\\n| photo1a = House of Blackheads and St. P'"
      ]
     },
     "execution_count": 158,
     "metadata": {},
     "output_type": "execute_result"
    }
   ],
   "source": [
    "data = response.text\n",
    "\n",
    "data[:300]"
   ]
  },
  {
   "cell_type": "code",
   "execution_count": 159,
   "metadata": {},
   "outputs": [
    {
     "data": {
      "text/plain": [
       "'tās [[Latvija]]s augstceltne bija [[Saules akmens]] [[Ķīpsala|Ķīpsalā]]. Tika sākta [[Latvijas Nacionālā bibliotēka]]s ēkas — \"[[Gaismas pils (ēka)|Gaismas pils]]\" — celtniecība. 2008. gadā tika atklāts [[Dienvidu tilts]], kas bija pirmais kopš [[1970. gadi]]em uzbūvētais tilts pār [[Daugava|Daugavu]]. [[Rī'"
      ]
     },
     "execution_count": 159,
     "metadata": {},
     "output_type": "execute_result"
    }
   ],
   "source": [
    "data[5892:6200]"
   ]
  },
  {
   "cell_type": "code",
   "execution_count": 160,
   "metadata": {},
   "outputs": [],
   "source": [
    "words = data[5800:].split()"
   ]
  },
  {
   "cell_type": "code",
   "execution_count": 161,
   "metadata": {},
   "outputs": [
    {
     "data": {
      "text/plain": [
       "['os]].',\n",
       " 'Rīgā',\n",
       " 'tika',\n",
       " 'uzceltas',\n",
       " 'daudzas',\n",
       " 'daudzstāvu',\n",
       " 'dzīvojamās',\n",
       " 'un',\n",
       " 'ofisu',\n",
       " 'ēkas,']"
      ]
     },
     "execution_count": 161,
     "metadata": {},
     "output_type": "execute_result"
    }
   ],
   "source": [
    "words[:10]"
   ]
  },
  {
   "cell_type": "code",
   "execution_count": 162,
   "metadata": {},
   "outputs": [],
   "source": [
    "cnt2 = Counter(words)"
   ]
  },
  {
   "cell_type": "code",
   "execution_count": 163,
   "metadata": {},
   "outputs": [
    {
     "data": {
      "text/plain": [
       "Counter({'os]].': 1,\n",
       "         'Rīgā': 35,\n",
       "         'tika': 12,\n",
       "         'uzceltas': 1,\n",
       "         'daudzas': 1,\n",
       "         'daudzstāvu': 1,\n",
       "         'dzīvojamās': 2,\n",
       "         'un': 87,\n",
       "         'ofisu': 1,\n",
       "         'ēkas,': 1,\n",
       "         'no': 30,\n",
       "         'kurām': 1,\n",
       "         'pirmā': 2,\n",
       "         'atjaunotās': 1,\n",
       "         '[[Latvija]]s': 4,\n",
       "         'augstceltne': 1,\n",
       "         'bija': 15,\n",
       "         '[[Saules': 3,\n",
       "         'akmens]]': 2,\n",
       "         '[[Ķīpsala|Ķīpsalā]].': 1,\n",
       "         'Tika': 1,\n",
       "         'sākta': 1,\n",
       "         '[[Latvijas': 18,\n",
       "         'Nacionālā': 2,\n",
       "         'bibliotēka]]s': 1,\n",
       "         'ēkas': 1,\n",
       "         '—': 8,\n",
       "         '\"[[Gaismas': 3,\n",
       "         'pils': 3,\n",
       "         '(ēka)|Gaismas': 3,\n",
       "         'pils]]\"': 2,\n",
       "         'celtniecība.': 1,\n",
       "         '2008.': 3,\n",
       "         'gadā': 20,\n",
       "         'atklāts': 2,\n",
       "         '[[Dienvidu': 2,\n",
       "         'tilts]],': 1,\n",
       "         'kas': 9,\n",
       "         'pirmais': 2,\n",
       "         'kopš': 2,\n",
       "         '[[1970.': 1,\n",
       "         'gadi]]em': 1,\n",
       "         'uzbūvētais': 1,\n",
       "         'tilts': 4,\n",
       "         'pār': 1,\n",
       "         '[[Daugava|Daugavu]].': 1,\n",
       "         '[[Rīgas': 20,\n",
       "         'Satiksme|“Rīgas': 1,\n",
       "         'satiksme”]]': 1,\n",
       "         'pilnībā': 1,\n",
       "         'atjaunoja': 2,\n",
       "         'autobusu': 6,\n",
       "         'parku,': 1,\n",
       "         'kā': 15,\n",
       "         'arī': 25,\n",
       "         'daļēji': 3,\n",
       "         'trolejbusu': 5,\n",
       "         'tramvaju': 4,\n",
       "         'parku.': 1,\n",
       "         '2003.': 1,\n",
       "         'notika': 3,\n",
       "         '[[2003.': 1,\n",
       "         'gada': 40,\n",
       "         'Eirovīzijas': 1,\n",
       "         'dziesmu': 2,\n",
       "         'konkurss|Eirovīzijas': 1,\n",
       "         'konkurss]].': 1,\n",
       "         '2006.': 1,\n",
       "         'maijā': 1,\n",
       "         '[[2006.': 2,\n",
       "         'Pasaules': 2,\n",
       "         'čempionāts': 4,\n",
       "         'hokejā|Pasaules': 1,\n",
       "         'hokejā]],': 1,\n",
       "         'bet': 18,\n",
       "         'tā': 3,\n",
       "         'paša': 1,\n",
       "         'novembrī': 2,\n",
       "         '[[19.': 1,\n",
       "         'NATO': 1,\n",
       "         'samits]].': 1,\n",
       "         'Sakarā': 1,\n",
       "         'ar': 15,\n",
       "         '[[2008.': 1,\n",
       "         'globālā': 1,\n",
       "         'finanšu': 2,\n",
       "         'krīze|globālo': 1,\n",
       "         'krīzi]]': 1,\n",
       "         'ekonomika': 1,\n",
       "         'pēc': 11,\n",
       "         'rekordstraujas': 1,\n",
       "         'attīstības': 3,\n",
       "         '[[2000.': 1,\n",
       "         'gadi|2000.': 1,\n",
       "         'gados]]': 2,\n",
       "         'pārkarsa.': 1,\n",
       "         'Nonākot': 1,\n",
       "         'recesijā,': 1,\n",
       "         'daudzi': 1,\n",
       "         'celtniecības': 1,\n",
       "         'projekti': 1,\n",
       "         'ierobežoti': 1,\n",
       "         'vai': 13,\n",
       "         'apturēti,': 1,\n",
       "         'tomēr': 2,\n",
       "         'projekti,': 1,\n",
       "         'kuru': 4,\n",
       "         'attīstība': 1,\n",
       "         'apturēta': 1,\n",
       "         'netika.': 1,\n",
       "         'Nozīmīgākie': 1,\n",
       "         'tiem': 1,\n",
       "         'tilts]]': 2,\n",
       "         'piebraucamajiem': 1,\n",
       "         'ceļiem': 1,\n",
       "         'abpus': 1,\n",
       "         '[[Daugava]]s,': 2,\n",
       "         'bibliotēka|Latvijas': 1,\n",
       "         'Nacionālās': 1,\n",
       "         'bibliotēkas]]': 1,\n",
       "         'jaunā': 2,\n",
       "         'ēka': 1,\n",
       "         '(tā': 1,\n",
       "         'dēvētā': 1,\n",
       "         'pils]]\").': 1,\n",
       "         '==': 26,\n",
       "         'Ģeogrāfija': 1,\n",
       "         'Rīgas': 38,\n",
       "         'pilsēta': 4,\n",
       "         'atrodas': 3,\n",
       "         'centrālajā': 2,\n",
       "         'daļā,': 1,\n",
       "         'jūras': 10,\n",
       "         'līcis|Rīgas': 2,\n",
       "         'līča]]': 1,\n",
       "         'dienvidu': 2,\n",
       "         'piekrastē,': 1,\n",
       "         '[[Viduslatvijas': 1,\n",
       "         'zemiene|Viduslatvijas': 1,\n",
       "         'zemienē]],': 1,\n",
       "         '[[Rīgavas': 1,\n",
       "         'līdzenums|Rīgavas]]': 1,\n",
       "         '[[Tīreļu': 1,\n",
       "         'līdzenums|Tīreļu': 1,\n",
       "         'līdzenuma]]': 1,\n",
       "         'teritorijā,': 1,\n",
       "         'abos': 1,\n",
       "         '[[Daugava]]s': 4,\n",
       "         'krastos': 1,\n",
       "         '(teritoriju': 1,\n",
       "         'kreisajā': 1,\n",
       "         'krastā': 1,\n",
       "         'sauc': 2,\n",
       "         'par': 12,\n",
       "         '[[Pārdaugava|Pārdaugavu]]).': 1,\n",
       "         'Rīga': 5,\n",
       "         'ir': 48,\n",
       "         'tipiska': 1,\n",
       "         'līdzenuma': 1,\n",
       "         'atsevišķiem': 1,\n",
       "         'pauguriem,': 1,\n",
       "         'kuriem': 1,\n",
       "         'augstākais': 4,\n",
       "         '[[Dzegužkalns]]&nbsp;—': 1,\n",
       "         '26': 3,\n",
       "         'metri': 2,\n",
       "         'virs': 4,\n",
       "         'līmeņa.': 3,\n",
       "         'Vidējais': 1,\n",
       "         'virsmas': 1,\n",
       "         'augstums': 3,\n",
       "         'aptuveni': 4,\n",
       "         '6': 2,\n",
       "         'metri.': 2,\n",
       "         'Izplatīti': 1,\n",
       "         'leduslaikmeta': 1,\n",
       "         'beigu': 1,\n",
       "         'posma': 1,\n",
       "         'pēcleduslaikmeta': 2,\n",
       "         'Baltijas': 1,\n",
       "         'ledus': 1,\n",
       "         'ezera': 1,\n",
       "         'abrāzijas—akumulācijas,': 1,\n",
       "         'Litorīnas': 1,\n",
       "         'Pēclitorīnas': 1,\n",
       "         'deltu': 1,\n",
       "         'akumulatīvie,': 1,\n",
       "         'upju': 1,\n",
       "         'erozijas': 1,\n",
       "         'akumulatīvie': 1,\n",
       "         'veidojumi,': 1,\n",
       "         'kāpas,': 1,\n",
       "         'purvi.': 1,\n",
       "         'Pārsvarā': 1,\n",
       "         'plakani': 1,\n",
       "         'viļņoti,': 1,\n",
       "         'vietām': 1,\n",
       "         'pārpurvoti': 1,\n",
       "         'līdzenumi,': 1,\n",
       "         '1—11': 1,\n",
       "         'metrus': 2,\n",
       "         'Vietām': 1,\n",
       "         'stiepjas': 1,\n",
       "         'vairākus': 1,\n",
       "         'kilometrus': 1,\n",
       "         'garas,': 1,\n",
       "         'paugurainas': 1,\n",
       "         'kāpu': 2,\n",
       "         'grēdas': 1,\n",
       "         'atsevišķi': 1,\n",
       "         '1—3': 1,\n",
       "         'hektārus': 1,\n",
       "         'lieli': 1,\n",
       "         'masīvi,': 1,\n",
       "         '10—28': 1,\n",
       "         '===': 26,\n",
       "         'Klimats': 1,\n",
       "         '{{Galvenais|Rīgas': 1,\n",
       "         'klimats}}': 1,\n",
       "         'klimata': 1,\n",
       "         'veidošanā': 1,\n",
       "         'svarīga': 1,\n",
       "         'nozīme': 1,\n",
       "         '[[Atlantijas': 1,\n",
       "         'okeāns|Atlantijas': 1,\n",
       "         'okeāna]]': 1,\n",
       "         'mēreno': 1,\n",
       "         'platuma': 2,\n",
       "         'grādu': 2,\n",
       "         'gaisa': 7,\n",
       "         'masām,': 1,\n",
       "         'saistītas': 1,\n",
       "         'aktīvu': 1,\n",
       "         '[[Ciklons|ciklonisko]]': 1,\n",
       "         'darbību.': 1,\n",
       "         'Tāpēc': 1,\n",
       "         'te': 1,\n",
       "         'bieži': 5,\n",
       "         'nokrišņi': 1,\n",
       "         'apmācies': 1,\n",
       "         'laiks.': 2,\n",
       "         'Vasaras': 1,\n",
       "         'relatīvi': 1,\n",
       "         'vēsas.': 1,\n",
       "         'Aptuveni': 2,\n",
       "         '220': 1,\n",
       "         'dienas': 6,\n",
       "         'valda': 3,\n",
       "         'masas.': 2,\n",
       "         'Klimatu': 1,\n",
       "         'ietekmē': 3,\n",
       "         'apbūve,': 1,\n",
       "         'saimniecisko': 1,\n",
       "         'objektu': 1,\n",
       "         'izvietojums,': 1,\n",
       "         'laukumu': 1,\n",
       "         'parku': 1,\n",
       "         'platība,': 1,\n",
       "         'lielu': 1,\n",
       "         'ūdenstilpju': 2,\n",
       "         '([[Rīgas': 1,\n",
       "         'līča]],': 1,\n",
       "         '[[Ķīšezers|Ķīšezera]])': 1,\n",
       "         'tuvums.': 1,\n",
       "         'Gaisa': 1,\n",
       "         'piesārņojuma': 1,\n",
       "         'dēļ': 4,\n",
       "         'vidējā': 6,\n",
       "         'temperatūra': 5,\n",
       "         'parasti': 7,\n",
       "         '2—3': 2,\n",
       "         'grādus': 2,\n",
       "         'augstāka': 1,\n",
       "         'nekā': 4,\n",
       "         'pilsētas': 14,\n",
       "         'tuvākajā': 1,\n",
       "         'apkārtnē.': 1,\n",
       "         '[[Saule]]s': 1,\n",
       "         'leņķa': 1,\n",
       "         'maksimums': 2,\n",
       "         '[[22.': 2,\n",
       "         'jūnijs|22.': 1,\n",
       "         'jūnijā]],': 1,\n",
       "         '56,4°,': 1,\n",
       "         'zemākais&nbsp;—': 1,\n",
       "         'decembris|22.': 1,\n",
       "         'decembrī]],': 1,\n",
       "         'tikai': 6,\n",
       "         '9,6°': 1,\n",
       "         'horizonta.': 1,\n",
       "         'visos': 1,\n",
       "         'gadalaikos': 1,\n",
       "         'palielināts': 1,\n",
       "         'mākoņainums,': 1,\n",
       "         'tāpēc': 1,\n",
       "         'faktiskais': 1,\n",
       "         'saules': 2,\n",
       "         'spīdēšanas': 1,\n",
       "         'ilgums': 1,\n",
       "         '[[Vasara|vasarā]]': 1,\n",
       "         '54—57%,': 1,\n",
       "         '[[Ziema|ziemā]]': 1,\n",
       "         '14—25%': 1,\n",
       "         'iespējamā.': 1,\n",
       "         'Vidēji': 1,\n",
       "         'saule': 1,\n",
       "         'spīd': 1,\n",
       "         '1812': 1,\n",
       "         'stundas&nbsp;—': 1,\n",
       "         'attiecīgi': 1,\n",
       "         'jūnijā': 1,\n",
       "         'vidēji': 6,\n",
       "         '282': 1,\n",
       "         'stundas,': 1,\n",
       "         'decembrī': 2,\n",
       "         '25': 3,\n",
       "         'stundas.': 1,\n",
       "         'Ziemā': 3,\n",
       "         'bez': 1,\n",
       "         '13—20,': 1,\n",
       "         'vasarā': 5,\n",
       "         '1—2': 1,\n",
       "         'mēnesī.': 2,\n",
       "         'Summārā': 1,\n",
       "         'radiācija': 1,\n",
       "         'sasniedz': 4,\n",
       "         '3460,9': 1,\n",
       "         'MJ/m<sup>2</sup>': 3,\n",
       "         '(82': 2,\n",
       "         'kcal/cm<sup>2</sup>),': 2,\n",
       "         'tās': 6,\n",
       "         'jūnijā&nbsp;—': 1,\n",
       "         '615,9': 1,\n",
       "         '25,2': 1,\n",
       "         '(0,6': 1,\n",
       "         'kcal/cm<sup>2</sup>).': 1,\n",
       "         '[[Attēls:Riian': 1,\n",
       "         'vanhakaupunki.jpg|thumb|200px|[[Vecrīga]]]]': 1,\n",
       "         '====': 2,\n",
       "         'Temperatūra': 1,\n",
       "         'Viszemākās': 1,\n",
       "         '[[gaisa': 4,\n",
       "         'temperatūra]]s': 3,\n",
       "         'tiek': 4,\n",
       "         'reģistrētas': 3,\n",
       "         'janvārī': 1,\n",
       "         'februārī.': 1,\n",
       "         '*': 191,\n",
       "         '−34,9&nbsp;°C': 1,\n",
       "         '([[1956]].': 1,\n",
       "         '[[1.': 2,\n",
       "         'februāris]])': 2,\n",
       "         '−34,6&nbsp;°C': 1,\n",
       "         '([[1985.': 1,\n",
       "         'laikapstākļi': 4,\n",
       "         'Latvijā|1985]].': 1,\n",
       "         '[[12.': 1,\n",
       "         '−33,7&nbsp;°C': 1,\n",
       "         '([[1970.': 1,\n",
       "         'Latvijā|1970]].': 1,\n",
       "         '[[30.': 2,\n",
       "         'janvāris]])': 1,\n",
       "         'Visaugstākās': 1,\n",
       "         'jūlijā': 1,\n",
       "         'augustā.': 1,\n",
       "         '+34,5&nbsp;°C': 1,\n",
       "         '([[1885]].': 1,\n",
       "         '[[15.': 3,\n",
       "         'jūlijs]]': 2,\n",
       "         '[[1914]].': 1,\n",
       "         'jūlijs]])<ref>[http://notikumi.delfi.lv/archive/article.php?id=1536071': 1,\n",
       "         'Termometra': 1,\n",
       "         'stabiņš': 1,\n",
       "         '+32': 1,\n",
       "         'grādus]</ref>': 1,\n",
       "         '+34,1&nbsp;°C': 1,\n",
       "         '([[2002.': 1,\n",
       "         'Latvijā|2002]].': 1,\n",
       "         '[[31.': 1,\n",
       "         'jūlijs]])': 1,\n",
       "         '+34,0&nbsp;°C': 1,\n",
       "         '([[1896]].': 1,\n",
       "         'jūlijs]],': 1,\n",
       "         '[[1923]].': 1,\n",
       "         '[[13.': 1,\n",
       "         '[[1988.': 1,\n",
       "         'Latvijā|1988]].': 1,\n",
       "         '[[7.': 1,\n",
       "         'jūnijs]])': 1,\n",
       "         'Okeāna': 1,\n",
       "         'masu': 1,\n",
       "         'ziemā': 2,\n",
       "         'raksturīgi': 1,\n",
       "         'atkušņi,': 1,\n",
       "         'līdz': 11,\n",
       "         'pat': 5,\n",
       "         '10': 6,\n",
       "         'dienām': 1,\n",
       "         'Sala': 1,\n",
       "         'periodi': 1,\n",
       "         'sākas': 4,\n",
       "         'decembra': 1,\n",
       "         'vidū': 2,\n",
       "         'turpinās': 1,\n",
       "         'februāra': 1,\n",
       "         'beigām.': 1,\n",
       "         'Ļoti': 1,\n",
       "         'aukstas': 1,\n",
       "         'ziemas': 1,\n",
       "         'pēdējos': 1,\n",
       "         '50': 1,\n",
       "         'gados': 3,\n",
       "         'bijušas': 1,\n",
       "         '1939./1940.,': 1,\n",
       "         '1941./1942.,': 1,\n",
       "         '1955./1956.,': 1,\n",
       "         '1978./1979.,': 1,\n",
       "         '1984./1985.,': 1,\n",
       "         '1986./1987.': 1,\n",
       "         'gados.': 1,\n",
       "         'Vasarā': 1,\n",
       "         'temperatūra]]': 1,\n",
       "         'galvenokārt': 1,\n",
       "         '+5': 1,\n",
       "         '+15': 2,\n",
       "         'grādiem': 2,\n",
       "         'naktī': 1,\n",
       "         '+20,': 1,\n",
       "         '+25': 2,\n",
       "         'dienā.': 1,\n",
       "         'Diennakts': 1,\n",
       "         'temperatūras': 2,\n",
       "         'amplitūda': 1,\n",
       "         '8—10': 2,\n",
       "         'grādus,': 3,\n",
       "         'reizēm': 1,\n",
       "         '20': 3,\n",
       "         'grādus.': 1,\n",
       "         'Periods,': 1,\n",
       "         'kad': 5,\n",
       "         'diennakts': 4,\n",
       "         'pārsniedz': 2,\n",
       "         'nav': 4,\n",
       "         'garš': 1,\n",
       "         '(no': 1,\n",
       "         'jūnija': 1,\n",
       "         'vidus': 1,\n",
       "         'augusta': 1,\n",
       "         'beigām).': 1,\n",
       "         'Karsts': 1,\n",
       "         'laiks,': 1,\n",
       "         'maksimāli': 1,\n",
       "         'iespējams': 2,\n",
       "         '7—9': 1,\n",
       "         '(1936,': 1,\n",
       "         '1939.': 1,\n",
       "         'gadi).': 1,\n",
       "         '[[Pavasaris]]': 1,\n",
       "         'auksts': 1,\n",
       "         'ieildzis,': 1,\n",
       "         '[[rudens]]': 2,\n",
       "         'silts': 1,\n",
       "         'garš.': 1,\n",
       "         'Veģetācijas': 1,\n",
       "         'periods,': 1,\n",
       "         '+5&nbsp;°C': 1,\n",
       "         'augstāka,': 1,\n",
       "         '[[14.': 1,\n",
       "         'aprīlis|14.': 1,\n",
       "         'aprīlī]]': 1,\n",
       "         'ilgst': 2,\n",
       "         '192': 1,\n",
       "         'dienas,': 2,\n",
       "         'augu': 1,\n",
       "         'augšanas': 1,\n",
       "         'aktīvais': 1,\n",
       "         'periods': 1,\n",
       "         '(temperatūra': 1,\n",
       "         '+10&nbsp;°C': 1,\n",
       "         'augstāka)&nbsp;—': 1,\n",
       "         '144': 1,\n",
       "         'dienas.': 2,\n",
       "         'Salnas': 1,\n",
       "         'beidzas': 2,\n",
       "         'ap': 4,\n",
       "         '[[25.': 1,\n",
       "         'aprīlis|25.': 1,\n",
       "         'aprīli]],': 1,\n",
       "         'atsevišķos': 1,\n",
       "         'var': 3,\n",
       "         'būt': 2,\n",
       "         'vēl': 4,\n",
       "         'maijs|15.': 1,\n",
       "         'maijā]]': 1,\n",
       "         '(1927.': 1,\n",
       "         'gads).': 1,\n",
       "         'Agrākās': 1,\n",
       "         'salnas': 2,\n",
       "         '1906.': 1,\n",
       "         '[[26.': 1,\n",
       "         'septembris|26.': 1,\n",
       "         'septembrī]].': 1,\n",
       "         'Apkures': 1,\n",
       "         'sezona,': 1,\n",
       "         '+8&nbsp;°C': 1,\n",
       "         'zemāka,': 1,\n",
       "         '[[8.': 1,\n",
       "         'oktobris|8.': 1,\n",
       "         'oktobrī]]': 1,\n",
       "         '204': 1,\n",
       "         'Pilsētas': 3,\n",
       "         'centrā,': 1,\n",
       "         'tāpat': 1,\n",
       "         'visās': 1,\n",
       "         'lielajās': 1,\n",
       "         'pilsētās,': 1,\n",
       "         'siltāks': 1,\n",
       "         'nomalēs.': 1,\n",
       "         'šī': 1,\n",
       "         'starpība': 1,\n",
       "         'sasniegt': 1,\n",
       "         'vairāk.': 1,\n",
       "         'Daudz': 1,\n",
       "         'agrāk': 1,\n",
       "         'pavasara': 1,\n",
       "         'vēlāk': 2,\n",
       "         'rudens': 1,\n",
       "         '(atšķirība': 1,\n",
       "         'dienām).': 1,\n",
       "         'Mēreno': 1,\n",
       "         'masas': 1,\n",
       "         '179': 1,\n",
       "         'gadā.': 3,\n",
       "         'Aukstajā': 1,\n",
       "         'gadalaikā': 1,\n",
       "         'rada': 1,\n",
       "         'atkusni,': 1,\n",
       "         'dažos': 1,\n",
       "         'padara': 1,\n",
       "         'stipri': 2,\n",
       "         'maigāku': 1,\n",
       "         'visu': 2,\n",
       "         'ziemu.': 1,\n",
       "         '[[Vasara|Vasarā]]': 1,\n",
       "         'atnes': 2,\n",
       "         'vēsu,': 1,\n",
       "         'mākoņainu': 1,\n",
       "         'lietainu': 1,\n",
       "         'laiku.': 1,\n",
       "         'Sevišķi': 1,\n",
       "         'vēsa': 1,\n",
       "         'lietaina': 1,\n",
       "         '1974.': 1,\n",
       "         'vasara.': 2,\n",
       "         'Ciklonu': 1,\n",
       "         'novērojams': 1,\n",
       "         'rudenī&nbsp;—': 1,\n",
       "         '55': 1,\n",
       "         'vasarā&nbsp;—': 1,\n",
       "         '41': 1,\n",
       "         'dienu.': 1,\n",
       "         'Reizēm': 1,\n",
       "         '50—60': 1,\n",
       "         'ieplūst': 1,\n",
       "         'arktiskās': 1,\n",
       "         'masas,': 1,\n",
       "         'izraisa': 2,\n",
       "         'strauju': 1,\n",
       "         'pazemināšanos,': 1,\n",
       "         'stipru': 1,\n",
       "         'salu': 1,\n",
       "         'temperatūrām': 1,\n",
       "         'zem': 5,\n",
       "         '−30&nbsp;°C.': 1,\n",
       "         'Tomēr': 1,\n",
       "         'tas': 6,\n",
       "         'nesaglabājas': 1,\n",
       "         'ilgāk': 1,\n",
       "         'dienām.': 1,\n",
       "         'Dienvidu': 1,\n",
       "         '[[ciklons|cikloni]]': 1,\n",
       "         '[[Vidusjūra]]s': 1,\n",
       "         '[[Melnā': 1,\n",
       "         'jūra|Melnās': 1,\n",
       "         'jūras]]': 1,\n",
       "         'dažreiz': 1,\n",
       "         'tropiskās': 1,\n",
       "         'Ik': 1,\n",
       "         'gadu': 2,\n",
       "         '160—180': 1,\n",
       "         '[[Anticiklons|anticikloni]].': 1,\n",
       "         'Tad': 1,\n",
       "         'sauss': 1,\n",
       "         'skaidrs': 1,\n",
       "         'tie': 2,\n",
       "         'pazemina': 1,\n",
       "         'temperatūru,': 1,\n",
       "         'cēlonis': 1,\n",
       "         'ilgstošam': 1,\n",
       "         'karstumam.': 1,\n",
       "         'Anticiklona': 1,\n",
       "         'sevišķi': 1,\n",
       "         'sausa': 1,\n",
       "         'karsta': 1,\n",
       "         '1972.': 1,\n",
       "         'Gada': 1,\n",
       "         'laikā': 2,\n",
       "         'Rīgai': 3,\n",
       "         'pāri': 1,\n",
       "         'iet': 1,\n",
       "         '170—180': 1,\n",
       "         'dažādas': 1,\n",
       "         '[[atmosfēras': 1,\n",
       "         'fronte]]s.': 1,\n",
       "         'Ar': 1,\n",
       "         'tām': 1,\n",
       "         'saistās': 1,\n",
       "         '[[Vējš|vēja]]': 1,\n",
       "         'pastiprināšanās,': 1,\n",
       "         '[[nokrišņi]],': 1,\n",
       "         '[[Negaiss|pērkona': 1,\n",
       "         'negaisi]],': 1,\n",
       "         '[[krusa]],': 1,\n",
       "         '[[putenis|puteņi]].': 1,\n",
       "         '[[Ziema|Ziemā]]': 1,\n",
       "         '[[Siltā': 1,\n",
       "         'atmosfēras': 2,\n",
       "         'fronte|siltās': 1,\n",
       "         'frontes]]': 1,\n",
       "         '[[Atkala|atkalu]],': 1,\n",
       "         '[[Migla|miglu]]': 1,\n",
       "         '[[Smidzinošs': 1,\n",
       "         'lietus|smidzinošu': 1,\n",
       "         'lietu]].': 1,\n",
       "         'vidējās,': 1,\n",
       "         'minimālās': 1,\n",
       "         'maksimālās': 1,\n",
       "         'temperatūras,': 1,\n",
       "         'nokrišņu': 1,\n",
       "         'daudzuma': 1,\n",
       "         'tabula.<ref>{{Tīmekļa': 1,\n",
       "         'atsauce': 3,\n",
       "         '|url=http://www.meteo.lv/public/27817.html': 1,\n",
       "         '|title=Latvijas': 1,\n",
       "         'Vides,': 1,\n",
       "         'ģeoloģijas': 1,\n",
       "         'meteoroloģijas': 1,\n",
       "         'aģentūra': 1,\n",
       "         '|access-date={{dat|2007|10|06||bez}}': 1,\n",
       "         '|archiveurl=https://web.archive.org/web/20070928110930/http://www.meteo.lv/public/27817.html': 1,\n",
       "         '|archivedate={{dat|2007|09|28||bez}}': 1,\n",
       "         '}}</ref><ref>[http://pogoda.ru.net/climate/26422.htm': 1,\n",
       "         'Mājalapa': 1,\n",
       "         'pogoda.ru.net]</ref>': 1,\n",
       "         '{{RigaMeteoData}}': 1,\n",
       "         'Fauna': 1,\n",
       "         'primārā': 2,\n",
       "         'piejūras': 1,\n",
       "         'līdzenumu': 1,\n",
       "         'fauna,': 1,\n",
       "         'sastāv': 2,\n",
       "         'priežu': 1,\n",
       "         'jaukto': 1,\n",
       "         'mežu': 1,\n",
       "         'dzīvniekiem,': 1,\n",
       "         'zālāju': 1,\n",
       "         'purvu,': 1,\n",
       "         'smilšainu': 1,\n",
       "         'purvainu': 1,\n",
       "         'augšņu': 1,\n",
       "         'iemītniekiem,': 1,\n",
       "         'dažādu': 1,\n",
       "         'apdzīvotājiem.': 1,\n",
       "         'Līdz': 2,\n",
       "         'cilvēka': 1,\n",
       "         'saimnieciskās': 1,\n",
       "         'darbības': 1,\n",
       "         'intensifikāciju': 1,\n",
       "         'fauna': 3,\n",
       "         'radikāli': 1,\n",
       "         'pārmainījusies': 1,\n",
       "         'noplicinājusies.': 1,\n",
       "         'daļā': 1,\n",
       "         'gandrīz': 2,\n",
       "         'pilnīgi': 1,\n",
       "         'iznīkusi,': 1,\n",
       "         'saglabājusies': 1,\n",
       "         'izklaidus': 1,\n",
       "         'apbūvētajos': 1,\n",
       "         'rajonos,': 3,\n",
       "         'samērā': 2,\n",
       "         'labi': 1,\n",
       "         'perifērijā.': 1,\n",
       "         '[[Attēls:Balodis': 1,\n",
       "         'Tuvplana.jpg|thumb|left|200px|[[Mājas': 1,\n",
       "         'balodis]],': 1,\n",
       "         'izplatīts': 1,\n",
       "         'putns': 1,\n",
       "         'Rīgā]]': 6,\n",
       "         'zīdītājdzīvnieku': 1,\n",
       "         'speciāli': 1,\n",
       "         'pētīta,': 1,\n",
       "         'tādēļ': 1,\n",
       "         'precīzu': 1,\n",
       "         'konstatēto': 1,\n",
       "         'sugu': 1,\n",
       "         'skaitu': 1,\n",
       "         'nevar': 1,\n",
       "         'noteikt.': 1,\n",
       "         'nomalēs,': 1,\n",
       "         'dzīvojamajos': 1,\n",
       "         'rajonos': 2,\n",
       "         'ieklejo': 1,\n",
       "         'aļņi,': 1,\n",
       "         'dažkārt': 1,\n",
       "         'stirnas,': 1,\n",
       "         'retāk': 3,\n",
       "         'mežacūkas,': 1,\n",
       "         'vairākkārt': 1,\n",
       "         'ieklīdušas': 1,\n",
       "         '[[Rudā': 1,\n",
       "         'lapsa|rudās': 1,\n",
       "         'lapsas]].': 1,\n",
       "         'Mežos,': 1,\n",
       "         'kapsētās': 1,\n",
       "         'parkos': 2,\n",
       "         'sastopamas': 1,\n",
       "         'Eirāzijas': 1,\n",
       "         'vāveres,': 1,\n",
       "         'nomalēs': 1,\n",
       "         'salās&nbsp;—': 1,\n",
       "         'pelēkais': 1,\n",
       "         'zaķis,': 1,\n",
       "         'piemērotos': 1,\n",
       "         'biotopos': 1,\n",
       "         'atrast': 1,\n",
       "         'Eiropas': 2,\n",
       "         'kurmi,': 1,\n",
       "         'ezi,': 1,\n",
       "         'meža': 4,\n",
       "         'cirsli': 1,\n",
       "         'mazo': 1,\n",
       "         'cirsli.': 1,\n",
       "         'No': 2,\n",
       "         'plēsējiem': 1,\n",
       "         'teritorijā': 2,\n",
       "         'konstatēta': 1,\n",
       "         'Amerikas': 1,\n",
       "         'ūdele': 1,\n",
       "         '(galvenokārt': 1,\n",
       "         'gar': 1,\n",
       "         '[[Daugava|Daugavu]]),': 1,\n",
       "         'sesks': 1,\n",
       "         'cauna.': 1,\n",
       "         '[[Attēls:Columba': 1,\n",
       "         'livia': 1,\n",
       "         'domestica.JPG|thumb|Baloži]]': 1,\n",
       "         'Daudzveidīga': 1,\n",
       "         'putnu': 2,\n",
       "         'fauna.': 1,\n",
       "         'Reģistrētas': 1,\n",
       "         '250': 1,\n",
       "         'sugas': 3,\n",
       "         '308': 3,\n",
       "         '[[Latvija|Latvijā]]': 1,\n",
       "         'sastopamajām.': 1,\n",
       "         '150': 1,\n",
       "         'ligzdo.': 1,\n",
       "         'Vairākums': 1,\n",
       "         'ligzdotāju': 1,\n",
       "         'pilsētā': 2,\n",
       "         'veido': 1,\n",
       "         'nelielas': 1,\n",
       "         'populācijas.': 1,\n",
       "         'Lielas': 1,\n",
       "         'populācijas': 1,\n",
       "         'putniem,': 1,\n",
       "         'ligzdošana': 1,\n",
       "         'saistīta': 1,\n",
       "         'ēkām&nbsp;—': 1,\n",
       "         'piemēram,': 1,\n",
       "         '[[mājas': 2,\n",
       "         'balodis|mājas': 1,\n",
       "         'balodim]],': 1,\n",
       "         'zvirbulis|mājas': 1,\n",
       "         'zvirbulim]],': 1,\n",
       "         'svīrei': 1,\n",
       "         'kovārnim.': 1,\n",
       "         'Dažas': 1,\n",
       "         'konstatētas': 1,\n",
       "         'vienu': 1,\n",
       "         'reizi.': 1,\n",
       "         'Dzīvojamo': 1,\n",
       "         'namu': 1,\n",
       "         'apstādījumos': 1,\n",
       "         'dominē': 1,\n",
       "         'lielā': 1,\n",
       "         'zīlīte,': 1,\n",
       "         'sastopams': 1,\n",
       "         'melnais': 2,\n",
       "         'strazds,': 1,\n",
       "         'žubīte,': 2,\n",
       "         'gaišais': 1,\n",
       "         'ķauķis,': 1,\n",
       "         'sīlis,': 1,\n",
       "         'gredzenūbele,': 1,\n",
       "         'vārna': 1,\n",
       "         'žagata.': 1,\n",
       "         'Kapsētās': 1,\n",
       "         'lapu': 1,\n",
       "         'koku': 1,\n",
       "         'audzēs': 1,\n",
       "         'sastopama': 2,\n",
       "         'lakstīgala,': 1,\n",
       "         'sarkanrīklīte,': 1,\n",
       "         'mušķērājs,': 1,\n",
       "         'daudz': 1,\n",
       "         'zīlīšu,': 1,\n",
       "         'ķauķu,': 1,\n",
       "         'ķauķīšu.': 1,\n",
       "         'Priežu': 1,\n",
       "         'mežos': 1,\n",
       "         'mīt': 1,\n",
       "         'vītītis,': 1,\n",
       "         'cekulzīlīte,': 1,\n",
       "         'erickiņš.': 1,\n",
       "         '[[Daugava|Daugavā]]': 1,\n",
       "         'ezeros': 1,\n",
       "         'milzīgas': 1,\n",
       "         'lielo': 1,\n",
       "         'ķīru': 1,\n",
       "         'kolonijas.': 1,\n",
       "         'Pļavās': 1,\n",
       "         'ķīvīte,': 1,\n",
       "         'smiltājos&nbsp;—': 1,\n",
       "         'upes': 1,\n",
       "         'tārtiņš,': 1,\n",
       "         'ūdenstilpēs&nbsp;—': 1,\n",
       "         'pīle.': 1,\n",
       "         'Teritoriālais': 1,\n",
       "         'iedalījums': 2,\n",
       "         '[[Attēls:Riga': 2,\n",
       "         'SPOT': 1,\n",
       "         '1024.jpg|200px|right|thumb|Rīgas': 1,\n",
       "         'teritorija': 1,\n",
       "         'skats': 2,\n",
       "         'satelīta]]': 1,\n",
       "         'iedalīta': 1,\n",
       "         'sešās': 1,\n",
       "         'administratīvās': 2,\n",
       "         'vienībās:': 1,\n",
       "         '[[Centra': 4,\n",
       "         'rajons': 4,\n",
       "         '(Rīga)|Centra': 3,\n",
       "         'rajons]]': 4,\n",
       "         '(3&nbsp;km<sup>2</sup>)': 1,\n",
       "         '[[Kurzemes': 2,\n",
       "         '(79&nbsp;km<sup>2</sup>)': 1,\n",
       "         '[[Zemgales': 2,\n",
       "         'priekšpilsēta]]': 4,\n",
       "         '(41&nbsp;km<sup>2</sup>)': 1,\n",
       "         '[[Ziemeļu': 1,\n",
       "         '(Rīga)|Ziemeļu': 1,\n",
       "         '(77&nbsp;km<sup>2</sup>)': 1,\n",
       "         '[[Vidzemes': 3,\n",
       "         '(57&nbsp;km<sup>2</sup>)': 1,\n",
       "         '[[Latgales': 3,\n",
       "         '(50&nbsp;km<sup>2</sup>)': 1,\n",
       "         'Pēc': 4,\n",
       "         'platības': 4,\n",
       "         'lielākais': 1,\n",
       "         'rajons]],': 1,\n",
       "         'mazākais': 1,\n",
       "         'rajons]].': 1,\n",
       "         'iedzīvotāju': 14,\n",
       "         'skaita': 6,\n",
       "         'lielākā': 2,\n",
       "         'priekšpilsēta]],': 1,\n",
       "         'savukārt': 2,\n",
       "         'nacionālā': 2,\n",
       "         'sastāva': 1,\n",
       "         'vienīgie,': 1,\n",
       "         'kuros': 1,\n",
       "         'latviešu': 1,\n",
       "         'vairāk': 1,\n",
       "         'krievu': 1,\n",
       "         'tautības': 1,\n",
       "         'iedzīvotāju.': 3,\n",
       "         'Interesants': 1,\n",
       "         'fakts': 1,\n",
       "         'tas,': 1,\n",
       "         'ka': 8,\n",
       "         'priekšpilsēta|Vidzemes]]': 1,\n",
       "         'priekšpilsēta]]s': 1,\n",
       "         'vienīgās,': 1,\n",
       "         'kurās': 1,\n",
       "         'skaits': 12,\n",
       "         'pēdējo': 1,\n",
       "         '(2006—2008)': 1,\n",
       "         'pieaudzis,': 1,\n",
       "         'priekšpilsēta|Latgales': 1,\n",
       "         'priekšpilsētā]]': 1,\n",
       "         'visstraujāk': 1,\n",
       "         'samazinājies.<ref': 1,\n",
       "         'name=\"ie1\">Pilsonības': 1,\n",
       "         'migrācijas': 2,\n",
       "         'lietu': 2,\n",
       "         'pārvaldes': 2,\n",
       "         'pārskats': 1,\n",
       "         '([[portatīvā': 1,\n",
       "         'dokumenta': 1,\n",
       "         'formāts|PDF]]': 1,\n",
       "         'fails)</ref>': 1,\n",
       "         'robežas': 4,\n",
       "         '{{galvenais|Rīgas': 2,\n",
       "         'robežas}}': 1,\n",
       "         'platība': 2,\n",
       "         '307,17&nbsp;km<sup>2</sup>,': 1,\n",
       "         'bet,': 2,\n",
       "         'pierēķinot': 1,\n",
       "         'piepilsētas,': 1,\n",
       "         '7000&nbsp;km<sup>2</sup>': 1,\n",
       "         '1,15': 1,\n",
       "         'miljoniem': 1,\n",
       "         'Teritorijas': 1,\n",
       "         'Apdzīvojamās': 1,\n",
       "         'aizņem': 5,\n",
       "         '67,00&nbsp;km<sup>2</sup>': 1,\n",
       "         '(21,8%)': 1,\n",
       "         'Rūpnieciskās': 1,\n",
       "         '52,45&nbsp;km<sup>2</sup>': 1,\n",
       "         '(17,0%)': 1,\n",
       "         'Ielas': 1,\n",
       "         'ceļi': 1,\n",
       "         '24,64&nbsp;km<sup>2</sup>': 1,\n",
       "         '(8,0%)': 1,\n",
       "         'Parki': 1,\n",
       "         '57,54&nbsp;km<sup>2</sup>': 1,\n",
       "         '(19,0%)': 1,\n",
       "         'Ūdens': 1,\n",
       "         '48,50&nbsp;km<sup>2</sup>': 1,\n",
       "         '(15,8%)<ref': 1,\n",
       "         'name=\"ie2\">[http://www.riga.lv/LV/Channels/About_Riga/Riga_in_numbers/default.htm': 1,\n",
       "         'pašvaldības': 1,\n",
       "         'portāls]</ref>': 1,\n",
       "         'apkaimes': 3,\n",
       "         '1934.': 1,\n",
       "         'pilsētu': 1,\n",
       "         'sadalīja': 1,\n",
       "         '40': 1,\n",
       "         'administratīvajos': 1,\n",
       "         'Otrā': 1,\n",
       "         'pasaules': 3,\n",
       "         'kara': 3,\n",
       "         'bijis': 1,\n",
       "         'oficiāli': 3,\n",
       "         'apstiprināta': 1,\n",
       "         'teritoriālā': 1,\n",
       "         'iedalījuma,': 2,\n",
       "         'būtu': 1,\n",
       "         'sīkāks': 2,\n",
       "         'sešu': 1,\n",
       "         'administratīvi': 1,\n",
       "         'teritoriālo': 1,\n",
       "         'vienību': 1,\n",
       "         'iedalījumu': 1,\n",
       "         '(rajoni': 1,\n",
       "         'priekšpilsētas).': 1,\n",
       "         'Nosacīti': 1,\n",
       "         'sadalīta': 1,\n",
       "         '47': 1,\n",
       "         'jeb': 2,\n",
       "         '\"mikrorajonos\",': 1,\n",
       "         'sakrita': 1,\n",
       "         'priekšpilsētu': 1,\n",
       "         'robežām': 2,\n",
       "         'savstarpējās': 1,\n",
       "         'visai': 1,\n",
       "         'nosacītas.': 1,\n",
       "         'Vēsturiski': 1,\n",
       "         'izveidojies': 1,\n",
       "         'mikrorajonu': 1,\n",
       "         'iedalījums.': 1,\n",
       "         'Kā': 1,\n",
       "         'piemēru': 1,\n",
       "         'minēt': 1,\n",
       "         '[[Spilve': 2,\n",
       "         '(Rīga)|Spilvi]],': 1,\n",
       "         'kura': 1,\n",
       "         'sastāvēja': 1,\n",
       "         'Beķermuižas,': 1,\n",
       "         'Krēmeriem,': 1,\n",
       "         'Voleriem,': 1,\n",
       "         'Rātsupes': 1,\n",
       "         'Lielās': 1,\n",
       "         'muižas.': 1,\n",
       "         'Tas,': 1,\n",
       "         'pilsētai': 1,\n",
       "         'nebija': 1,\n",
       "         'šāda&nbsp;—': 1,\n",
       "         ...})"
      ]
     },
     "execution_count": 163,
     "metadata": {},
     "output_type": "execute_result"
    }
   ],
   "source": [
    "cnt2\n"
   ]
  },
  {
   "cell_type": "code",
   "execution_count": 164,
   "metadata": {
    "scrolled": true
   },
   "outputs": [
    {
     "data": {
      "text/plain": [
       "[('|', 285),\n",
       " ('*', 191),\n",
       " ('style=\"text-align:center;\"|', 108),\n",
       " ('un', 87),\n",
       " ('|-', 78),\n",
       " ('ir', 48),\n",
       " ('gada', 40),\n",
       " ('Rīgas', 38),\n",
       " ('Rīgā', 35),\n",
       " ('MHz', 32),\n",
       " ('||', 32),\n",
       " ('align=\"left\"', 32),\n",
       " ('no', 30),\n",
       " ('!', 30),\n",
       " ('==', 26),\n",
       " ('===', 26),\n",
       " ('arī', 25),\n",
       " ('gadā', 20),\n",
       " ('[[Rīgas', 20),\n",
       " ('[[Latvijas', 18),\n",
       " ('bet', 18),\n",
       " ('bija', 15),\n",
       " ('kā', 15),\n",
       " ('ar', 15),\n",
       " ('pilsētas', 14),\n",
       " ('iedzīvotāju', 14),\n",
       " ('vai', 13),\n",
       " ('tika', 12),\n",
       " ('par', 12),\n",
       " ('skaits', 12),\n",
       " (':', 12),\n",
       " ('Radio', 12),\n",
       " ('pēc', 11),\n",
       " ('līdz', 11),\n",
       " ('=', 11),\n",
       " ('jūras', 10),\n",
       " ('{|', 10),\n",
       " ('style=\"text-align:center;\"', 10),\n",
       " ('|}', 10),\n",
       " ('kas', 9),\n",
       " ('Latvijas', 9),\n",
       " ('background:#efefef;\"|', 9),\n",
       " ('—', 8),\n",
       " ('ka', 8),\n",
       " ('style=\"background:#efefef;\"', 8),\n",
       " ('gaisa', 7),\n",
       " ('parasti', 7),\n",
       " ('1.', 7),\n",
       " ('}}', 7),\n",
       " ('uz', 7)]"
      ]
     },
     "execution_count": 164,
     "metadata": {},
     "output_type": "execute_result"
    }
   ],
   "source": [
    "cnt2.most_common(50)"
   ]
  },
  {
   "cell_type": "markdown",
   "metadata": {},
   "source": [
    "## Most important Python ideas <a class=\"anchor\" id=\"python-ideas\">\n",
    "    \n",
    "[Back to Table of Contents](#toc)\n",
    "\n",
    "* dir(myobject) to find what can be done (most decent text editors/IDEs will offer autocompletion and hints though)\n",
    "* help(myobject) general help\n",
    "* type(myobject) what type it is\n",
    "\n",
    "## Slicing Syntax for sequences(strings,lists and more)\n",
    "`\n",
    "myname[start:end:step]\n",
    "myname[:5]`\n",
    "\n",
    "## : indicates a new indentation level \n",
    "\n",
    "`if x > 5:\n",
    "     print(\"Do Work when x > 5\")\n",
    "print(\"Always Do this\")`"
   ]
  },
  {
   "cell_type": "code",
   "execution_count": 166,
   "metadata": {},
   "outputs": [
    {
     "data": {
      "text/plain": [
       "4549742256"
      ]
     },
     "execution_count": 166,
     "metadata": {},
     "output_type": "execute_result"
    }
   ],
   "source": [
    "a = \"aaa\"\n",
    "id(a)"
   ]
  },
  {
   "cell_type": "code",
   "execution_count": 170,
   "metadata": {},
   "outputs": [
    {
     "data": {
      "text/plain": [
       "4549823344"
      ]
     },
     "execution_count": 170,
     "metadata": {},
     "output_type": "execute_result"
    }
   ],
   "source": [
    "b = a.upper()\n",
    "id(b)"
   ]
  },
  {
   "cell_type": "code",
   "execution_count": 171,
   "metadata": {},
   "outputs": [
    {
     "data": {
      "text/plain": [
       "False"
      ]
     },
     "execution_count": 171,
     "metadata": {},
     "output_type": "execute_result"
    }
   ],
   "source": [
    "a is b"
   ]
  },
  {
   "cell_type": "markdown",
   "metadata": {},
   "source": [
    "# Python Resources <a class=\"anchor\" id=\"learning-resources\">\n",
    "    \n",
    "[Back to Table of Contents](#toc)"
   ]
  },
  {
   "cell_type": "markdown",
   "metadata": {},
   "source": [
    "## Wiki for Tutorials\n",
    "\n",
    "https://wiki.python.org/moin/BeginnersGuide/NonProgrammers"
   ]
  },
  {
   "cell_type": "markdown",
   "metadata": {},
   "source": [
    "## Tutorials Begginner to Intermediate\n",
    "\n",
    "\n",
    "\n",
    "\n",
    "* https://automatetheboringstuff.com/ - Anything by Al Sweigart is great\n",
    "* http://newcoder.io/tutorials/ - 5 sets of practical tutorials\n",
    "* [Think Like a Computer Scientist](http://interactivepython.org/runestone/static/thinkcspy/index.html) full tutorial\n",
    "* [Non-Programmers Tutorial for Python 3](https://en.wikibooks.org/wiki/Non-Programmer%27s_Tutorial_for_Python_3) quite good for wikibooks\n",
    "* [Real Python](https://realpython.com/) Python Tutorials for all levels\n",
    "\n",
    "\n",
    "* [Learn Python 3 the Hard Way](https://learnpythonthehardway.org/python3/intro.html) controversial author but very exhaustive, some like this approach"
   ]
  },
  {
   "cell_type": "markdown",
   "metadata": {},
   "source": [
    "## More Advanced Python Specific Books\n",
    "\n",
    "* [Python Cookbook](https://www.amazon.com/Python-Cookbook-Third-David-Beazley/dp/1449340377) Recipes for specific situations\n",
    "\n",
    "* [Effective Python](https://effectivepython.com/) best practices\n",
    "* [Fluent Python](http://shop.oreilly.com/product/0636920032519.do) **highly recommended**, shows Python's advantages"
   ]
  },
  {
   "cell_type": "markdown",
   "metadata": {},
   "source": [
    "## General Best Practices Books\n",
    "#### (not Python specific)\n",
    "\n",
    "* [Code Complete 2](https://www.goodreads.com/book/show/4845.Code_Complete) - Fantastic best practices\n",
    "* [The Mythical Man-Month](https://en.wikipedia.org/wiki/The_Mythical_Man-Month) - No silver bullet even after 40 years.\n",
    "* [The Pragmatic Programmer](https://www.amazon.com/Pragmatic-Programmer-Journeyman-Master/dp/020161622X) - More practical advice\n",
    "* [Clean Code](https://www.amazon.com/Clean-Code-Handbook-Software-Craftsmanship/dp/0132350882) - more towards agile"
   ]
  },
  {
   "cell_type": "markdown",
   "metadata": {},
   "source": [
    "## Blogs / Personalities / forums\n",
    "\n",
    "* [Dan Bader](https://dbader.org/)\n",
    "* [Reddit Python](https://www.reddit.com/r/python)"
   ]
  },
  {
   "cell_type": "markdown",
   "metadata": {},
   "source": [
    "## Exercises/Challenges\n",
    "* http://www.pythonchallenge.com/ - first one is easy but after that...\n",
    "* [Advent of Code](https://adventofcode.com/) - yearly programming challenges\n",
    "* https://projecteuler.net/ - gets very mathematical but first problems are great for testing "
   ]
  },
  {
   "cell_type": "markdown",
   "metadata": {},
   "source": [
    "## Explore Public Notebooks on Github\n",
    " Download them and try them out for yourself\n",
    " \n",
    "https://github.com/jupyter/jupyter/wiki/A-gallery-of-interesting-Jupyter-Notebooks"
   ]
  }
 ],
 "metadata": {
  "kernelspec": {
   "display_name": "Python 3",
   "language": "python",
   "name": "python3"
  },
  "language_info": {
   "codemirror_mode": {
    "name": "ipython",
    "version": 3
   },
   "file_extension": ".py",
   "mimetype": "text/x-python",
   "name": "python",
   "nbconvert_exporter": "python",
   "pygments_lexer": "ipython3",
   "version": "3.7.8"
  }
 },
 "nbformat": 4,
 "nbformat_minor": 2
}
