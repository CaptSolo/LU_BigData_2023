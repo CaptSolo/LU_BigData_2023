{
 "cells": [
  {
   "cell_type": "markdown",
   "id": "47d88f2d-97d7-4905-9221-1df021b95d4e",
   "metadata": {},
   "source": [
    "# Matplotlib demo"
   ]
  },
  {
   "cell_type": "code",
   "execution_count": null,
   "id": "750c3615-7589-4a32-80cb-d110b82e69e9",
   "metadata": {},
   "outputs": [],
   "source": [
    "import pandas as pd\n",
    "import matplotlib.pyplot as plt"
   ]
  },
  {
   "cell_type": "code",
   "execution_count": null,
   "id": "7f6a6884-f106-4797-bb68-4b9235351d96",
   "metadata": {},
   "outputs": [],
   "source": [
    "# Load the Gapminder dataset\n",
    "url = \"https://raw.githubusercontent.com/jennybc/gapminder/master/data-raw/08_gap-every-five-years.tsv\"\n",
    "gapminder = pd.read_csv(url, sep='\\t')"
   ]
  },
  {
   "cell_type": "code",
   "execution_count": null,
   "id": "1354b25c-f64b-4ec3-b7d1-e11cf55dce8f",
   "metadata": {},
   "outputs": [],
   "source": [
    "gapminder.head(5)"
   ]
  },
  {
   "cell_type": "code",
   "execution_count": null,
   "id": "2efb3881-fc85-4384-97db-edd9f1964141",
   "metadata": {},
   "outputs": [],
   "source": [
    "# Select data about a subset of countries\n",
    "countries = ['China', 'United States', 'India', 'Nigeria']\n",
    "filtered_data = gapminder[gapminder['country'].isin(countries)]"
   ]
  },
  {
   "cell_type": "code",
   "execution_count": null,
   "id": "badca546-1137-4593-b1da-c732d82579dd",
   "metadata": {},
   "outputs": [],
   "source": [
    "filtered_data.head(5)"
   ]
  },
  {
   "cell_type": "code",
   "execution_count": null,
   "id": "7a425a66-9c05-4d8b-9fbd-92f0ace3a284",
   "metadata": {},
   "outputs": [],
   "source": [
    "# Pivot the data for simpler plotting\n",
    "pivot_table = filtered_data.pivot(index='year', columns='country', values='gdpPercap')"
   ]
  },
  {
   "cell_type": "code",
   "execution_count": null,
   "id": "b77516c2-cb90-4a89-9431-025c0266ccad",
   "metadata": {},
   "outputs": [],
   "source": [
    "pivot_table.head(5)"
   ]
  },
  {
   "cell_type": "code",
   "execution_count": null,
   "id": "1e1ba5f7-d17e-4b5b-858d-b7706c31cd14",
   "metadata": {},
   "outputs": [],
   "source": [
    "# Create a figure and axis objects\n",
    "fig, ax = plt.subplots(figsize=(10, 6))"
   ]
  },
  {
   "cell_type": "code",
   "execution_count": null,
   "id": "240c0c41-6ccf-496f-9d2d-8bb604b401e6",
   "metadata": {},
   "outputs": [],
   "source": [
    "# plot country data\n",
    "\n",
    "for country in countries:\n",
    "    ax.plot(pivot_table.index, pivot_table[country], marker='', linestyle='-', label=country)"
   ]
  },
  {
   "cell_type": "code",
   "execution_count": null,
   "id": "abda1be4-a2ef-43df-83de-ccb49f5e80fd",
   "metadata": {},
   "outputs": [],
   "source": [
    "# Set the title and labels\n",
    "ax.set_title('GDP Per Capita Growth Over Time')\n",
    "ax.set_xlabel('Year')\n",
    "ax.set_ylabel('GDP per capita ($)')\n",
    "\n",
    "# Add a legend and grid lines\n",
    "ax.legend(title='Country')\n",
    "ax.grid(True)"
   ]
  },
  {
   "cell_type": "code",
   "execution_count": null,
   "id": "ab8919be-8736-4790-ac9c-b74019655b62",
   "metadata": {},
   "outputs": [],
   "source": [
    "fig"
   ]
  },
  {
   "cell_type": "code",
   "execution_count": null,
   "id": "9913f75d-5013-4d7b-83bf-0841fa029097",
   "metadata": {},
   "outputs": [],
   "source": []
  },
  {
   "cell_type": "markdown",
   "id": "82c29bc1-192b-45d1-9b62-170c39f540cb",
   "metadata": {},
   "source": [
    "# Seaborn demo"
   ]
  },
  {
   "cell_type": "code",
   "execution_count": null,
   "id": "bba87b65-d645-4b39-b2e8-e5e492b0ca22",
   "metadata": {},
   "outputs": [],
   "source": [
    "import seaborn as sns"
   ]
  },
  {
   "cell_type": "code",
   "execution_count": null,
   "id": "e3f70dc9-c982-4c08-b409-01bf0131a311",
   "metadata": {},
   "outputs": [],
   "source": [
    "fig, ax = plt.subplots(figsize=(10, 6))"
   ]
  },
  {
   "cell_type": "markdown",
   "id": "8f7b13da-6523-47d4-ad39-3aafae8159e0",
   "metadata": {},
   "source": [
    "### sns.lineplot()\n",
    "\n",
    "https://seaborn.pydata.org/generated/seaborn.lineplot.html"
   ]
  },
  {
   "cell_type": "code",
   "execution_count": null,
   "id": "5773272a-3b8f-45be-bb55-1c0012baa8ae",
   "metadata": {},
   "outputs": [],
   "source": [
    "sns.lineplot(\n",
    "    data=filtered_data, \n",
    "    x='year', \n",
    "    y='gdpPercap', \n",
    "    hue='country', \n",
    "    marker='o', \n",
    "    style='country', \n",
    "    ax=ax\n",
    ")"
   ]
  },
  {
   "cell_type": "code",
   "execution_count": null,
   "id": "1434a4db-3be9-48ed-b134-f262c180ee84",
   "metadata": {},
   "outputs": [],
   "source": [
    "# Set the title and labels\n",
    "ax.set_title('GDP Per Capita Growth Over Time')\n",
    "ax.set_xlabel('Year')\n",
    "ax.set_ylabel('GDP per capita ($)')\n",
    "ax.grid(True)"
   ]
  },
  {
   "cell_type": "code",
   "execution_count": null,
   "id": "2cb12790-3ced-4516-bf6e-9ac3bd7c0715",
   "metadata": {},
   "outputs": [],
   "source": [
    "fig"
   ]
  },
  {
   "cell_type": "code",
   "execution_count": null,
   "id": "d87071dd-9821-45e2-8d3a-203c7589c1a1",
   "metadata": {},
   "outputs": [],
   "source": []
  },
  {
   "cell_type": "markdown",
   "id": "0443ee51-a9db-4238-92f4-5cef6ea4b03c",
   "metadata": {},
   "source": [
    "# Plotly demo"
   ]
  },
  {
   "cell_type": "code",
   "execution_count": null,
   "id": "dd290413-e647-49b9-8caa-1f44ecb8256b",
   "metadata": {},
   "outputs": [],
   "source": [
    "import plotly.express as px"
   ]
  },
  {
   "cell_type": "markdown",
   "id": "fcc4b4b8-d864-4d46-860d-149fcb1dbb55",
   "metadata": {},
   "source": [
    "## line() = Line plots\n",
    "\n",
    "https://plotly.com/python/line-and-scatter/#line-plots-with-plotly-express"
   ]
  },
  {
   "cell_type": "code",
   "execution_count": null,
   "id": "b8ed128d-ec98-4eed-a5de-b68431e8a0f2",
   "metadata": {},
   "outputs": [],
   "source": [
    "# Create the line plot\n",
    "fig = px.line(\n",
    "    filtered_data, \n",
    "    x='year', \n",
    "    y='gdpPercap', \n",
    "    color='country', \n",
    "    markers=True,\n",
    "    labels={'gdpPercap': 'GDP per capita ($)'},\n",
    "    title='GDP Per Capita Growth Over Time',\n",
    "    height=600 \n",
    ")\n"
   ]
  },
  {
   "cell_type": "code",
   "execution_count": null,
   "id": "a249d470-930f-457f-be7a-5fc99c63c028",
   "metadata": {},
   "outputs": [],
   "source": [
    "fig"
   ]
  },
  {
   "cell_type": "code",
   "execution_count": null,
   "id": "20261cfc-12f2-40f2-bb44-d2be8823bb12",
   "metadata": {},
   "outputs": [],
   "source": []
  },
  {
   "cell_type": "markdown",
   "id": "f2a0948c-f3c4-448a-966f-2b1be7b86edb",
   "metadata": {},
   "source": [
    "## Iris dataset"
   ]
  },
  {
   "cell_type": "code",
   "execution_count": null,
   "id": "391c042b-13f2-48ff-ad29-381cfdc02288",
   "metadata": {},
   "outputs": [],
   "source": [
    "# Load the Iris dataset\n",
    "url = \"https://raw.githubusercontent.com/mwaskom/seaborn-data/master/iris.csv\"\n",
    "iris = pd.read_csv(url)"
   ]
  },
  {
   "cell_type": "code",
   "execution_count": null,
   "id": "863dcfc7-62d1-4094-b4a3-1a90951cbf83",
   "metadata": {},
   "outputs": [],
   "source": [
    "iris.head(5)"
   ]
  },
  {
   "cell_type": "code",
   "execution_count": null,
   "id": "1f0fa604-a81a-4a31-95e4-fa691bb6c4a0",
   "metadata": {},
   "outputs": [],
   "source": [
    "fig = px.scatter(iris, \n",
    "    x='sepal_length', \n",
    "    y='petal_length', \n",
    "    color='species',\n",
    "    size='petal_width',  # Optional: size point by petal width\n",
    "    hover_data=['sepal_width', 'petal_width'],  # Optional: more data on hover\n",
    "    title='Iris Dataset: Sepal Length vs Petal Length',\n",
    "    height=600\n",
    ")"
   ]
  },
  {
   "cell_type": "code",
   "execution_count": null,
   "id": "9428d24f-7be5-456c-9382-887378271c7b",
   "metadata": {},
   "outputs": [],
   "source": [
    "fig"
   ]
  },
  {
   "cell_type": "code",
   "execution_count": null,
   "id": "5f3d1553-4813-4286-b84b-8b4916b508f1",
   "metadata": {},
   "outputs": [],
   "source": []
  },
  {
   "cell_type": "markdown",
   "id": "194ae3af-e2fa-4d21-a1d1-b71f61fa3349",
   "metadata": {},
   "source": [
    "# Altair demo"
   ]
  },
  {
   "cell_type": "code",
   "execution_count": null,
   "id": "d0d65312-a4ac-4913-90c8-6acd8e5a8e01",
   "metadata": {},
   "outputs": [],
   "source": [
    "import altair as alt"
   ]
  },
  {
   "cell_type": "code",
   "execution_count": null,
   "id": "9ec844e1-69a6-4612-ba0d-400e9066a6a3",
   "metadata": {},
   "outputs": [],
   "source": [
    "chart = alt.Chart(filtered_data).mark_line(point=True).encode(\n",
    "    x='year:Q',  # Q = quantitative\n",
    "    y=alt.Y('gdpPercap:Q', axis=alt.Axis(title='GDP per capita ($)')),\n",
    "    color='country:N',  # N for nominal\n",
    "    tooltip=['year', 'gdpPercap', 'country']  # Tooltip for interactive details\n",
    ").properties(\n",
    "    title='GDP Per Capita Growth Over Time',\n",
    "    width=700,\n",
    "    height=400\n",
    ")"
   ]
  },
  {
   "cell_type": "code",
   "execution_count": null,
   "id": "5c9a7499-c4fa-412e-b001-d13bbab9e9db",
   "metadata": {},
   "outputs": [],
   "source": [
    "chart"
   ]
  },
  {
   "cell_type": "code",
   "execution_count": null,
   "id": "c11da67e-cc9c-4fa7-bad4-4217a7b20532",
   "metadata": {},
   "outputs": [],
   "source": []
  }
 ],
 "metadata": {
  "kernelspec": {
   "display_name": "Python 3 (ipykernel)",
   "language": "python",
   "name": "python3"
  },
  "language_info": {
   "codemirror_mode": {
    "name": "ipython",
    "version": 3
   },
   "file_extension": ".py",
   "mimetype": "text/x-python",
   "name": "python",
   "nbconvert_exporter": "python",
   "pygments_lexer": "ipython3",
   "version": "3.12.3"
  }
 },
 "nbformat": 4,
 "nbformat_minor": 5
}
