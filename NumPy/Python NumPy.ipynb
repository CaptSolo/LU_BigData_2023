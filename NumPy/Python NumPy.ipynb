{
 "cells": [
  {
   "cell_type": "markdown",
   "metadata": {},
   "source": [
    "<center><h1>Python NumPy library</h1></center>"
   ]
  },
  {
   "cell_type": "markdown",
   "metadata": {},
   "source": [
    "## NumPy is the most fundamental package for numeric computing with Python!\n",
    "\n",
    "* a powerful N-dimensional array object\n",
    "* sophisticated (broadcasting) functions\n",
    "* tools for integrating C/C++ and Fortran code\n",
    "* useful linear algebra, Fourier transform, and random number capabilities\n",
    "\n",
    "NumPy is licensed under the BSD license, enabling reuse with few restrictions.\n",
    "\n",
    "https://numpy.org/\n",
    "\n",
    "* [NumPy cheat sheet](https://s3.amazonaws.com/assets.datacamp.com/blog_assets/Numpy_Python_Cheat_Sheet.pdf)\n",
    "\n",
    "---\n",
    "\n",
    "This notebook is partially based on https://github.com/ValRCS/LU-pysem/blob/master/Python%20NumPy.ipynb\n"
   ]
  },
  {
   "cell_type": "markdown",
   "metadata": {},
   "source": [
    "### Comes with Anaconda, otherwise install it separately: \n",
    "\n",
    "`pip install NumPy`\n",
    "\n",
    "---"
   ]
  },
  {
   "cell_type": "code",
   "execution_count": 145,
   "metadata": {},
   "outputs": [],
   "source": [
    "import numpy as np  # extremely common naming for Numpy to be used as np"
   ]
  },
  {
   "cell_type": "code",
   "execution_count": 146,
   "metadata": {},
   "outputs": [
    {
     "data": {
      "text/plain": [
       "array([0, 1, 2, 3, 4, 5, 6, 7, 8, 9])"
      ]
     },
     "execution_count": 146,
     "metadata": {},
     "output_type": "execute_result"
    }
   ],
   "source": [
    "np.arange(10)"
   ]
  },
  {
   "cell_type": "code",
   "execution_count": 147,
   "metadata": {},
   "outputs": [
    {
     "data": {
      "text/plain": [
       "array([[ 0,  1,  2,  3,  4],\n",
       "       [ 5,  6,  7,  8,  9],\n",
       "       [10, 11, 12, 13, 14],\n",
       "       [15, 16, 17, 18, 19]])"
      ]
     },
     "execution_count": 147,
     "metadata": {},
     "output_type": "execute_result"
    }
   ],
   "source": [
    "a = np.arange(20).reshape(4,5)\n",
    "a"
   ]
  },
  {
   "cell_type": "code",
   "execution_count": 148,
   "metadata": {},
   "outputs": [
    {
     "data": {
      "text/plain": [
       "array([  5,  15,  25,  35,  45,  55,  65,  75,  85,  95, 105, 115, 125,\n",
       "       135, 145, 155, 165, 175, 185, 195, 205, 215, 225, 235, 245, 255,\n",
       "       265, 275, 285, 295, 305, 315, 325, 335, 345, 355, 365, 375, 385,\n",
       "       395, 405, 415, 425, 435, 445, 455, 465, 475, 485, 495])"
      ]
     },
     "execution_count": 148,
     "metadata": {},
     "output_type": "execute_result"
    }
   ],
   "source": [
    "b = np.arange(5,500,10)\n",
    "b"
   ]
  },
  {
   "cell_type": "markdown",
   "metadata": {},
   "source": [
    "## NumPy arrays\n",
    "\n",
    "NumPy’s main object is the homogeneous multidimensional array. It is a table of elements (usually numbers), all of the same type, indexed by a tuple of positive integers. In NumPy dimensions are called axes.\n",
    "\n",
    "### In other words think of matrix (2-D, 3-D, etc)  with elements given their coordinates"
   ]
  },
  {
   "cell_type": "markdown",
   "metadata": {},
   "source": [
    "NumPy’s array class is called ndarray. It is also known by the alias array. Note that numpy.array is not the same as the Standard Python Library class array.array, which only handles one-dimensional arrays and offers less functionality."
   ]
  },
  {
   "cell_type": "code",
   "execution_count": 149,
   "metadata": {},
   "outputs": [
    {
     "data": {
      "text/plain": [
       "(numpy.ndarray, dtype('int64'))"
      ]
     },
     "execution_count": 149,
     "metadata": {},
     "output_type": "execute_result"
    }
   ],
   "source": [
    "type(a), a.dtype"
   ]
  },
  {
   "cell_type": "code",
   "execution_count": null,
   "metadata": {},
   "outputs": [],
   "source": []
  },
  {
   "cell_type": "markdown",
   "metadata": {},
   "source": [
    "##  When should you use ndarray instad of normal Python data structures such as list?"
   ]
  },
  {
   "cell_type": "markdown",
   "metadata": {},
   "source": [
    "* NumPy's arrays are more compact than Python lists (about 3-5x difference)\n",
    "* Faster access for reading/writing items / less Python \"bookkeeping\"\n",
    "* Convencience operations matrix operations/Fourier Transforms/histograms/statistics/filtering/etc\n",
    "* Spatial locality in memory access patterns results in performance gains notably due to the CPU cache\n",
    "* Items stored contiguously in memory allow NumPy to take advantage of vectorized instructions of modern CPUs, such as Intel's SSE and AVX, AMD's XOP\n",
    "\n",
    "\n",
    "* Restriction(uniform data types)\n"
   ]
  },
  {
   "cell_type": "code",
   "execution_count": null,
   "metadata": {},
   "outputs": [],
   "source": [
    "## Litmus test: for group operations use NumPy, but if you have many individual operations\n",
    "## then regular Python lists might suffice\n",
    "\n",
    "## NOTE: For multiple data types better to use Pandas library (another lecture)"
   ]
  },
  {
   "cell_type": "code",
   "execution_count": 150,
   "metadata": {},
   "outputs": [
    {
     "data": {
      "text/plain": [
       "array([[ 0,  1,  2,  3,  4],\n",
       "       [ 5,  6,  7,  8,  9],\n",
       "       [10, 11, 12, 13, 14],\n",
       "       [15, 16, 17, 18, 19]])"
      ]
     },
     "execution_count": 150,
     "metadata": {},
     "output_type": "execute_result"
    }
   ],
   "source": [
    "a"
   ]
  },
  {
   "cell_type": "code",
   "execution_count": 151,
   "metadata": {},
   "outputs": [
    {
     "data": {
      "text/plain": [
       "array([[ 0,  2,  4,  6,  8],\n",
       "       [10, 12, 14, 16, 18],\n",
       "       [20, 22, 24, 26, 28],\n",
       "       [30, 32, 34, 36, 38]])"
      ]
     },
     "execution_count": 151,
     "metadata": {},
     "output_type": "execute_result"
    }
   ],
   "source": [
    "d = a*2\n",
    "d"
   ]
  },
  {
   "cell_type": "code",
   "execution_count": 152,
   "metadata": {},
   "outputs": [
    {
     "data": {
      "text/plain": [
       "array([[  0,   1,   4,   9,  16],\n",
       "       [ 25,  36,  49,  64,  81],\n",
       "       [100, 121, 144, 169, 196],\n",
       "       [225, 256, 289, 324, 361]])"
      ]
     },
     "execution_count": 152,
     "metadata": {},
     "output_type": "execute_result"
    }
   ],
   "source": [
    "c = a**2\n",
    "c"
   ]
  },
  {
   "cell_type": "code",
   "execution_count": 153,
   "metadata": {},
   "outputs": [
    {
     "data": {
      "text/plain": [
       "np.int64(36)"
      ]
     },
     "execution_count": 153,
     "metadata": {},
     "output_type": "execute_result"
    }
   ],
   "source": [
    "# individual elements\n",
    "c[1,1]"
   ]
  },
  {
   "cell_type": "code",
   "execution_count": 155,
   "metadata": {},
   "outputs": [
    {
     "data": {
      "text/plain": [
       "array([25, 36, 49, 64, 81])"
      ]
     },
     "execution_count": 155,
     "metadata": {},
     "output_type": "execute_result"
    }
   ],
   "source": [
    "c[1]"
   ]
  },
  {
   "cell_type": "code",
   "execution_count": 156,
   "metadata": {},
   "outputs": [
    {
     "data": {
      "text/plain": [
       "array([[ 0,  1,  4,  9, 16],\n",
       "       [25, 36, 49, 64, 81]])"
      ]
     },
     "execution_count": 156,
     "metadata": {},
     "output_type": "execute_result"
    }
   ],
   "source": [
    "c[:2]"
   ]
  },
  {
   "cell_type": "code",
   "execution_count": 157,
   "metadata": {},
   "outputs": [
    {
     "data": {
      "text/plain": [
       "array([  1,  36, 121, 256])"
      ]
     },
     "execution_count": 157,
     "metadata": {},
     "output_type": "execute_result"
    }
   ],
   "source": [
    "c[:,1]"
   ]
  },
  {
   "cell_type": "code",
   "execution_count": null,
   "metadata": {},
   "outputs": [],
   "source": [
    "c[::-1]"
   ]
  },
  {
   "cell_type": "code",
   "execution_count": null,
   "metadata": {},
   "outputs": [],
   "source": [
    "c[::-1,::-1]"
   ]
  },
  {
   "cell_type": "markdown",
   "metadata": {},
   "source": [
    "## Filling arrays with values"
   ]
  },
  {
   "cell_type": "code",
   "execution_count": 158,
   "metadata": {},
   "outputs": [
    {
     "data": {
      "text/plain": [
       "array([0., 0., 0., 0., 0.])"
      ]
     },
     "execution_count": 158,
     "metadata": {},
     "output_type": "execute_result"
    }
   ],
   "source": [
    "zero_arr = np.zeros(5)\n",
    "zero_arr"
   ]
  },
  {
   "cell_type": "code",
   "execution_count": 159,
   "metadata": {},
   "outputs": [
    {
     "data": {
      "text/plain": [
       "dtype('float64')"
      ]
     },
     "execution_count": 159,
     "metadata": {},
     "output_type": "execute_result"
    }
   ],
   "source": [
    "zero_arr.dtype"
   ]
  },
  {
   "cell_type": "code",
   "execution_count": 160,
   "metadata": {},
   "outputs": [
    {
     "data": {
      "text/plain": [
       "array([[0., 0., 0.],\n",
       "       [0., 0., 0.],\n",
       "       [0., 0., 0.],\n",
       "       [0., 0., 0.],\n",
       "       [0., 0., 0.]])"
      ]
     },
     "execution_count": 160,
     "metadata": {},
     "output_type": "execute_result"
    }
   ],
   "source": [
    "np.zeros((5,3))"
   ]
  },
  {
   "cell_type": "code",
   "execution_count": 161,
   "metadata": {},
   "outputs": [
    {
     "data": {
      "text/plain": [
       "array([1., 1., 1., 1., 1.])"
      ]
     },
     "execution_count": 161,
     "metadata": {},
     "output_type": "execute_result"
    }
   ],
   "source": [
    "np.ones(5)"
   ]
  },
  {
   "cell_type": "code",
   "execution_count": 164,
   "metadata": {},
   "outputs": [
    {
     "data": {
      "text/plain": [
       "array([1, 1, 1, 1, 1])"
      ]
     },
     "execution_count": 164,
     "metadata": {},
     "output_type": "execute_result"
    }
   ],
   "source": [
    "x = np.ones(5, dtype=int)\n",
    "x"
   ]
  },
  {
   "cell_type": "code",
   "execution_count": 165,
   "metadata": {},
   "outputs": [
    {
     "data": {
      "text/plain": [
       "dtype('int64')"
      ]
     },
     "execution_count": 165,
     "metadata": {},
     "output_type": "execute_result"
    }
   ],
   "source": [
    "x.dtype"
   ]
  },
  {
   "cell_type": "code",
   "execution_count": 163,
   "metadata": {},
   "outputs": [
    {
     "data": {
      "text/plain": [
       "array([[1., 0., 0., 0., 0.],\n",
       "       [0., 1., 0., 0., 0.],\n",
       "       [0., 0., 1., 0., 0.],\n",
       "       [0., 0., 0., 1., 0.],\n",
       "       [0., 0., 0., 0., 1.]])"
      ]
     },
     "execution_count": 163,
     "metadata": {},
     "output_type": "execute_result"
    }
   ],
   "source": [
    "np.eye(5)"
   ]
  },
  {
   "cell_type": "markdown",
   "metadata": {},
   "source": [
    "### Ranges"
   ]
  },
  {
   "cell_type": "code",
   "execution_count": null,
   "metadata": {},
   "outputs": [],
   "source": [
    "# integer numbers\n",
    "np.arange(10)"
   ]
  },
  {
   "cell_type": "code",
   "execution_count": null,
   "metadata": {},
   "outputs": [],
   "source": [
    "np.arange(10000).reshape(100,100)"
   ]
  },
  {
   "cell_type": "code",
   "execution_count": null,
   "metadata": {},
   "outputs": [],
   "source": [
    "# floating point numbers\n",
    "np.linspace(0.0, 1.0, num=5)"
   ]
  },
  {
   "cell_type": "markdown",
   "metadata": {},
   "source": [
    "### Random numbers"
   ]
  },
  {
   "cell_type": "code",
   "execution_count": 167,
   "metadata": {},
   "outputs": [
    {
     "data": {
      "text/plain": [
       "array([[0.89460311, 0.90529947, 0.93652084, 0.61728908],\n",
       "       [0.90429422, 0.43883793, 0.46217056, 0.54457636],\n",
       "       [0.42166657, 0.018273  , 0.53939612, 0.27008364],\n",
       "       [0.20026623, 0.26386056, 0.95838159, 0.77805521],\n",
       "       [0.16572587, 0.13149855, 0.50009267, 0.33308095],\n",
       "       [0.85016867, 0.39748778, 0.6140575 , 0.48878945],\n",
       "       [0.11669577, 0.89875077, 0.55714245, 0.99382825],\n",
       "       [0.91255849, 0.78720426, 0.50170435, 0.19185458],\n",
       "       [0.64375311, 0.11225162, 0.98675488, 0.91790069]])"
      ]
     },
     "execution_count": 167,
     "metadata": {},
     "output_type": "execute_result"
    }
   ],
   "source": [
    "my_csv = np.random.random(36)\n",
    "my_csv = my_csv.reshape(9,4)\n",
    "\n",
    "my_csv"
   ]
  },
  {
   "cell_type": "code",
   "execution_count": 168,
   "metadata": {},
   "outputs": [
    {
     "data": {
      "text/plain": [
       "array([3, 5, 3, 5, 3, 6, 6, 5, 2, 4, 3, 4, 6, 5, 5, 2, 2, 6, 1, 3, 1, 2,\n",
       "       6, 3, 6, 4, 5, 1, 1, 6, 2, 3, 2, 6, 5, 5, 2, 4, 1, 2, 5, 4, 4, 2,\n",
       "       3, 4, 2, 4, 3, 5])"
      ]
     },
     "execution_count": 168,
     "metadata": {},
     "output_type": "execute_result"
    }
   ],
   "source": [
    "# Let's roll dice\n",
    "\n",
    "np.random.randint(1, 7, 50)"
   ]
  },
  {
   "cell_type": "code",
   "execution_count": 169,
   "metadata": {},
   "outputs": [
    {
     "name": "stdout",
     "output_type": "stream",
     "text": [
      "5.57 ms ± 68.3 μs per loop (mean ± std. dev. of 7 runs, 100 loops each)\n"
     ]
    }
   ],
   "source": [
    "# How long time will *many* dice rolls take?\n",
    "\n",
    "%timeit rolls = np.random.randint(1, 7, 1_000_000)"
   ]
  },
  {
   "cell_type": "code",
   "execution_count": 170,
   "metadata": {},
   "outputs": [
    {
     "name": "stdout",
     "output_type": "stream",
     "text": [
      "130 ms ± 1.17 ms per loop (mean ± std. dev. of 7 runs, 10 loops each)\n"
     ]
    }
   ],
   "source": [
    "# Let's do the same without NumPy\n",
    "\n",
    "import random\n",
    "%timeit rolls_list = [random.randrange(1, 7) for i in range(1_000_000)]"
   ]
  },
  {
   "cell_type": "markdown",
   "metadata": {},
   "source": [
    "## Array attributes and operations"
   ]
  },
  {
   "cell_type": "code",
   "execution_count": 171,
   "metadata": {},
   "outputs": [
    {
     "name": "stdout",
     "output_type": "stream",
     "text": [
      "T\n",
      "all\n",
      "any\n",
      "argmax\n",
      "argmin\n",
      "argpartition\n",
      "argsort\n",
      "astype\n",
      "base\n",
      "byteswap\n",
      "choose\n",
      "clip\n",
      "compress\n",
      "conj\n",
      "conjugate\n",
      "copy\n",
      "ctypes\n",
      "cumprod\n",
      "cumsum\n",
      "data\n",
      "device\n",
      "diagonal\n",
      "dot\n",
      "dtype\n",
      "dump\n",
      "dumps\n",
      "fill\n",
      "flags\n",
      "flat\n",
      "flatten\n",
      "getfield\n",
      "imag\n",
      "item\n",
      "itemset\n",
      "itemsize\n",
      "mT\n",
      "max\n",
      "mean\n",
      "min\n",
      "nbytes\n",
      "ndim\n",
      "newbyteorder\n",
      "nonzero\n",
      "partition\n",
      "prod\n",
      "ptp\n",
      "put\n",
      "ravel\n",
      "real\n",
      "repeat\n",
      "reshape\n",
      "resize\n",
      "round\n",
      "searchsorted\n",
      "setfield\n",
      "setflags\n",
      "shape\n",
      "size\n",
      "sort\n",
      "squeeze\n",
      "std\n",
      "strides\n",
      "sum\n",
      "swapaxes\n",
      "take\n",
      "to_device\n",
      "tobytes\n",
      "tofile\n",
      "tolist\n",
      "tostring\n",
      "trace\n",
      "transpose\n",
      "var\n",
      "view\n"
     ]
    }
   ],
   "source": [
    "# dir(a)\n",
    "\n",
    "for item in dir(a):\n",
    "    if not item.startswith(\"__\"):\n",
    "        print(item)"
   ]
  },
  {
   "cell_type": "code",
   "execution_count": 172,
   "metadata": {},
   "outputs": [
    {
     "data": {
      "text/plain": [
       "array([[0.89460311, 0.90529947, 0.93652084, 0.61728908],\n",
       "       [0.90429422, 0.43883793, 0.46217056, 0.54457636],\n",
       "       [0.42166657, 0.018273  , 0.53939612, 0.27008364],\n",
       "       [0.20026623, 0.26386056, 0.95838159, 0.77805521],\n",
       "       [0.16572587, 0.13149855, 0.50009267, 0.33308095],\n",
       "       [0.85016867, 0.39748778, 0.6140575 , 0.48878945],\n",
       "       [0.11669577, 0.89875077, 0.55714245, 0.99382825],\n",
       "       [0.91255849, 0.78720426, 0.50170435, 0.19185458],\n",
       "       [0.64375311, 0.11225162, 0.98675488, 0.91790069]])"
      ]
     },
     "execution_count": 172,
     "metadata": {},
     "output_type": "execute_result"
    }
   ],
   "source": [
    "my_csv"
   ]
  },
  {
   "cell_type": "code",
   "execution_count": 173,
   "metadata": {},
   "outputs": [
    {
     "data": {
      "text/plain": [
       "2"
      ]
     },
     "execution_count": 173,
     "metadata": {},
     "output_type": "execute_result"
    }
   ],
   "source": [
    "my_csv.ndim"
   ]
  },
  {
   "cell_type": "code",
   "execution_count": 174,
   "metadata": {},
   "outputs": [
    {
     "data": {
      "text/plain": [
       "array([[0.89460311, 0.90429422, 0.42166657, 0.20026623, 0.16572587,\n",
       "        0.85016867, 0.11669577, 0.91255849, 0.64375311],\n",
       "       [0.90529947, 0.43883793, 0.018273  , 0.26386056, 0.13149855,\n",
       "        0.39748778, 0.89875077, 0.78720426, 0.11225162],\n",
       "       [0.93652084, 0.46217056, 0.53939612, 0.95838159, 0.50009267,\n",
       "        0.6140575 , 0.55714245, 0.50170435, 0.98675488],\n",
       "       [0.61728908, 0.54457636, 0.27008364, 0.77805521, 0.33308095,\n",
       "        0.48878945, 0.99382825, 0.19185458, 0.91790069]])"
      ]
     },
     "execution_count": 174,
     "metadata": {},
     "output_type": "execute_result"
    }
   ],
   "source": [
    "my_csv.T"
   ]
  },
  {
   "cell_type": "code",
   "execution_count": 175,
   "metadata": {},
   "outputs": [
    {
     "data": {
      "text/plain": [
       "(9, 4)"
      ]
     },
     "execution_count": 175,
     "metadata": {},
     "output_type": "execute_result"
    }
   ],
   "source": [
    "my_csv.shape"
   ]
  },
  {
   "cell_type": "code",
   "execution_count": 176,
   "metadata": {},
   "outputs": [
    {
     "data": {
      "text/plain": [
       "dtype('float64')"
      ]
     },
     "execution_count": 176,
     "metadata": {},
     "output_type": "execute_result"
    }
   ],
   "source": [
    "my_csv.dtype"
   ]
  },
  {
   "cell_type": "code",
   "execution_count": 177,
   "metadata": {},
   "outputs": [
    {
     "data": {
      "text/plain": [
       "8"
      ]
     },
     "execution_count": 177,
     "metadata": {},
     "output_type": "execute_result"
    }
   ],
   "source": [
    "my_csv.itemsize"
   ]
  },
  {
   "cell_type": "code",
   "execution_count": 178,
   "metadata": {},
   "outputs": [
    {
     "data": {
      "text/plain": [
       "<memory at 0x10b7cee90>"
      ]
     },
     "execution_count": 178,
     "metadata": {},
     "output_type": "execute_result"
    }
   ],
   "source": [
    "my_csv.data"
   ]
  },
  {
   "cell_type": "markdown",
   "metadata": {},
   "source": [
    "## Most important array attributes\n",
    "\n",
    "* ndarray.ndim\n",
    "\n",
    "the number of axes (dimensions) of the array.\n",
    "* ndarray.shape\n",
    "\n",
    "the dimensions of the array. This is a tuple of integers indicating the size of the array in each dimension. For a matrix with n rows and m columns, shape will be (n,m). The length of the shape tuple is therefore the number of axes, ndim.\n",
    "* ndarray.size\n",
    "\n",
    "the total number of elements of the array. This is equal to the product of the elements of shape.\n",
    "* ndarray.dtype\n",
    "\n",
    "an object describing the type of the elements in the array. One can create or specify dtype’s using standard Python types. Additionally NumPy provides types of its own. numpy.int32, numpy.int16, and numpy.float64 are some examples.\n",
    "* ndarray.itemsize\n",
    "\n",
    "the size in bytes of each element of the array. For example, an array of elements of type float64 has itemsize 8 (=64/8), while one of type complex32 has itemsize 4 (=32/8). It is equivalent to ndarray.dtype.itemsize.\n",
    "* ndarray.data\n",
    "\n",
    "the buffer containing the actual elements of the array. Normally, we won’t need to use this attribute because we will access the elements in an array using indexing facilities."
   ]
  },
  {
   "cell_type": "code",
   "execution_count": 185,
   "metadata": {
    "scrolled": true
   },
   "outputs": [
    {
     "data": {
      "text/plain": [
       "array([[ 0,  1,  2,  3,  4],\n",
       "       [ 5,  6,  7,  8,  9],\n",
       "       [10, 11, 12, 13, 14],\n",
       "       [15, 16, 17, 18, 19]])"
      ]
     },
     "execution_count": 185,
     "metadata": {},
     "output_type": "execute_result"
    }
   ],
   "source": [
    "a"
   ]
  },
  {
   "cell_type": "code",
   "execution_count": null,
   "metadata": {},
   "outputs": [],
   "source": [
    "a.shape"
   ]
  },
  {
   "cell_type": "code",
   "execution_count": null,
   "metadata": {},
   "outputs": [],
   "source": [
    "a[2,0]=20\n",
    "a"
   ]
  },
  {
   "cell_type": "code",
   "execution_count": 179,
   "metadata": {},
   "outputs": [
    {
     "data": {
      "text/plain": [
       "np.float64(9.5)"
      ]
     },
     "execution_count": 179,
     "metadata": {},
     "output_type": "execute_result"
    }
   ],
   "source": [
    "a.mean()"
   ]
  },
  {
   "cell_type": "code",
   "execution_count": 180,
   "metadata": {},
   "outputs": [
    {
     "data": {
      "text/plain": [
       "np.float64(9.5)"
      ]
     },
     "execution_count": 180,
     "metadata": {},
     "output_type": "execute_result"
    }
   ],
   "source": [
    "np.median(a)"
   ]
  },
  {
   "cell_type": "code",
   "execution_count": 181,
   "metadata": {},
   "outputs": [
    {
     "data": {
      "text/plain": [
       "array([ 2.,  7., 12., 17.])"
      ]
     },
     "execution_count": 181,
     "metadata": {},
     "output_type": "execute_result"
    }
   ],
   "source": [
    "np.median(a, axis=1)"
   ]
  },
  {
   "cell_type": "code",
   "execution_count": 182,
   "metadata": {},
   "outputs": [
    {
     "data": {
      "text/plain": [
       "array([ 7.5,  8.5,  9.5, 10.5, 11.5])"
      ]
     },
     "execution_count": 182,
     "metadata": {},
     "output_type": "execute_result"
    }
   ],
   "source": [
    "np.median(a, axis=0)"
   ]
  },
  {
   "cell_type": "code",
   "execution_count": 183,
   "metadata": {},
   "outputs": [
    {
     "data": {
      "text/plain": [
       "array([ 2.,  7., 12., 17.])"
      ]
     },
     "execution_count": 183,
     "metadata": {},
     "output_type": "execute_result"
    }
   ],
   "source": [
    "a.mean(axis=1)"
   ]
  },
  {
   "cell_type": "code",
   "execution_count": 184,
   "metadata": {},
   "outputs": [
    {
     "data": {
      "text/plain": [
       "array([ 7.5,  8.5,  9.5, 10.5, 11.5])"
      ]
     },
     "execution_count": 184,
     "metadata": {},
     "output_type": "execute_result"
    }
   ],
   "source": [
    "a.mean(axis=0)"
   ]
  },
  {
   "cell_type": "code",
   "execution_count": 186,
   "metadata": {},
   "outputs": [
    {
     "data": {
      "text/plain": [
       "np.float64(5.766281297335398)"
      ]
     },
     "execution_count": 186,
     "metadata": {},
     "output_type": "execute_result"
    }
   ],
   "source": [
    "a.std() ## standard deviation"
   ]
  },
  {
   "cell_type": "code",
   "execution_count": 187,
   "metadata": {},
   "outputs": [
    {
     "data": {
      "text/plain": [
       "array([1.41421356, 1.41421356, 1.41421356, 1.41421356])"
      ]
     },
     "execution_count": 187,
     "metadata": {},
     "output_type": "execute_result"
    }
   ],
   "source": [
    "a.std(axis=1)"
   ]
  },
  {
   "cell_type": "code",
   "execution_count": null,
   "metadata": {},
   "outputs": [],
   "source": [
    "# reshape: 3 dimensions\n",
    "\n",
    "d=np.arange(90).reshape(3,3,10)\n",
    "d"
   ]
  },
  {
   "cell_type": "code",
   "execution_count": null,
   "metadata": {},
   "outputs": [],
   "source": [
    "d[2,1,5]"
   ]
  },
  {
   "cell_type": "code",
   "execution_count": null,
   "metadata": {},
   "outputs": [],
   "source": [
    "# reshape: 4 dimensions\n",
    "\n",
    "d.reshape(3,3,2,5)"
   ]
  },
  {
   "cell_type": "markdown",
   "metadata": {},
   "source": [
    "### NumPy data types"
   ]
  },
  {
   "cell_type": "markdown",
   "metadata": {},
   "source": [
    "https://docs.scipy.org/doc/numpy/reference/arrays.dtypes.html\n"
   ]
  },
  {
   "cell_type": "code",
   "execution_count": null,
   "metadata": {},
   "outputs": [],
   "source": [
    "# A frequent error consists in calling array with multiple numeric arguments,\n",
    "# rather than providing a single list of numbers as an argument.\n",
    "\n",
    "c = np.array(2,3,4,5,6,7)  # WRONG \n",
    "\n",
    "# ---------------------------------------------------------------------------\n",
    "# ValueError                                Traceback (most recent call last)\n",
    "# <ipython-input-183-6548e3003d99> in <module>\n",
    "# ----> 1 c = np.array(2,3,4,5,6,7)  # WRONG\n",
    "\n",
    "# ValueError: only 2 non-keyword arguments accepted\n",
    "\n"
   ]
  },
  {
   "cell_type": "code",
   "execution_count": null,
   "metadata": {},
   "outputs": [],
   "source": [
    "# CORRECT would be\n",
    "c = np.array([2,3,4,6,7,9,44])\n",
    "c"
   ]
  },
  {
   "cell_type": "code",
   "execution_count": null,
   "metadata": {},
   "outputs": [],
   "source": [
    "c.dtype"
   ]
  },
  {
   "cell_type": "code",
   "execution_count": null,
   "metadata": {},
   "outputs": [],
   "source": [
    "t = np.array([4000000000000,\"R\"])\n",
    "t"
   ]
  },
  {
   "cell_type": "code",
   "execution_count": null,
   "metadata": {},
   "outputs": [],
   "source": [
    "t = np.array((5,6,7,9,1111111111112,0.4))\n",
    "t"
   ]
  },
  {
   "cell_type": "code",
   "execution_count": null,
   "metadata": {},
   "outputs": [],
   "source": [
    "s = np.array([\"Hello\",'World','''Aha something strange'''])\n",
    "s"
   ]
  },
  {
   "cell_type": "code",
   "execution_count": null,
   "metadata": {},
   "outputs": [],
   "source": [
    "s.itemsize"
   ]
  },
  {
   "cell_type": "code",
   "execution_count": null,
   "metadata": {},
   "outputs": [],
   "source": [
    "s.dtype"
   ]
  },
  {
   "cell_type": "code",
   "execution_count": null,
   "metadata": {},
   "outputs": [],
   "source": [
    "## Can specify array data type at creation"
   ]
  },
  {
   "cell_type": "code",
   "execution_count": 188,
   "metadata": {},
   "outputs": [
    {
     "data": {
      "text/plain": [
       "array([[3.+0.j, 4.+0.j, 5.+0.j],\n",
       "       [3.+0.j, 1.+0.j, 6.+0.j]])"
      ]
     },
     "execution_count": 188,
     "metadata": {},
     "output_type": "execute_result"
    }
   ],
   "source": [
    "c = np.array([[3,4,5], [3,1,6]], dtype=complex)\n",
    "c"
   ]
  },
  {
   "cell_type": "code",
   "execution_count": 189,
   "metadata": {},
   "outputs": [
    {
     "data": {
      "text/plain": [
       "np.float64(3.0)"
      ]
     },
     "execution_count": 189,
     "metadata": {},
     "output_type": "execute_result"
    }
   ],
   "source": [
    "c[0,0].real"
   ]
  },
  {
   "cell_type": "code",
   "execution_count": 190,
   "metadata": {},
   "outputs": [
    {
     "data": {
      "text/plain": [
       "np.float64(0.0)"
      ]
     },
     "execution_count": 190,
     "metadata": {},
     "output_type": "execute_result"
    }
   ],
   "source": [
    "c[0,0].imag"
   ]
  },
  {
   "cell_type": "code",
   "execution_count": null,
   "metadata": {},
   "outputs": [],
   "source": [
    "# c[1,1].imag = 5\n",
    "\n",
    "# This will not work as .imag only returns the value:\n",
    "\n",
    "# AttributeError: attribute 'imag' of 'numpy.generic' objects is not writable"
   ]
  },
  {
   "cell_type": "code",
   "execution_count": 191,
   "metadata": {},
   "outputs": [
    {
     "data": {
      "text/plain": [
       "array([[3.+0.j, 4.+0.j, 5.+0.j],\n",
       "       [3.+0.j, 2.+3.j, 6.+0.j]])"
      ]
     },
     "execution_count": 191,
     "metadata": {},
     "output_type": "execute_result"
    }
   ],
   "source": [
    "c[1,1] = 2 + 3j # use Python complex numbers instead (j for the imaginary part)\n",
    "c"
   ]
  },
  {
   "cell_type": "code",
   "execution_count": null,
   "metadata": {},
   "outputs": [],
   "source": [
    "c.dtype, c.size, c.shape"
   ]
  },
  {
   "cell_type": "code",
   "execution_count": null,
   "metadata": {},
   "outputs": [],
   "source": [
    "# d = np.array([[3+4j,4,5+2.1j], [3,1-3j,6]], dtype=complex)\n",
    "# d"
   ]
  },
  {
   "cell_type": "code",
   "execution_count": null,
   "metadata": {},
   "outputs": [],
   "source": [
    "# d[0,0].real, d[0,0].imag"
   ]
  },
  {
   "cell_type": "code",
   "execution_count": null,
   "metadata": {},
   "outputs": [],
   "source": []
  },
  {
   "cell_type": "code",
   "execution_count": null,
   "metadata": {},
   "outputs": [],
   "source": [
    "z = np.zeros((5,6))\n",
    "z[3,3] = 42\n",
    "print(type(z))\n",
    "print(z.dtype)\n",
    "z"
   ]
  },
  {
   "cell_type": "code",
   "execution_count": null,
   "metadata": {},
   "outputs": [],
   "source": [
    "## Data Type conversion IN PLACE!"
   ]
  },
  {
   "cell_type": "code",
   "execution_count": 192,
   "metadata": {},
   "outputs": [
    {
     "name": "stdout",
     "output_type": "stream",
     "text": [
      "int32\n"
     ]
    },
    {
     "data": {
      "text/plain": [
       "array([[ 0,  0,  0,  0,  0,  0],\n",
       "       [ 0,  0,  0,  0,  0,  0],\n",
       "       [ 0,  0,  0,  0,  0,  0],\n",
       "       [ 0,  0,  0, 42,  0,  0],\n",
       "       [ 0,  0,  0,  0,  0,  0]], dtype=int32)"
      ]
     },
     "execution_count": 192,
     "metadata": {},
     "output_type": "execute_result"
    }
   ],
   "source": [
    "z = z.astype(np.int32, copy=True)\n",
    "print(z.dtype)\n",
    "z"
   ]
  },
  {
   "cell_type": "code",
   "execution_count": null,
   "metadata": {},
   "outputs": [],
   "source": []
  },
  {
   "cell_type": "code",
   "execution_count": null,
   "metadata": {},
   "outputs": [],
   "source": [
    "## Matrix operations"
   ]
  },
  {
   "cell_type": "code",
   "execution_count": 194,
   "metadata": {},
   "outputs": [
    {
     "data": {
      "text/plain": [
       "array([[1, 1, 1, 1, 1, 1],\n",
       "       [1, 1, 1, 1, 1, 1],\n",
       "       [1, 1, 1, 1, 1, 1],\n",
       "       [1, 1, 1, 1, 1, 1],\n",
       "       [1, 1, 1, 1, 1, 1]], dtype=int32)"
      ]
     },
     "execution_count": 194,
     "metadata": {},
     "output_type": "execute_result"
    }
   ],
   "source": [
    "ones = np.full((5,6), 1, dtype=np.int32)\n",
    "ones"
   ]
  },
  {
   "cell_type": "code",
   "execution_count": 195,
   "metadata": {},
   "outputs": [
    {
     "data": {
      "text/plain": [
       "array([[ 1,  1,  1,  1,  1,  1],\n",
       "       [ 1,  1,  1,  1,  1,  1],\n",
       "       [ 1,  1,  1,  1,  1,  1],\n",
       "       [ 1,  1,  1, 43,  1,  1],\n",
       "       [ 1,  1,  1,  1,  1,  1]], dtype=int32)"
      ]
     },
     "execution_count": 195,
     "metadata": {},
     "output_type": "execute_result"
    }
   ],
   "source": [
    "ones = ones + z\n",
    "ones"
   ]
  },
  {
   "cell_type": "code",
   "execution_count": null,
   "metadata": {},
   "outputs": [],
   "source": [
    "ones * z"
   ]
  },
  {
   "cell_type": "code",
   "execution_count": null,
   "metadata": {},
   "outputs": [],
   "source": [
    "twos = np.full((5,6), 2, dtype=np.int32)\n",
    "twos"
   ]
  },
  {
   "cell_type": "code",
   "execution_count": null,
   "metadata": {},
   "outputs": [],
   "source": [
    "ones * twos"
   ]
  },
  {
   "cell_type": "code",
   "execution_count": null,
   "metadata": {},
   "outputs": [],
   "source": [
    "# Anyone remembers the algorithm for Matrix Multiplication? \n",
    "# I don't but NumPy lets us not worry about it :)"
   ]
  },
  {
   "cell_type": "code",
   "execution_count": 196,
   "metadata": {},
   "outputs": [
    {
     "ename": "ValueError",
     "evalue": "matmul: Input operand 1 has a mismatch in its core dimension 0, with gufunc signature (n?,k),(k,m?)->(n?,m?) (size 5 is different from 6)",
     "output_type": "error",
     "traceback": [
      "\u001b[31m---------------------------------------------------------------------------\u001b[39m",
      "\u001b[31mValueError\u001b[39m                                Traceback (most recent call last)",
      "\u001b[36mCell\u001b[39m\u001b[36m \u001b[39m\u001b[32mIn[196]\u001b[39m\u001b[32m, line 1\u001b[39m\n\u001b[32m----> \u001b[39m\u001b[32m1\u001b[39m \u001b[43mnp\u001b[49m\u001b[43m.\u001b[49m\u001b[43mmatmul\u001b[49m\u001b[43m(\u001b[49m\u001b[43mones\u001b[49m\u001b[43m,\u001b[49m\u001b[43m \u001b[49m\u001b[43mtwos\u001b[49m\u001b[43m)\u001b[49m\n",
      "\u001b[31mValueError\u001b[39m: matmul: Input operand 1 has a mismatch in its core dimension 0, with gufunc signature (n?,k),(k,m?)->(n?,m?) (size 5 is different from 6)"
     ]
    }
   ],
   "source": [
    "np.matmul(ones, twos)"
   ]
  },
  {
   "cell_type": "code",
   "execution_count": null,
   "metadata": {},
   "outputs": [],
   "source": [
    "## We have mismatching dimensions for matrix multiplication \n",
    "\n",
    "# the number of columns in the first matrix must be equal \n",
    "# to the number of rows in the second matrix."
   ]
  },
  {
   "cell_type": "code",
   "execution_count": 197,
   "metadata": {},
   "outputs": [
    {
     "data": {
      "text/plain": [
       "((5, 6), (5, 6))"
      ]
     },
     "execution_count": 197,
     "metadata": {},
     "output_type": "execute_result"
    }
   ],
   "source": [
    "(ones.shape, twos.shape)"
   ]
  },
  {
   "cell_type": "code",
   "execution_count": 198,
   "metadata": {},
   "outputs": [
    {
     "data": {
      "text/plain": [
       "array([[2, 2, 2, 2, 2, 2],\n",
       "       [2, 2, 2, 2, 2, 2],\n",
       "       [2, 2, 2, 2, 2, 2],\n",
       "       [2, 2, 2, 2, 2, 2],\n",
       "       [2, 2, 2, 2, 2, 2]], dtype=int32)"
      ]
     },
     "execution_count": 198,
     "metadata": {},
     "output_type": "execute_result"
    }
   ],
   "source": [
    "twos"
   ]
  },
  {
   "cell_type": "code",
   "execution_count": 199,
   "metadata": {},
   "outputs": [
    {
     "data": {
      "text/plain": [
       "array([[2, 2, 2, 2, 2],\n",
       "       [2, 2, 2, 2, 2],\n",
       "       [2, 2, 2, 2, 2],\n",
       "       [2, 2, 2, 2, 2],\n",
       "       [2, 2, 2, 2, 2],\n",
       "       [2, 2, 2, 2, 2]], dtype=int32)"
      ]
     },
     "execution_count": 199,
     "metadata": {},
     "output_type": "execute_result"
    }
   ],
   "source": [
    "twos.transpose()"
   ]
  },
  {
   "cell_type": "code",
   "execution_count": 200,
   "metadata": {},
   "outputs": [
    {
     "data": {
      "text/plain": [
       "(6, 5)"
      ]
     },
     "execution_count": 200,
     "metadata": {},
     "output_type": "execute_result"
    }
   ],
   "source": [
    "twos.transpose().shape"
   ]
  },
  {
   "cell_type": "code",
   "execution_count": 201,
   "metadata": {},
   "outputs": [
    {
     "data": {
      "text/plain": [
       "array([[12, 12, 12, 12, 12],\n",
       "       [12, 12, 12, 12, 12],\n",
       "       [12, 12, 12, 12, 12],\n",
       "       [96, 96, 96, 96, 96],\n",
       "       [12, 12, 12, 12, 12]], dtype=int32)"
      ]
     },
     "execution_count": 201,
     "metadata": {},
     "output_type": "execute_result"
    }
   ],
   "source": [
    "mult = np.matmul(ones, twos.transpose())\n",
    "mult"
   ]
  },
  {
   "cell_type": "code",
   "execution_count": 202,
   "metadata": {},
   "outputs": [
    {
     "data": {
      "text/plain": [
       "array([[10, 10, 10, 10, 10, 10],\n",
       "       [10, 10, 10, 10, 10, 10],\n",
       "       [10, 10, 10, 10, 10, 10],\n",
       "       [94, 94, 94, 94, 94, 94],\n",
       "       [10, 10, 10, 10, 10, 10],\n",
       "       [10, 10, 10, 10, 10, 10]], dtype=int32)"
      ]
     },
     "execution_count": 202,
     "metadata": {},
     "output_type": "execute_result"
    }
   ],
   "source": [
    "mult1 = np.matmul(ones.transpose(), twos)\n",
    "mult1"
   ]
  },
  {
   "cell_type": "code",
   "execution_count": 203,
   "metadata": {},
   "outputs": [
    {
     "data": {
      "text/plain": [
       "(np.int64(720), np.int64(864))"
      ]
     },
     "execution_count": 203,
     "metadata": {},
     "output_type": "execute_result"
    }
   ],
   "source": [
    "mult.sum(), mult1.sum()"
   ]
  },
  {
   "cell_type": "code",
   "execution_count": 204,
   "metadata": {},
   "outputs": [
    {
     "data": {
      "text/plain": [
       "array([[3.46410162, 3.46410162, 3.46410162, 3.46410162, 3.46410162],\n",
       "       [3.46410162, 3.46410162, 3.46410162, 3.46410162, 3.46410162],\n",
       "       [3.46410162, 3.46410162, 3.46410162, 3.46410162, 3.46410162],\n",
       "       [9.79795897, 9.79795897, 9.79795897, 9.79795897, 9.79795897],\n",
       "       [3.46410162, 3.46410162, 3.46410162, 3.46410162, 3.46410162]])"
      ]
     },
     "execution_count": 204,
     "metadata": {},
     "output_type": "execute_result"
    }
   ],
   "source": [
    "np.sqrt(mult)"
   ]
  },
  {
   "cell_type": "code",
   "execution_count": 205,
   "metadata": {},
   "outputs": [
    {
     "data": {
      "text/plain": [
       "array([[12, 12, 12, 12, 12],\n",
       "       [12, 12, 12, 12, 12],\n",
       "       [12, 12, 12, 12, 12],\n",
       "       [96, 96, 96, 96, 96],\n",
       "       [12, 12, 12, 12, 12]], dtype=int32)"
      ]
     },
     "execution_count": 205,
     "metadata": {},
     "output_type": "execute_result"
    }
   ],
   "source": [
    "mult"
   ]
  },
  {
   "cell_type": "code",
   "execution_count": null,
   "metadata": {},
   "outputs": [],
   "source": [
    "mult**2"
   ]
  },
  {
   "cell_type": "code",
   "execution_count": null,
   "metadata": {},
   "outputs": [],
   "source": [
    "# np.sin, np.cos, np.exp(power), and so on"
   ]
  },
  {
   "cell_type": "markdown",
   "metadata": {},
   "source": [
    "### Array stacking and splitting"
   ]
  },
  {
   "cell_type": "code",
   "execution_count": null,
   "metadata": {},
   "outputs": [],
   "source": [
    "[1, 3, 65] + [4, 6, 7]"
   ]
  },
  {
   "cell_type": "code",
   "execution_count": null,
   "metadata": {},
   "outputs": [],
   "source": [
    "vstack = np.vstack((ones,twos,ones)) # notice the double parenthesis, ie we supply a tuple as an argument!\n",
    "vstack"
   ]
  },
  {
   "cell_type": "code",
   "execution_count": null,
   "metadata": {},
   "outputs": [],
   "source": []
  },
  {
   "cell_type": "code",
   "execution_count": null,
   "metadata": {},
   "outputs": [],
   "source": [
    "hstack = np.hstack((twos,ones,twos))\n",
    "hstack"
   ]
  },
  {
   "cell_type": "code",
   "execution_count": null,
   "metadata": {},
   "outputs": [],
   "source": [
    "hsplit = np.hsplit(hstack, 3)\n",
    "print(type(hsplit))\n",
    "hsplit"
   ]
  },
  {
   "cell_type": "code",
   "execution_count": null,
   "metadata": {},
   "outputs": [],
   "source": [
    "h2 = np.hsplit(hstack, 6)\n",
    "print(type(h2))\n",
    "h2"
   ]
  },
  {
   "cell_type": "code",
   "execution_count": null,
   "metadata": {},
   "outputs": [],
   "source": [
    "## vsplit is similar along vertical axis and array_split lets you specify axis"
   ]
  },
  {
   "cell_type": "markdown",
   "metadata": {},
   "source": [
    "## View or Shallow Copy"
   ]
  },
  {
   "cell_type": "code",
   "execution_count": 206,
   "metadata": {},
   "outputs": [
    {
     "data": {
      "text/plain": [
       "array([[ 0,  1,  2,  3,  4],\n",
       "       [ 5,  6,  7,  8,  9],\n",
       "       [10, 11, 12, 13, 14],\n",
       "       [15, 16, 17, 18, 19]])"
      ]
     },
     "execution_count": 206,
     "metadata": {},
     "output_type": "execute_result"
    }
   ],
   "source": [
    "a = np.arange(20).reshape(4,5)\n",
    "a"
   ]
  },
  {
   "cell_type": "code",
   "execution_count": 207,
   "metadata": {},
   "outputs": [],
   "source": [
    "v = a.view()"
   ]
  },
  {
   "cell_type": "code",
   "execution_count": 208,
   "metadata": {},
   "outputs": [
    {
     "data": {
      "text/plain": [
       "array([[ 0,  1,  2,  3,  4],\n",
       "       [ 5,  6,  7,  8,  9],\n",
       "       [10, 11, 12, 13, 14],\n",
       "       [15, 16, 17, 18, 19]])"
      ]
     },
     "execution_count": 208,
     "metadata": {},
     "output_type": "execute_result"
    }
   ],
   "source": [
    "v"
   ]
  },
  {
   "cell_type": "code",
   "execution_count": 209,
   "metadata": {},
   "outputs": [
    {
     "data": {
      "text/plain": [
       "False"
      ]
     },
     "execution_count": 209,
     "metadata": {},
     "output_type": "execute_result"
    }
   ],
   "source": [
    "v is a"
   ]
  },
  {
   "cell_type": "code",
   "execution_count": 210,
   "metadata": {},
   "outputs": [
    {
     "data": {
      "text/plain": [
       "array([[ True,  True,  True,  True,  True],\n",
       "       [ True,  True,  True,  True,  True],\n",
       "       [ True,  True,  True,  True,  True],\n",
       "       [ True,  True,  True,  True,  True]])"
      ]
     },
     "execution_count": 210,
     "metadata": {},
     "output_type": "execute_result"
    }
   ],
   "source": [
    "v == a"
   ]
  },
  {
   "cell_type": "code",
   "execution_count": 211,
   "metadata": {},
   "outputs": [
    {
     "data": {
      "text/plain": [
       "True"
      ]
     },
     "execution_count": 211,
     "metadata": {},
     "output_type": "execute_result"
    }
   ],
   "source": [
    "v.base is a.base"
   ]
  },
  {
   "cell_type": "code",
   "execution_count": 212,
   "metadata": {},
   "outputs": [],
   "source": [
    "v[2,2]=999"
   ]
  },
  {
   "cell_type": "code",
   "execution_count": 213,
   "metadata": {},
   "outputs": [
    {
     "data": {
      "text/plain": [
       "array([[  0,   1,   2,   3,   4],\n",
       "       [  5,   6,   7,   8,   9],\n",
       "       [ 10,  11, 999,  13,  14],\n",
       "       [ 15,  16,  17,  18,  19]])"
      ]
     },
     "execution_count": 213,
     "metadata": {},
     "output_type": "execute_result"
    }
   ],
   "source": [
    "v"
   ]
  },
  {
   "cell_type": "code",
   "execution_count": 214,
   "metadata": {},
   "outputs": [
    {
     "data": {
      "text/plain": [
       "array([[  0,   1,   2,   3,   4],\n",
       "       [  5,   6,   7,   8,   9],\n",
       "       [ 10,  11, 999,  13,  14],\n",
       "       [ 15,  16,  17,  18,  19]])"
      ]
     },
     "execution_count": 214,
     "metadata": {},
     "output_type": "execute_result"
    }
   ],
   "source": [
    "a"
   ]
  },
  {
   "cell_type": "code",
   "execution_count": 216,
   "metadata": {},
   "outputs": [
    {
     "data": {
      "text/plain": [
       "array([[  1,   2],\n",
       "       [  6,   7],\n",
       "       [ 11, 999],\n",
       "       [ 16,  17]])"
      ]
     },
     "execution_count": 216,
     "metadata": {},
     "output_type": "execute_result"
    }
   ],
   "source": [
    "s = a[:,1:3]\n",
    "s"
   ]
  },
  {
   "cell_type": "code",
   "execution_count": 217,
   "metadata": {},
   "outputs": [
    {
     "data": {
      "text/plain": [
       "True"
      ]
     },
     "execution_count": 217,
     "metadata": {},
     "output_type": "execute_result"
    }
   ],
   "source": [
    "s.base is a.base"
   ]
  },
  {
   "cell_type": "code",
   "execution_count": 218,
   "metadata": {},
   "outputs": [
    {
     "data": {
      "text/plain": [
       "array([[55, 55],\n",
       "       [55, 55],\n",
       "       [55, 55],\n",
       "       [55, 55]])"
      ]
     },
     "execution_count": 218,
     "metadata": {},
     "output_type": "execute_result"
    }
   ],
   "source": [
    "s[:] = 55\n",
    "s"
   ]
  },
  {
   "cell_type": "code",
   "execution_count": 219,
   "metadata": {},
   "outputs": [
    {
     "data": {
      "text/plain": [
       "array([[ 0, 55, 55,  3,  4],\n",
       "       [ 5, 55, 55,  8,  9],\n",
       "       [10, 55, 55, 13, 14],\n",
       "       [15, 55, 55, 18, 19]])"
      ]
     },
     "execution_count": 219,
     "metadata": {},
     "output_type": "execute_result"
    }
   ],
   "source": [
    "a"
   ]
  },
  {
   "cell_type": "markdown",
   "metadata": {},
   "source": [
    "### Remember: Slice is a shallow copy to original (ie reference)"
   ]
  },
  {
   "cell_type": "markdown",
   "metadata": {},
   "source": [
    "## Deep Copy"
   ]
  },
  {
   "cell_type": "code",
   "execution_count": 220,
   "metadata": {},
   "outputs": [
    {
     "data": {
      "text/plain": [
       "array([[ 0, 55, 55,  3,  4],\n",
       "       [ 5, 55, 55,  8,  9],\n",
       "       [10, 55, 55, 13, 14],\n",
       "       [15, 55, 55, 18, 19]])"
      ]
     },
     "execution_count": 220,
     "metadata": {},
     "output_type": "execute_result"
    }
   ],
   "source": [
    "d = a.copy()\n",
    "d"
   ]
  },
  {
   "cell_type": "code",
   "execution_count": 221,
   "metadata": {},
   "outputs": [
    {
     "data": {
      "text/plain": [
       "False"
      ]
     },
     "execution_count": 221,
     "metadata": {},
     "output_type": "execute_result"
    }
   ],
   "source": [
    "d.base is a.base"
   ]
  },
  {
   "cell_type": "code",
   "execution_count": 222,
   "metadata": {},
   "outputs": [
    {
     "data": {
      "text/plain": [
       "array([[  0,  55,  55,   3,   4],\n",
       "       [  5, 777,  55,   8,   9],\n",
       "       [ 10,  55,  55,  13,  14],\n",
       "       [ 15,  55,  55,  18,  19]])"
      ]
     },
     "execution_count": 222,
     "metadata": {},
     "output_type": "execute_result"
    }
   ],
   "source": [
    "d[1,1]=777\n",
    "d"
   ]
  },
  {
   "cell_type": "code",
   "execution_count": 223,
   "metadata": {},
   "outputs": [
    {
     "data": {
      "text/plain": [
       "array([[ 0, 55, 55,  3,  4],\n",
       "       [ 5, 55, 55,  8,  9],\n",
       "       [10, 55, 55, 13, 14],\n",
       "       [15, 55, 55, 18, 19]])"
      ]
     },
     "execution_count": 223,
     "metadata": {},
     "output_type": "execute_result"
    }
   ],
   "source": [
    "a"
   ]
  },
  {
   "cell_type": "code",
   "execution_count": 224,
   "metadata": {},
   "outputs": [
    {
     "data": {
      "text/plain": [
       "array([[ True,  True,  True,  True,  True],\n",
       "       [ True, False,  True,  True,  True],\n",
       "       [ True,  True,  True,  True,  True],\n",
       "       [ True,  True,  True,  True,  True]])"
      ]
     },
     "execution_count": 224,
     "metadata": {},
     "output_type": "execute_result"
    }
   ],
   "source": [
    "a == d"
   ]
  },
  {
   "cell_type": "markdown",
   "metadata": {},
   "source": [
    "### Now d is completely separate object from a !!"
   ]
  },
  {
   "cell_type": "code",
   "execution_count": null,
   "metadata": {},
   "outputs": [],
   "source": [
    "## More on copy vs sliceing: https://stackoverflow.com/questions/47181092/numpy-views-vs-copy-by-slicing\n",
    "# key depends on how you slice\n",
    "# slice by rows -> view (shallow copy)\n",
    "# slice by column -> deep copy because not contigous"
   ]
  },
  {
   "cell_type": "markdown",
   "metadata": {},
   "source": [
    "## Useful NumPy Functions and Methods (there are more!)"
   ]
  },
  {
   "cell_type": "markdown",
   "metadata": {},
   "source": [
    "* Array Creation\n",
    "\n",
    "arange, array, copy, empty, empty_like, eye, fromfile, fromfunction, identity, linspace, logspace, mgrid, ogrid, ones, ones_like, r, zeros, zeros_like\n",
    "\n",
    "* Conversions\n",
    "\n",
    "ndarray.astype, atleast_1d, atleast_2d, atleast_3d, mat\n",
    "\n",
    "* Manipulations\n",
    "\n",
    "array_split, column_stack, concatenate, diagonal, dsplit, dstack, hsplit, hstack, ndarray.item, newaxis, ravel, repeat, reshape, resize, squeeze, swapaxes, take, transpose, vsplit, vstack\n",
    "\n",
    "* Questions\n",
    "\n",
    "all, any, nonzero, where\n",
    "\n",
    "* Ordering\n",
    "\n",
    "argmax, argmin, argsort, max, min, ptp, searchsorted, sort\n",
    "\n",
    "* Operations\n",
    "\n",
    "choose, compress, cumprod, cumsum, inner, ndarray.fill, imag, prod, put, putmask, real, sum\n",
    "\n",
    "* Basic Statistics\n",
    "\n",
    "cov, mean, std, var\n",
    "\n",
    "* Basic Linear Algebra\n",
    "\n",
    "cross, dot, outer, linalg.svd, vdot"
   ]
  },
  {
   "cell_type": "code",
   "execution_count": null,
   "metadata": {},
   "outputs": [],
   "source": [
    "f = np.ones((5,6), dtype='int32')\n",
    "f[2,3] = 0\n",
    "f"
   ]
  },
  {
   "cell_type": "code",
   "execution_count": null,
   "metadata": {},
   "outputs": [],
   "source": [
    "f.nonzero()"
   ]
  },
  {
   "cell_type": "code",
   "execution_count": null,
   "metadata": {},
   "outputs": [],
   "source": [
    "g = np.random.randint(0,20,16).reshape(4,4)\n",
    "g"
   ]
  },
  {
   "cell_type": "code",
   "execution_count": null,
   "metadata": {},
   "outputs": [],
   "source": [
    "g.sort(axis=0)\n",
    "g"
   ]
  },
  {
   "cell_type": "code",
   "execution_count": null,
   "metadata": {},
   "outputs": [],
   "source": [
    "g.sort(axis=1)\n",
    "g"
   ]
  },
  {
   "cell_type": "markdown",
   "metadata": {},
   "source": [
    "## Boolean Arrays"
   ]
  },
  {
   "cell_type": "code",
   "execution_count": 225,
   "metadata": {},
   "outputs": [
    {
     "data": {
      "text/plain": [
       "array([[ 0, 55, 55,  3,  4],\n",
       "       [ 5, 55, 55,  8,  9],\n",
       "       [10, 55, 55, 13, 14],\n",
       "       [15, 55, 55, 18, 19]])"
      ]
     },
     "execution_count": 225,
     "metadata": {},
     "output_type": "execute_result"
    }
   ],
   "source": [
    "a"
   ]
  },
  {
   "cell_type": "code",
   "execution_count": 226,
   "metadata": {},
   "outputs": [
    {
     "data": {
      "text/plain": [
       "array([[False,  True,  True, False, False],\n",
       "       [False,  True,  True, False, False],\n",
       "       [False,  True,  True, False, False],\n",
       "       [False,  True,  True,  True,  True]])"
      ]
     },
     "execution_count": 226,
     "metadata": {},
     "output_type": "execute_result"
    }
   ],
   "source": [
    "b = a > 17\n",
    "b"
   ]
  },
  {
   "cell_type": "code",
   "execution_count": 227,
   "metadata": {},
   "outputs": [
    {
     "data": {
      "text/plain": [
       "array([55, 55, 55, 55, 55, 55, 55, 55, 18, 19])"
      ]
     },
     "execution_count": 227,
     "metadata": {},
     "output_type": "execute_result"
    }
   ],
   "source": [
    "a[b] # return values from a where b is True"
   ]
  },
  {
   "cell_type": "code",
   "execution_count": null,
   "metadata": {},
   "outputs": [],
   "source": [
    "## Useful in assignments"
   ]
  },
  {
   "cell_type": "code",
   "execution_count": 228,
   "metadata": {},
   "outputs": [
    {
     "data": {
      "text/plain": [
       "array([[  0, 500, 500,   3,   4],\n",
       "       [  5, 500, 500,   8,   9],\n",
       "       [ 10, 500, 500,  13,  14],\n",
       "       [ 15, 500, 500, 500, 500]])"
      ]
     },
     "execution_count": 228,
     "metadata": {},
     "output_type": "execute_result"
    }
   ],
   "source": [
    "a[b] = 500\n",
    "a"
   ]
  },
  {
   "cell_type": "markdown",
   "metadata": {},
   "source": [
    "#### Fancy indexing \n",
    "\n",
    "Python Data Science Handbook:\n",
    "https://jakevdp.github.io/PythonDataScienceHandbook/02.07-fancy-indexing.html\n"
   ]
  },
  {
   "cell_type": "markdown",
   "metadata": {},
   "source": [
    "## Automatic Reshaping"
   ]
  },
  {
   "cell_type": "code",
   "execution_count": null,
   "metadata": {},
   "outputs": [],
   "source": [
    "arr = np.arange(24)\n",
    "arr"
   ]
  },
  {
   "cell_type": "markdown",
   "metadata": {},
   "source": [
    "### To change the dimensions of an array, you can omit one of the sizes which will then be deduced automatically:"
   ]
  },
  {
   "cell_type": "code",
   "execution_count": null,
   "metadata": {},
   "outputs": [],
   "source": [
    "arr.shape = 6, -1\n",
    "arr"
   ]
  },
  {
   "cell_type": "code",
   "execution_count": null,
   "metadata": {},
   "outputs": [],
   "source": [
    "arr.shape = -1, 2\n",
    "arr"
   ]
  },
  {
   "cell_type": "markdown",
   "metadata": {},
   "source": [
    "## Broadcasting \n",
    "\n",
    "* The term broadcasting describes how numpy treats arrays with different shapes during arithmetic operations. Subject to certain constraints, the smaller array is “broadcast” across the larger array so that they have compatible shapes\n",
    "\n",
    "* usually leads to efficient algorithm implementations."
   ]
  },
  {
   "cell_type": "code",
   "execution_count": null,
   "metadata": {},
   "outputs": [],
   "source": [
    "e = np.arange(6)\n",
    "f = np.arange(3)*10  #same as np.arange(0,30,10)\n"
   ]
  },
  {
   "cell_type": "code",
   "execution_count": null,
   "metadata": {},
   "outputs": [],
   "source": [
    "e"
   ]
  },
  {
   "cell_type": "code",
   "execution_count": null,
   "metadata": {},
   "outputs": [],
   "source": [
    "f"
   ]
  },
  {
   "cell_type": "code",
   "execution_count": null,
   "metadata": {},
   "outputs": [],
   "source": [
    "e + f"
   ]
  },
  {
   "cell_type": "markdown",
   "metadata": {},
   "source": [
    "### General Broadcasting Rules\n",
    "#### When operating on two arrays, NumPy compares their shapes element-wise. It starts with the trailing dimensions, and works its way forward. Two dimensions are compatible when\n",
    "\n",
    "* they are equal, or\n",
    "* one of them is 1"
   ]
  },
  {
   "cell_type": "code",
   "execution_count": null,
   "metadata": {},
   "outputs": [],
   "source": [
    "e.shape, f.shape"
   ]
  },
  {
   "cell_type": "code",
   "execution_count": null,
   "metadata": {},
   "outputs": [],
   "source": [
    "e.reshape(6,1)"
   ]
  },
  {
   "cell_type": "code",
   "execution_count": null,
   "metadata": {},
   "outputs": [],
   "source": [
    "f.reshape(1,3)"
   ]
  },
  {
   "cell_type": "code",
   "execution_count": null,
   "metadata": {},
   "outputs": [],
   "source": [
    "e.reshape(6,1) + f.reshape(1,3)"
   ]
  },
  {
   "cell_type": "code",
   "execution_count": null,
   "metadata": {},
   "outputs": [],
   "source": [
    "e.reshape(6,1) * f.reshape(1,3)"
   ]
  },
  {
   "cell_type": "code",
   "execution_count": null,
   "metadata": {},
   "outputs": [],
   "source": [
    "mtab = np.arange(1, 10).reshape(9,1) * np.arange(1,10).reshape(1,9)\n",
    "mtab"
   ]
  },
  {
   "cell_type": "markdown",
   "metadata": {},
   "source": [
    "## Histograms\n",
    "### np version only builds the histogram but does not plot it (unlike mathplotlib version)"
   ]
  },
  {
   "cell_type": "code",
   "execution_count": 229,
   "metadata": {},
   "outputs": [],
   "source": [
    "import matplotlib.pyplot as plt"
   ]
  },
  {
   "cell_type": "code",
   "execution_count": 230,
   "metadata": {},
   "outputs": [],
   "source": [
    "# Build a vector of 10000 normal deviates with variance 0.5^2 and mean 2\n",
    "mu, sigma = 2, 0.5\n",
    "v = np.random.normal(mu,sigma,20000)\n"
   ]
  },
  {
   "cell_type": "code",
   "execution_count": 231,
   "metadata": {},
   "outputs": [
    {
     "data": {
      "text/plain": [
       "(array([0.89905457, 2.12951258, 1.95388655, 2.71869766, 1.72304598,\n",
       "        3.11171949, 2.55443419, 2.34247273, 2.08845128, 1.97626575,\n",
       "        2.1354683 , 2.11050292, 2.1970648 , 2.09541973, 2.25476154,\n",
       "        2.1795463 , 1.59333084, 2.58657049, 2.30620481, 1.06074784]),\n",
       " np.float64(1.9999345639669293),\n",
       " np.float64(4.283836550903738),\n",
       " np.float64(0.15231463939588363))"
      ]
     },
     "execution_count": 231,
     "metadata": {},
     "output_type": "execute_result"
    }
   ],
   "source": [
    "v[:20], v.mean(),v.max(),v.min()"
   ]
  },
  {
   "cell_type": "code",
   "execution_count": 232,
   "metadata": {},
   "outputs": [
    {
     "data": {
      "text/plain": [
       "np.float64(0.5036656104259919)"
      ]
     },
     "execution_count": 232,
     "metadata": {},
     "output_type": "execute_result"
    }
   ],
   "source": [
    "v.std()"
   ]
  },
  {
   "cell_type": "code",
   "execution_count": 233,
   "metadata": {},
   "outputs": [
    {
     "data": {
      "image/png": "[encoded data removed]",
      "text/plain": [
       "<Figure size 640x480 with 1 Axes>"
      ]
     },
     "metadata": {},
     "output_type": "display_data"
    }
   ],
   "source": [
    "# Plot a normalized histogram with 50 bins\n",
    "plt.hist(v, bins=500)       # matplotlib version (plot)\n",
    "plt.show()"
   ]
  },
  {
   "cell_type": "code",
   "execution_count": 234,
   "metadata": {},
   "outputs": [],
   "source": [
    "# Compute the histogram with numpy and then plot it\n",
    "(n, bins) = np.histogram(v, bins=500)  # NumPy version (no plot)"
   ]
  },
  {
   "cell_type": "code",
   "execution_count": 235,
   "metadata": {},
   "outputs": [
    {
     "data": {
      "text/plain": [
       "(array([  1,   1,   0,   0,   0,   0,   0,   0,   0,   2,   0,   0,   1,\n",
       "          0,   0,   0,   1,   0,   1,   0,   1,   1,   1,   1,   0,   1,\n",
       "          0,   2,   1,   0,   1,   0,   0,   3,   4,   1,   2,   1,   1,\n",
       "          3,   2,   1,   0,   0,   1,   5,   2,   3,   1,   2,   4,   1,\n",
       "          1,   3,   4,   6,   5,   7,   3,   3,   3,   5,   7,   4,   7,\n",
       "          6,   6,   3,   3,   6,   3,   6,   7,   9,   4,   2,   8,  12,\n",
       "         13,  11,   4,   8,   7,   6,  11,  11,  19,  10,   9,  17,   9,\n",
       "         13,  18,  11,  11,  10,  14,  20,  10,  15,  27,  11,  12,  12,\n",
       "         14,  14,  16,  19,  20,  20,  31,  20,  22,  16,  29,  29,  30,\n",
       "         30,  29,  29,  32,  32,  33,  32,  36,  37,  37,  39,  48,  41,\n",
       "         36,  26,  41,  48,  53,  44,  39,  66,  43,  44,  45,  47,  47,\n",
       "         63,  61,  59,  63,  55,  59,  61,  72,  70,  83,  75,  73,  50,\n",
       "         54,  78,  82,  71,  86,  67,  87,  82,  86,  70,  86,  76, 105,\n",
       "         93,  75,  97,  86, 102, 103, 105,  88,  99, 106,  87,  99, 105,\n",
       "        111, 111, 122,  97, 114,  96, 111, 116, 124, 132, 120, 113, 105,\n",
       "        130, 127,  99, 116, 145, 121, 117, 116, 119, 124, 118, 129,  95,\n",
       "        131, 127, 134, 131, 153, 128, 137, 133, 138, 129, 118, 108, 111,\n",
       "        125, 120, 136, 118, 128, 122, 157, 126, 130, 139, 130, 129, 122,\n",
       "        123, 134, 122, 132, 115, 129, 122,  94, 118, 141, 128, 135, 129,\n",
       "        113, 120, 122, 129, 122, 126,  97, 129, 118, 122, 107, 110, 100,\n",
       "        117, 115, 104, 104,  85, 115,  97,  96, 106, 119, 104, 115, 111,\n",
       "        118,  84,  99,  94,  89,  80,  91,  80,  78,  86,  87,  81,  79,\n",
       "         83,  71,  78,  71,  71,  74,  64,  57,  57,  65,  62,  66,  73,\n",
       "         71,  51,  53,  55,  43,  50,  52,  43,  49,  48,  35,  43,  54,\n",
       "         41,  63,  50,  40,  35,  43,  42,  38,  24,  30,  35,  37,  37,\n",
       "         32,  31,  32,  25,  25,  14,  27,  30,  19,  19,  24,  25,  20,\n",
       "         26,  29,  21,  14,  14,  21,  24,  19,  16,  17,  18,  13,   8,\n",
       "         15,  18,  17,  18,  11,  11,  11,  12,   9,  12,   7,  10,  12,\n",
       "         13,  10,  12,  11,   5,   6,   8,   4,   6,   6,   4,   5,   5,\n",
       "          7,   8,   3,   6,   4,   6,   5,   5,   6,   1,   4,   2,   4,\n",
       "          4,   6,   6,   3,   5,   2,   3,   1,   1,   0,   5,   2,   0,\n",
       "          0,   2,   2,   2,   2,   2,   0,   4,   0,   0,   1,   1,   0,\n",
       "          1,   1,   0,   1,   1,   0,   0,   0,   1,   0,   1,   0,   0,\n",
       "          0,   1,   0,   0,   0,   0,   0,   1,   1,   0,   0,   0,   0,\n",
       "          0,   0,   0,   0,   0,   0,   0,   0,   0,   0,   0,   0,   0,\n",
       "          1,   1,   0,   0,   0,   0,   0,   0,   0,   0,   0,   0,   0,\n",
       "          0,   0,   0,   0,   0,   0,   1,   0,   0,   0,   0,   0,   0,\n",
       "          0,   0,   0,   0,   0,   0,   0,   0,   0,   0,   0,   0,   0,\n",
       "          0,   0,   0,   0,   0,   1]),\n",
       " array([0.15231464, 0.16057768, 0.16884073, 0.17710377, 0.18536681,\n",
       "        0.19362986, 0.2018929 , 0.21015595, 0.21841899, 0.22668203,\n",
       "        0.23494508, 0.24320812, 0.25147117, 0.25973421, 0.26799725,\n",
       "        0.2762603 , 0.28452334, 0.29278638, 0.30104943, 0.30931247,\n",
       "        0.31757552, 0.32583856, 0.3341016 , 0.34236465, 0.35062769,\n",
       "        0.35889073, 0.36715378, 0.37541682, 0.38367987, 0.39194291,\n",
       "        0.40020595, 0.408469  , 0.41673204, 0.42499509, 0.43325813,\n",
       "        0.44152117, 0.44978422, 0.45804726, 0.4663103 , 0.47457335,\n",
       "        0.48283639, 0.49109944, 0.49936248, 0.50762552, 0.51588857,\n",
       "        0.52415161, 0.53241466, 0.5406777 , 0.54894074, 0.55720379,\n",
       "        0.56546683, 0.57372987, 0.58199292, 0.59025596, 0.59851901,\n",
       "        0.60678205, 0.61504509, 0.62330814, 0.63157118, 0.63983422,\n",
       "        0.64809727, 0.65636031, 0.66462336, 0.6728864 , 0.68114944,\n",
       "        0.68941249, 0.69767553, 0.70593858, 0.71420162, 0.72246466,\n",
       "        0.73072771, 0.73899075, 0.74725379, 0.75551684, 0.76377988,\n",
       "        0.77204293, 0.78030597, 0.78856901, 0.79683206, 0.8050951 ,\n",
       "        0.81335815, 0.82162119, 0.82988423, 0.83814728, 0.84641032,\n",
       "        0.85467336, 0.86293641, 0.87119945, 0.8794625 , 0.88772554,\n",
       "        0.89598858, 0.90425163, 0.91251467, 0.92077771, 0.92904076,\n",
       "        0.9373038 , 0.94556685, 0.95382989, 0.96209293, 0.97035598,\n",
       "        0.97861902, 0.98688207, 0.99514511, 1.00340815, 1.0116712 ,\n",
       "        1.01993424, 1.02819728, 1.03646033, 1.04472337, 1.05298642,\n",
       "        1.06124946, 1.0695125 , 1.07777555, 1.08603859, 1.09430164,\n",
       "        1.10256468, 1.11082772, 1.11909077, 1.12735381, 1.13561685,\n",
       "        1.1438799 , 1.15214294, 1.16040599, 1.16866903, 1.17693207,\n",
       "        1.18519512, 1.19345816, 1.2017212 , 1.20998425, 1.21824729,\n",
       "        1.22651034, 1.23477338, 1.24303642, 1.25129947, 1.25956251,\n",
       "        1.26782556, 1.2760886 , 1.28435164, 1.29261469, 1.30087773,\n",
       "        1.30914077, 1.31740382, 1.32566686, 1.33392991, 1.34219295,\n",
       "        1.35045599, 1.35871904, 1.36698208, 1.37524513, 1.38350817,\n",
       "        1.39177121, 1.40003426, 1.4082973 , 1.41656034, 1.42482339,\n",
       "        1.43308643, 1.44134948, 1.44961252, 1.45787556, 1.46613861,\n",
       "        1.47440165, 1.48266469, 1.49092774, 1.49919078, 1.50745383,\n",
       "        1.51571687, 1.52397991, 1.53224296, 1.540506  , 1.54876905,\n",
       "        1.55703209, 1.56529513, 1.57355818, 1.58182122, 1.59008426,\n",
       "        1.59834731, 1.60661035, 1.6148734 , 1.62313644, 1.63139948,\n",
       "        1.63966253, 1.64792557, 1.65618862, 1.66445166, 1.6727147 ,\n",
       "        1.68097775, 1.68924079, 1.69750383, 1.70576688, 1.71402992,\n",
       "        1.72229297, 1.73055601, 1.73881905, 1.7470821 , 1.75534514,\n",
       "        1.76360818, 1.77187123, 1.78013427, 1.78839732, 1.79666036,\n",
       "        1.8049234 , 1.81318645, 1.82144949, 1.82971254, 1.83797558,\n",
       "        1.84623862, 1.85450167, 1.86276471, 1.87102775, 1.8792908 ,\n",
       "        1.88755384, 1.89581689, 1.90407993, 1.91234297, 1.92060602,\n",
       "        1.92886906, 1.93713211, 1.94539515, 1.95365819, 1.96192124,\n",
       "        1.97018428, 1.97844732, 1.98671037, 1.99497341, 2.00323646,\n",
       "        2.0114995 , 2.01976254, 2.02802559, 2.03628863, 2.04455167,\n",
       "        2.05281472, 2.06107776, 2.06934081, 2.07760385, 2.08586689,\n",
       "        2.09412994, 2.10239298, 2.11065603, 2.11891907, 2.12718211,\n",
       "        2.13544516, 2.1437082 , 2.15197124, 2.16023429, 2.16849733,\n",
       "        2.17676038, 2.18502342, 2.19328646, 2.20154951, 2.20981255,\n",
       "        2.2180756 , 2.22633864, 2.23460168, 2.24286473, 2.25112777,\n",
       "        2.25939081, 2.26765386, 2.2759169 , 2.28417995, 2.29244299,\n",
       "        2.30070603, 2.30896908, 2.31723212, 2.32549516, 2.33375821,\n",
       "        2.34202125, 2.3502843 , 2.35854734, 2.36681038, 2.37507343,\n",
       "        2.38333647, 2.39159952, 2.39986256, 2.4081256 , 2.41638865,\n",
       "        2.42465169, 2.43291473, 2.44117778, 2.44944082, 2.45770387,\n",
       "        2.46596691, 2.47422995, 2.482493  , 2.49075604, 2.49901909,\n",
       "        2.50728213, 2.51554517, 2.52380822, 2.53207126, 2.5403343 ,\n",
       "        2.54859735, 2.55686039, 2.56512344, 2.57338648, 2.58164952,\n",
       "        2.58991257, 2.59817561, 2.60643865, 2.6147017 , 2.62296474,\n",
       "        2.63122779, 2.63949083, 2.64775387, 2.65601692, 2.66427996,\n",
       "        2.67254301, 2.68080605, 2.68906909, 2.69733214, 2.70559518,\n",
       "        2.71385822, 2.72212127, 2.73038431, 2.73864736, 2.7469104 ,\n",
       "        2.75517344, 2.76343649, 2.77169953, 2.77996258, 2.78822562,\n",
       "        2.79648866, 2.80475171, 2.81301475, 2.82127779, 2.82954084,\n",
       "        2.83780388, 2.84606693, 2.85432997, 2.86259301, 2.87085606,\n",
       "        2.8791191 , 2.88738214, 2.89564519, 2.90390823, 2.91217128,\n",
       "        2.92043432, 2.92869736, 2.93696041, 2.94522345, 2.9534865 ,\n",
       "        2.96174954, 2.97001258, 2.97827563, 2.98653867, 2.99480171,\n",
       "        3.00306476, 3.0113278 , 3.01959085, 3.02785389, 3.03611693,\n",
       "        3.04437998, 3.05264302, 3.06090607, 3.06916911, 3.07743215,\n",
       "        3.0856952 , 3.09395824, 3.10222128, 3.11048433, 3.11874737,\n",
       "        3.12701042, 3.13527346, 3.1435365 , 3.15179955, 3.16006259,\n",
       "        3.16832563, 3.17658868, 3.18485172, 3.19311477, 3.20137781,\n",
       "        3.20964085, 3.2179039 , 3.22616694, 3.23442999, 3.24269303,\n",
       "        3.25095607, 3.25921912, 3.26748216, 3.2757452 , 3.28400825,\n",
       "        3.29227129, 3.30053434, 3.30879738, 3.31706042, 3.32532347,\n",
       "        3.33358651, 3.34184956, 3.3501126 , 3.35837564, 3.36663869,\n",
       "        3.37490173, 3.38316477, 3.39142782, 3.39969086, 3.40795391,\n",
       "        3.41621695, 3.42447999, 3.43274304, 3.44100608, 3.44926912,\n",
       "        3.45753217, 3.46579521, 3.47405826, 3.4823213 , 3.49058434,\n",
       "        3.49884739, 3.50711043, 3.51537348, 3.52363652, 3.53189956,\n",
       "        3.54016261, 3.54842565, 3.55668869, 3.56495174, 3.57321478,\n",
       "        3.58147783, 3.58974087, 3.59800391, 3.60626696, 3.61453   ,\n",
       "        3.62279305, 3.63105609, 3.63931913, 3.64758218, 3.65584522,\n",
       "        3.66410826, 3.67237131, 3.68063435, 3.6888974 , 3.69716044,\n",
       "        3.70542348, 3.71368653, 3.72194957, 3.73021261, 3.73847566,\n",
       "        3.7467387 , 3.75500175, 3.76326479, 3.77152783, 3.77979088,\n",
       "        3.78805392, 3.79631697, 3.80458001, 3.81284305, 3.8211061 ,\n",
       "        3.82936914, 3.83763218, 3.84589523, 3.85415827, 3.86242132,\n",
       "        3.87068436, 3.8789474 , 3.88721045, 3.89547349, 3.90373654,\n",
       "        3.91199958, 3.92026262, 3.92852567, 3.93678871, 3.94505175,\n",
       "        3.9533148 , 3.96157784, 3.96984089, 3.97810393, 3.98636697,\n",
       "        3.99463002, 4.00289306, 4.0111561 , 4.01941915, 4.02768219,\n",
       "        4.03594524, 4.04420828, 4.05247132, 4.06073437, 4.06899741,\n",
       "        4.07726046, 4.0855235 , 4.09378654, 4.10204959, 4.11031263,\n",
       "        4.11857567, 4.12683872, 4.13510176, 4.14336481, 4.15162785,\n",
       "        4.15989089, 4.16815394, 4.17641698, 4.18468003, 4.19294307,\n",
       "        4.20120611, 4.20946916, 4.2177322 , 4.22599524, 4.23425829,\n",
       "        4.24252133, 4.25078438, 4.25904742, 4.26731046, 4.27557351,\n",
       "        4.28383655]))"
      ]
     },
     "execution_count": 235,
     "metadata": {},
     "output_type": "execute_result"
    }
   ],
   "source": [
    "n, bins"
   ]
  },
  {
   "cell_type": "code",
   "execution_count": 236,
   "metadata": {},
   "outputs": [
    {
     "data": {
      "image/png": "[encoded data removed]",
      "text/plain": [
       "<Figure size 640x480 with 1 Axes>"
      ]
     },
     "metadata": {},
     "output_type": "display_data"
    }
   ],
   "source": [
    "plt.plot(.5*(bins[1:]+bins[:-1]), n)\n",
    "plt.show()"
   ]
  },
  {
   "cell_type": "markdown",
   "metadata": {},
   "source": [
    "# Resources / Books"
   ]
  },
  {
   "cell_type": "markdown",
   "metadata": {},
   "source": [
    "* [Official NumPy Docs](https://docs.scipy.org/doc/numpy/user/index.html)\n",
    "\n",
    "* [Python for Data Analysis](https://wesmckinney.com/book/) # excellent, by the creator of Pandas\n",
    "\n",
    "* [Python Data Science Handbook](https://jakevdp.github.io/PythonDataScienceHandbook/index.html)\n",
    "* [NumPy Cookbook](https://www.amazon.com/NumPy-Cookbook-Second-Ivan-Idris-ebook/dp/B00WX3W41A) # some good recipes but uneven, this author has many books on NumPy\n",
    "\n",
    "* [From Python to Numpy](http://www.labri.fr/perso/nrougier/from-python-to-numpy/) # nice free resource "
   ]
  }
 ],
 "metadata": {
  "kernelspec": {
   "display_name": "Python 3 (ipykernel)",
   "language": "python",
   "name": "python3"
  },
  "language_info": {
   "codemirror_mode": {
    "name": "ipython",
    "version": 3
   },
   "file_extension": ".py",
   "mimetype": "text/x-python",
   "name": "python",
   "nbconvert_exporter": "python",
   "pygments_lexer": "ipython3",
   "version": "3.12.7"
  }
 },
 "nbformat": 4,
 "nbformat_minor": 4
}
