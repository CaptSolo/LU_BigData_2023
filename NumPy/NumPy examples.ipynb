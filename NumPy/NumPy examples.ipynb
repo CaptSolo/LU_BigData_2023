{
 "cells": [
  {
   "cell_type": "code",
   "execution_count": null,
   "id": "c4b914be-825a-41bb-9927-81088aec10b4",
   "metadata": {},
   "outputs": [],
   "source": [
    "!pip install matplotlib"
   ]
  },
  {
   "cell_type": "markdown",
   "id": "b30d9fda-7851-46fc-a70f-a78d6fe46467",
   "metadata": {},
   "source": [
    "## Create a fractal image (Mandelbrot set)\n",
    "\n",
    "https://en.wikipedia.org/wiki/Mandelbrot_set"
   ]
  },
  {
   "cell_type": "code",
   "execution_count": null,
   "id": "f7bd6430-2b50-4866-b7d6-664db89c3426",
   "metadata": {},
   "outputs": [],
   "source": [
    "import numpy as np\n",
    "import matplotlib.pyplot as plt\n",
    "\n",
    "def mandelbrot(h, w, max_iter=25):\n",
    "    \"\"\"Generate a Mandelbrot fractal set\"\"\"\n",
    "    y, x = np.ogrid[-1.4:1.4:h*1j, -2:0.8:w*1j]\n",
    "    c = x+y*1j\n",
    "    z = c.copy()\n",
    "    diverge_time = np.zeros(z.shape, dtype=int)\n",
    "\n",
    "    for i in range(max_iter):\n",
    "        z = z**2 + c\n",
    "        diverging = np.abs(z) > 2\n",
    "        diverge_time[diverging] = i\n",
    "        z[diverging] = 2\n",
    "        \n",
    "    return diverge_time\n",
    "\n",
    "plt.imshow(mandelbrot(800, 800), cmap='hot')\n",
    "plt.colorbar()\n",
    "plt.show()\n"
   ]
  },
  {
   "cell_type": "code",
   "execution_count": null,
   "id": "b82d7875-190f-49a9-a731-f1fe6631ed48",
   "metadata": {},
   "outputs": [],
   "source": [
    "import numpy as np\n",
    "import matplotlib.pyplot as plt\n",
    "\n",
    "def mandelbrot(h, w, x_min, x_max, y_min, y_max, max_iter=50):\n",
    "    \"\"\"Generate a zoomed in Mandelbrot fractal set\"\"\"\n",
    "    y, x = np.ogrid[y_min:y_max:h*1j, x_min:x_max:w*1j]\n",
    "    c = x + y * 1j\n",
    "    z = np.zeros_like(c)\n",
    "    diverge_time = np.zeros(c.shape, dtype=int)\n",
    "\n",
    "    for i in range(max_iter):\n",
    "        z = z**2 + c\n",
    "        diverging = np.abs(z) > 2\n",
    "        diverge_time[diverging & (diverge_time == 0)] = i\n",
    "        z[diverging] = 2  # freeze values to avoid overflow\n",
    "\n",
    "    return diverge_time\n",
    "\n",
    "# Define zoom region\n",
    "x_min, x_max = -0.75, -0.73\n",
    "y_min, y_max = 0.1, 0.12\n",
    "width, height = 800, 800\n",
    "\n",
    "image = mandelbrot(height, width, x_min, x_max, y_min, y_max, max_iter=100)\n",
    "\n",
    "plt.figure(figsize=(8, 8))\n",
    "plt.imshow(image, extent=[x_min, x_max, y_min, y_max], cmap='inferno')\n",
    "plt.colorbar(label='Iteration count before divergence')\n",
    "plt.title('Mandelbrot Set')\n",
    "plt.xlabel('Re(c)')\n",
    "plt.ylabel('Im(c)')\n",
    "plt.show()"
   ]
  },
  {
   "cell_type": "markdown",
   "id": "2165422e-e3ac-4d92-b3b6-4c7417700d58",
   "metadata": {},
   "source": [
    "## Fourier transform of a signal"
   ]
  },
  {
   "cell_type": "code",
   "execution_count": null,
   "id": "821ebb6c-3b08-472c-9e30-5ebce7fcb72d",
   "metadata": {},
   "outputs": [],
   "source": [
    "import numpy as np\n",
    "import matplotlib.pyplot as plt\n",
    "\n",
    "# Create a signal with two frequencies\n",
    "t = np.linspace(0, 1, 1000, endpoint=True)\n",
    "signal = np.sin(2 * np.pi * 50 * t) + np.sin(2 * np.pi * 120 * t)\n",
    "\n",
    "plt.plot(signal[:100])\n",
    "plt.show()\n",
    "\n",
    "# Compute Fourier transform\n",
    "freq = np.fft.fftfreq(t.shape[-1])\n",
    "spectrum = np.fft.fft(signal)\n",
    "\n",
    "# Plot the frequencies\n",
    "plt.plot(np.abs(freq), np.abs(spectrum))\n",
    "plt.title('Frequency domain')\n",
    "plt.show()\n"
   ]
  },
  {
   "cell_type": "code",
   "execution_count": null,
   "id": "f4babd52-f0a5-40a9-971c-6ef51484a03c",
   "metadata": {},
   "outputs": [],
   "source": []
  }
 ],
 "metadata": {
  "kernelspec": {
   "display_name": "Python 3 (ipykernel)",
   "language": "python",
   "name": "python3"
  },
  "language_info": {
   "codemirror_mode": {
    "name": "ipython",
    "version": 3
   },
   "file_extension": ".py",
   "mimetype": "text/x-python",
   "name": "python",
   "nbconvert_exporter": "python",
   "pygments_lexer": "ipython3",
   "version": "3.12.7"
  }
 },
 "nbformat": 4,
 "nbformat_minor": 5
}
